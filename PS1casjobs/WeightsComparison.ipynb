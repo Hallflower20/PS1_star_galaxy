{
 "cells": [
  {
   "cell_type": "markdown",
   "metadata": {},
   "source": [
    "# How to Weight the White Flux Measurements\n",
    "\n",
    "We recently found that the use of aperture flux measurements, when compared to PSF flux measurements, provides excellent discrimination for stars and galaxies. The catch in this case, however, is that due to a limited query the aperture fluxes were weighted using the PSF flux uncertainties. When weighting with the aperture flux measurements with the aperture flux uncertainties this discriminating power vanishes. \n",
    "\n",
    "This notebook investigates the effects and discriminating power that is possible with different weighting schemes [while only examining photometry from the stack catalog - the assumption is that these results generalize to the Mean and Forced photometry catalogs, but that is not proven]."
   ]
  },
  {
   "cell_type": "code",
   "execution_count": 2,
   "metadata": {},
   "outputs": [],
   "source": [
    "import numpy as np\n",
    "import pandas as pd\n",
    "from astropy.io import fits\n",
    "import matplotlib.pyplot as plt\n",
    "%matplotlib notebook"
   ]
  },
  {
   "cell_type": "code",
   "execution_count": 3,
   "metadata": {
    "collapsed": true
   },
   "outputs": [],
   "source": [
    "hst_data = fits.getdata(\"HST_COSMOS_features_adamamiller.fit\")"
   ]
  },
  {
   "cell_type": "markdown",
   "metadata": {},
   "source": [
    "To determine the weighted white flux for a source, an individual filter can only be included if the source is detected in that filter, where detection is defined as: \n",
    "\n",
    "  1. `PSFFlux > 0`\n",
    "  2. `ApFlux > 0`\n",
    "  3. `KronFlux > 0`\n",
    "\n",
    "[As a brief side note - the same test for Mean and Forced photometry from PS1 needs to include `FluxErr` as well]"
   ]
  },
  {
   "cell_type": "code",
   "execution_count": 98,
   "metadata": {},
   "outputs": [],
   "source": [
    "for filt in ['g','r','i','z','y']:\n",
    "    exec(\"\"\"det_{0} = np.logical_and.reduce((hst_data['{0}PSFFlux'] > 0, \n",
    "                                             hst_data['{0}ApFlux'] > 0, \n",
    "                                             hst_data['{0}KronFlux'] > 0))\"\"\".format(filt))\n",
    "det_arr = np.vstack((det_g, det_r, det_i, det_z, det_y))"
   ]
  },
  {
   "cell_type": "code",
   "execution_count": 110,
   "metadata": {},
   "outputs": [],
   "source": [
    "def calc_wwFlux(flux_type, weight_type, flux_table, det_arr):\n",
    "    flux_arr = np.zeros_like(det_arr).astype(float)\n",
    "    flux_unc_arr = np.zeros_like(det_arr).astype(float)\n",
    "    for filtnum, filt in enumerate(['g','r','i','z','y']): \n",
    "        flux_col = filt + flux_type\n",
    "        unc_col = filt + weight_type\n",
    "        flux_arr[filtnum] = np.divide(flux_table[flux_col]**3, \n",
    "                                      flux_table[unc_col]**2, \n",
    "                                      where=det_arr[filtnum])\n",
    "        flux_unc_arr[filtnum] = np.divide(flux_table[flux_col]**2, \n",
    "                                          flux_table[unc_col]**2,\n",
    "                                          where=det_arr[filtnum])\n",
    "    return np.divide(np.sum(flux_arr, axis=0), \n",
    "                     np.sum(flux_unc_arr, axis=0), \n",
    "                     where=np.sum(flux_unc_arr, axis=0)>0, \n",
    "                     out=-999*np.ones_like(flux_unc_arr[0]))"
   ]
  },
  {
   "cell_type": "markdown",
   "metadata": {},
   "source": [
    "### Compare flux ratios for different weighting schemes\n",
    "\n",
    "We want to compare the difference in flux ratios (PSF/Kron and PSF/Ap) for stars and galaxies using different weighting schemes, as follows: (i) using the corresponding uncertainties, (ii) using the PSF uncertainties, (iii) using the Kron uncertainties, and (iv) using the Ap uncertainties."
   ]
  },
  {
   "cell_type": "code",
   "execution_count": 116,
   "metadata": {},
   "outputs": [
    {
     "data": {
      "text/plain": [
       "array([  4.99998418e-01,   7.49992941e-01,   4.99913650e-01, ...,\n",
       "         1.90710944e-09,   1.40624742e-05,   1.07889069e-05])"
      ]
     },
     "execution_count": 116,
     "metadata": {},
     "output_type": "execute_result"
    }
   ],
   "source": [
    "psf_psf_ww = calc_wwFlux('PSFFlux', 'PSFFluxErr', hst_data, det_arr)\n",
    "kron_kron_ww = calc_wwFlux('KronFlux', 'KronFluxErr', hst_data, det_arr)\n",
    "ap_ap_ww = calc_wwFlux('ApFlux', 'ApFluxErr', hst_data, det_arr)\n",
    "\n",
    "fig, (ax1, ax2) = plt.subplots(2, 1, figsize=)"
   ]
  },
  {
   "cell_type": "code",
   "execution_count": 101,
   "metadata": {},
   "outputs": [],
   "source": [
    "flux_type = 'PSFFlux'\n",
    "weight_type = 'PSFFluxErr'\n",
    "flux_table = hst_data"
   ]
  },
  {
   "cell_type": "code",
   "execution_count": 104,
   "metadata": {},
   "outputs": [],
   "source": [
    "    flux_arr = np.zeros_like(det_arr).astype(float)\n",
    "    flux_unc_arr = np.zeros_like(det_arr)"
   ]
  },
  {
   "cell_type": "code",
   "execution_count": 105,
   "metadata": {},
   "outputs": [
    {
     "data": {
      "text/plain": [
       "array([[ 0.,  0.,  0., ...,  0.,  0.,  0.],\n",
       "       [ 0.,  0.,  0., ...,  0.,  0.,  0.],\n",
       "       [ 0.,  0.,  0., ...,  0.,  0.,  0.],\n",
       "       [ 0.,  0.,  0., ...,  0.,  0.,  0.],\n",
       "       [ 0.,  0.,  0., ...,  0.,  0.,  0.]])"
      ]
     },
     "execution_count": 105,
     "metadata": {},
     "output_type": "execute_result"
    }
   ],
   "source": [
    "flux_arr"
   ]
  },
  {
   "cell_type": "code",
   "execution_count": null,
   "metadata": {
    "collapsed": true
   },
   "outputs": [],
   "source": []
  }
 ],
 "metadata": {
  "kernelspec": {
   "display_name": "Python 3",
   "language": "python",
   "name": "python3"
  },
  "language_info": {
   "codemirror_mode": {
    "name": "ipython",
    "version": 3
   },
   "file_extension": ".py",
   "mimetype": "text/x-python",
   "name": "python",
   "nbconvert_exporter": "python",
   "pygments_lexer": "ipython3",
   "version": "3.6.0"
  }
 },
 "nbformat": 4,
 "nbformat_minor": 2
}
