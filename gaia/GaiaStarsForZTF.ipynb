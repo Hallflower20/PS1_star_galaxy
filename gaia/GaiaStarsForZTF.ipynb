{
 "cells": [
  {
   "cell_type": "code",
   "execution_count": 1,
   "metadata": {
    "collapsed": true
   },
   "outputs": [],
   "source": [
    "import numpy as np\n",
    "import pandas as pd\n",
    "from astropy.io import fits\n",
    "import glob\n",
    "\n",
    "import matplotlib.pyplot as plt\n",
    "%matplotlib notebook"
   ]
  },
  {
   "cell_type": "markdown",
   "metadata": {},
   "source": [
    "The following query was used to select **obvious stars** from the Gaia-PS1 crossmatch table: \n",
    "\n",
    "    select ps1.*,\n",
    "    sqrt(power(pmra,2) + power(pmdec,2)) as pm, \n",
    "    sqrt( power(pmra,2)*power(pmra_error, 2)/sqrt(power(pmra,2) + power(pmdec,2)) + power(pmdec,2)*power(pmdec_error, 2)/sqrt(power(pmra,2) + power(pmdec,2)) + 2*pmra*pmdec/sqrt(power(pmra,2) + power(pmdec,2))*pmra_pmdec_corr*pmra_error*pmdec_error) as pm_unc, gaia.parallax_over_error, gaia.phot_g_mean_mag, gaia.b\n",
    "    from gaiadr2.panstarrs1_best_neighbour as ps1 \n",
    "    inner join gaiadr2.gaia_source as gaia\n",
    "    on ps1.source_id = gaia.source_id\n",
    "    where gaia.astrometric_params_solved > 3\n",
    "    and gaia.dec between -10 and -5\n",
    "    order by ps1.original_ext_source_id\n",
    "\n",
    "where the above query produced the file `dec_neg10-result.fits` and the declination range was adjusted to create all the other files."
   ]
  },
  {
   "cell_type": "markdown",
   "metadata": {},
   "source": [
    "## Create the loop to put all the objid into a single file"
   ]
  },
  {
   "cell_type": "code",
   "execution_count": 2,
   "metadata": {},
   "outputs": [
    {
     "name": "stdout",
     "output_type": "stream",
     "text": [
      "0 tmp_dec_0-result.fits 5110330 0.2785525751203967\n",
      "1 tmp_dec_10-result.fits 6201924 0.3102805221441797\n",
      "2 tmp_dec_15-result.fits 6388247 0.33154770897609953\n",
      "3 tmp_dec_20-result.fits 6295005 0.36693749488502947\n",
      "4 tmp_dec_25-result.fits 6546555 0.38685338294280763\n",
      "5 tmp_dec_30-result.fits 6623007 0.4031074726721968\n",
      "6 tmp_dec_35-result.fits 6179851 0.3929004483242074\n",
      "7 tmp_dec_40-result.fits 5282462 0.3654211750590662\n",
      "8 tmp_dec_45-result.fits 5894353 0.3746364213648445\n",
      "9 tmp_dec_5-result.fits 5605183 0.290260165596692\n",
      "10 tmp_dec_50-result.fits 5475649 0.3535374150626149\n",
      "11 tmp_dec_55-result.fits 4744850 0.34625376248167516\n",
      "12 tmp_dec_60-result.fits 3734292 0.34639539491552845\n",
      "13 tmp_dec_65-result.fits 2158858 0.3281036444089149\n",
      "14 tmp_dec_70-result.fits 1530683 0.3572964494044215\n",
      "15 tmp_dec_75-result.fits 929391 0.4103992666261003\n",
      "16 tmp_dec_80-result.fits 511089 0.4380596394479867\n",
      "17 tmp_dec_85-result.fits 147613 0.47411544786474125\n",
      "18 tmp_dec_neg10-result.fits 5541367 0.2935190508049893\n",
      "19 tmp_dec_neg15-result.fits 5887904 0.29192532202421584\n",
      "20 tmp_dec_neg20-result.fits 7390034 0.32514634157931166\n",
      "21 tmp_dec_neg25-result.fits 8190602 0.3698469966476895\n",
      "22 tmp_dec_neg30-result.fits 9387929 0.3746092719528659\n",
      "23 tmp_dec_neg35-result.fits 4518793 0.3634108819643841\n",
      "24 tmp_dec_neg5-result.fits 4908061 0.28233799879380816\n"
     ]
    }
   ],
   "source": [
    "gaia_dir = \"/Users/adamamiller/Desktop/PS1_fits/gaia_stars/\"\n",
    "gaia_files = glob.glob(gaia_dir + \"tmp_dec*fits\")\n",
    "for file_num, gf in enumerate(gaia_files):\n",
    "    gdat = fits.getdata(gf)\n",
    "    def_stars = np.where(((gdat['pm']/gdat['pm_unc'] >= 8) | \n",
    "                         (gdat['parallax_over_error'] >= 11)) & \n",
    "                         (gdat['number_of_neighbours'] == 1) & \n",
    "                         (gdat['number_of_mates'] == 0))\n",
    "    tmp_df = pd.DataFrame(gdat['original_ext_source_id'][def_stars], columns=['objid'])\n",
    "    big_df = tmp_df.copy()\n",
    "    big_df['pm_over_error'] = gdat['pm'][def_stars]/gdat['pm_unc'][def_stars]\n",
    "    big_df['parallax_over_error'] = gdat['parallax_over_error'][def_stars]\n",
    "    big_df['g_mag'] = gdat['phot_g_mean_mag'][def_stars]\n",
    "    \n",
    "    print(file_num, gf.split(\"/\")[-1], len(gdat[def_stars]), \n",
    "          len(def_stars[0])/len(gdat))\n",
    "    if file_num == 0:\n",
    "        master_df = tmp_df.copy()\n",
    "        master_big = big_df.copy()\n",
    "    else:\n",
    "        master_df = master_df.append(tmp_df, ignore_index=True)\n",
    "        master_big = master_big.append(big_df, ignore_index=True)"
   ]
  },
  {
   "cell_type": "code",
   "execution_count": 3,
   "metadata": {},
   "outputs": [
    {
     "data": {
      "text/plain": [
       "125184032"
      ]
     },
     "execution_count": 3,
     "metadata": {},
     "output_type": "execute_result"
    }
   ],
   "source": [
    "master_df.to_hdf(gaia_dir + \"ps1_objid_4_gaia_stars.h5\", \"d1\")\n",
    "len(master_df)"
   ]
  },
  {
   "cell_type": "code",
   "execution_count": 4,
   "metadata": {},
   "outputs": [
    {
     "data": {
      "text/plain": [
       "125184032"
      ]
     },
     "execution_count": 4,
     "metadata": {},
     "output_type": "execute_result"
    }
   ],
   "source": [
    "master_big.to_hdf(gaia_dir + \"ps1_gaia_mag_pm_plx.h5\", \"d1\")\n",
    "len(master_big)"
   ]
  }
 ],
 "metadata": {
  "kernelspec": {
   "display_name": "Python 3",
   "language": "python",
   "name": "python3"
  },
  "language_info": {
   "codemirror_mode": {
    "name": "ipython",
    "version": 3
   },
   "file_extension": ".py",
   "mimetype": "text/x-python",
   "name": "python",
   "nbconvert_exporter": "python",
   "pygments_lexer": "ipython3",
   "version": "3.6.0"
  }
 },
 "nbformat": 4,
 "nbformat_minor": 2
}
