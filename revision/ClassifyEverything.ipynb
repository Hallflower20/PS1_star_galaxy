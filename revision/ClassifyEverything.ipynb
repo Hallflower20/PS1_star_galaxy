{
 "cells": [
  {
   "cell_type": "code",
   "execution_count": 1,
   "metadata": {},
   "outputs": [],
   "source": [
    "import sys,os,math\n",
    "import numpy as np\n",
    "import pandas as pd\n",
    "from matplotlib import pyplot as plt\n",
    "%matplotlib notebook\n",
    "from sklearn.ensemble import RandomForestClassifier\n",
    "from sklearn.metrics import roc_curve, accuracy_score, auc, make_scorer\n",
    "from scipy import stats\n",
    "from numpy import interp\n",
    "from sklearn.model_selection import GridSearchCV, KFold, StratifiedKFold\n",
    "from astropy.table import Table\n",
    "import time\n",
    "import astropy\n",
    "import glob\n",
    "import pickle"
   ]
  },
  {
   "cell_type": "code",
   "execution_count": 2,
   "metadata": {},
   "outputs": [],
   "source": [
    "fnames = ['objid', 'wwE1',\n",
    " 'wwE2',\n",
    " 'wwFPSFKronDist',\n",
    " 'wwFPSFApDist',\n",
    " 'wwFPSFApRatio',\n",
    " 'wwFPSFKronRatio',\n",
    " 'wwFPSFflxR5Ratio',\n",
    " 'wwFPSFflxR6Ratio',\n",
    " 'wwFPSFflxR7Ratio']\n",
    "features = ['wwE1',\n",
    " 'wwE2',\n",
    " 'wwFPSFKronDist',\n",
    " 'wwFPSFApDist',\n",
    " 'wwFPSFApRatio',\n",
    " 'wwFPSFKronRatio',\n",
    " 'wwFPSFflxR5Ratio',\n",
    " 'wwFPSFflxR6Ratio',\n",
    " 'wwFPSFflxR7Ratio']\n"
   ]
  },
  {
   "cell_type": "code",
   "execution_count": 3,
   "metadata": {},
   "outputs": [],
   "source": [
    "data_dir = \"/home/xhall/Documents/PS1_MLData/\"\n",
    "data_files = np.sort(glob.glob(data_dir + \"/*.fit\"))"
   ]
  },
  {
   "cell_type": "code",
   "execution_count": 4,
   "metadata": {},
   "outputs": [],
   "source": [
    "classifier = pickle.load(open(\"model.model\", 'rb'))"
   ]
  },
  {
   "cell_type": "code",
   "execution_count": 5,
   "metadata": {},
   "outputs": [
    {
     "data": {
      "text/plain": [
       "RandomForestClassifier(bootstrap=True, ccp_alpha=0.0, class_weight=None,\n",
       "                       criterion='gini', max_depth=None, max_features=3,\n",
       "                       max_leaf_nodes=None, max_samples=None,\n",
       "                       min_impurity_decrease=0.0, min_impurity_split=None,\n",
       "                       min_samples_leaf=2, min_samples_split=2,\n",
       "                       min_weight_fraction_leaf=0.0, n_estimators=900,\n",
       "                       n_jobs=-1, oob_score=False, random_state=20, verbose=0,\n",
       "                       warm_start=False)"
      ]
     },
     "execution_count": 5,
     "metadata": {},
     "output_type": "execute_result"
    }
   ],
   "source": [
    "classifier"
   ]
  },
  {
   "cell_type": "code",
   "execution_count": 6,
   "metadata": {},
   "outputs": [],
   "source": [
    "counter = 0\n",
    "mldata_nona_list = []\n",
    "for i in data_files:\n",
    "    mldata = (Table.read(i)[fnames]).to_pandas()\n",
    "    mldata_nona_list.append(mldata.dropna())"
   ]
  },
  {
   "cell_type": "code",
   "execution_count": 7,
   "metadata": {},
   "outputs": [],
   "source": [
    "mldata_nona = pd.concat(mldata_nona_list, ignore_index = \"True\")"
   ]
  },
  {
   "cell_type": "code",
   "execution_count": null,
   "metadata": {},
   "outputs": [],
   "source": [
    "mldata_nona.to_hdf(data_dir + \"PS1_MLData.hdf\", \"data_table\")"
   ]
  },
  {
   "cell_type": "code",
   "execution_count": 11,
   "metadata": {},
   "outputs": [
    {
     "data": {
      "text/plain": [
       "144870754"
      ]
     },
     "execution_count": 11,
     "metadata": {},
     "output_type": "execute_result"
    }
   ],
   "source": [
    "sums = 0\n",
    "for i in mldata_nona_list:\n",
    "    sums += len(i)\n",
    "sums"
   ]
  },
  {
   "cell_type": "code",
   "execution_count": 6,
   "metadata": {},
   "outputs": [],
   "source": [
    "mldata_nona = pd.read_hdf(data_dir + \"PS1_MLData.hdf\")"
   ]
  },
  {
   "cell_type": "code",
   "execution_count": 7,
   "metadata": {},
   "outputs": [],
   "source": [
    "objids = np.asarray(mldata_nona[\"objid\"])\n",
    "X_hst = np.asarray(mldata_nona[features])"
   ]
  },
  {
   "cell_type": "code",
   "execution_count": 9,
   "metadata": {},
   "outputs": [],
   "source": [
    "N_split = 10\n",
    "split_data = np.array_split(X_hst, N_split)\n",
    "split_predicted = []\n",
    "for data in split_data:\n",
    "    split_predicted.append(classifier.predict_proba(data))\n",
    "\n",
    "predictions = np.concatenate(split_predicted)"
   ]
  },
  {
   "cell_type": "code",
   "execution_count": 16,
   "metadata": {},
   "outputs": [
    {
     "data": {
      "text/plain": [
       "array([0.40230952, 0.38779101, 0.2814246 , ..., 0.39169974, 0.87128527,\n",
       "       0.15198633])"
      ]
     },
     "execution_count": 16,
     "metadata": {},
     "output_type": "execute_result"
    }
   ],
   "source": [
    "predictions[:,1]"
   ]
  },
  {
   "cell_type": "code",
   "execution_count": 14,
   "metadata": {},
   "outputs": [
    {
     "data": {
      "text/plain": [
       "144870754"
      ]
     },
     "execution_count": 14,
     "metadata": {},
     "output_type": "execute_result"
    }
   ],
   "source": [
    "len(df_out)"
   ]
  },
  {
   "cell_type": "code",
   "execution_count": 17,
   "metadata": {},
   "outputs": [],
   "source": [
    "df_out = pd.DataFrame(data=objids, columns=[\"objid\"])\n",
    "df_out[\"rf_score\"] = predictions[:,1]\n",
    "df_out.to_hdf(data_dir + \"class_table.hdf\", \"class_table\")"
   ]
  },
  {
   "cell_type": "code",
   "execution_count": 4,
   "metadata": {},
   "outputs": [],
   "source": [
    "class_table = pd.read_hdf(data_dir + \"class_table.hdf\")"
   ]
  },
  {
   "cell_type": "code",
   "execution_count": 9,
   "metadata": {},
   "outputs": [],
   "source": [
    "class_table.to_csv(data_dir + \"class_table.ascii\", sep = \" \", index=False)"
   ]
  },
  {
   "cell_type": "code",
   "execution_count": 14,
   "metadata": {},
   "outputs": [
    {
     "data": {
      "text/plain": [
       "12"
      ]
     },
     "execution_count": 14,
     "metadata": {},
     "output_type": "execute_result"
    }
   ],
   "source": [
    "file = open(data_dir + \"class_table.ascii\", \"w\")\n",
    "file.write(\"objid score\\n\")"
   ]
  },
  {
   "cell_type": "code",
   "execution_count": 26,
   "metadata": {},
   "outputs": [],
   "source": [
    "for i in Table.from_pandas(class_table):\n",
    "    file.write(\"%s %5.3f\\n\" % (i[\"objid\"], i[\"rf_score\"]))\n",
    "file.close()"
   ]
  },
  {
   "cell_type": "code",
   "execution_count": 24,
   "metadata": {},
   "outputs": [
    {
     "data": {
      "text/plain": [
       "'150333149759523988 0.402\\n'"
      ]
     },
     "execution_count": 24,
     "metadata": {},
     "output_type": "execute_result"
    }
   ],
   "source": [
    "\"%s %5.3f\\n\" % (i[\"objid\"], i[\"rf_score\"])"
   ]
  },
  {
   "cell_type": "code",
   "execution_count": 22,
   "metadata": {},
   "outputs": [
    {
     "name": "stdout",
     "output_type": "stream",
     "text": [
      "      objid              rf_score     \n",
      "------------------ -------------------\n",
      "150333149759523988 0.40230952380952373\n"
     ]
    }
   ],
   "source": [
    "for i in Table.from_pandas(class_table):\n",
    "    print(i)\n",
    "    break"
   ]
  },
  {
   "cell_type": "code",
   "execution_count": null,
   "metadata": {},
   "outputs": [],
   "source": []
  }
 ],
 "metadata": {
  "kernelspec": {
   "display_name": "Python 3",
   "language": "python",
   "name": "python3"
  },
  "language_info": {
   "codemirror_mode": {
    "name": "ipython",
    "version": 3
   },
   "file_extension": ".py",
   "mimetype": "text/x-python",
   "name": "python",
   "nbconvert_exporter": "python",
   "pygments_lexer": "ipython3",
   "version": "3.7.6"
  }
 },
 "nbformat": 4,
 "nbformat_minor": 4
}
