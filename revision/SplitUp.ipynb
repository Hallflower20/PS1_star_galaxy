{
 "cells": [
  {
   "cell_type": "code",
   "execution_count": 1,
   "metadata": {},
   "outputs": [],
   "source": [
    "import numpy as np\n",
    "import pandas as pd \n",
    "from astropy.io import fits\n",
    "import matplotlib.pyplot as plt\n",
    "from astropy.table import Table\n",
    "\n",
    "%matplotlib notebook"
   ]
  },
  {
   "cell_type": "code",
   "execution_count": 4,
   "metadata": {},
   "outputs": [],
   "source": [
    "table_dir = r\"/home/xhall/Documents/\""
   ]
  },
  {
   "cell_type": "code",
   "execution_count": 5,
   "metadata": {},
   "outputs": [
    {
     "name": "stderr",
     "output_type": "stream",
     "text": [
      "/home/xhall/anaconda3/lib/python3.7/site-packages/IPython/core/interactiveshell.py:3063: DtypeWarning: Columns (0) have mixed types.Specify dtype option on import or set low_memory=False.\n",
      "  interactivity=interactivity, compiler=compiler, result=result)\n"
     ]
    }
   ],
   "source": [
    "unclassified_stars = pd.read_table(table_dir + \"/stars_20180814_score0.5.txt\", low_memory=False)"
   ]
  },
  {
   "cell_type": "code",
   "execution_count": 6,
   "metadata": {},
   "outputs": [
    {
     "data": {
      "text/html": [
       "<div>\n",
       "<style scoped>\n",
       "    .dataframe tbody tr th:only-of-type {\n",
       "        vertical-align: middle;\n",
       "    }\n",
       "\n",
       "    .dataframe tbody tr th {\n",
       "        vertical-align: top;\n",
       "    }\n",
       "\n",
       "    .dataframe thead th {\n",
       "        text-align: right;\n",
       "    }\n",
       "</style>\n",
       "<table border=\"1\" class=\"dataframe\">\n",
       "  <thead>\n",
       "    <tr style=\"text-align: right;\">\n",
       "      <th></th>\n",
       "      <th>strid</th>\n",
       "    </tr>\n",
       "  </thead>\n",
       "  <tbody>\n",
       "    <tr>\n",
       "      <th>0</th>\n",
       "      <td>--------------------</td>\n",
       "    </tr>\n",
       "    <tr>\n",
       "      <th>1</th>\n",
       "      <td>150323150029637157</td>\n",
       "    </tr>\n",
       "    <tr>\n",
       "      <th>2</th>\n",
       "      <td>150323149999958026</td>\n",
       "    </tr>\n",
       "    <tr>\n",
       "      <th>3</th>\n",
       "      <td>150333150081438172</td>\n",
       "    </tr>\n",
       "    <tr>\n",
       "      <th>4</th>\n",
       "      <td>150333149908634462</td>\n",
       "    </tr>\n",
       "    <tr>\n",
       "      <th>...</th>\n",
       "      <td>...</td>\n",
       "    </tr>\n",
       "    <tr>\n",
       "      <th>426747255</th>\n",
       "      <td>150323149671086112</td>\n",
       "    </tr>\n",
       "    <tr>\n",
       "      <th>426747256</th>\n",
       "      <td>150303149735711559</td>\n",
       "    </tr>\n",
       "    <tr>\n",
       "      <th>426747257</th>\n",
       "      <td>150293149927455486</td>\n",
       "    </tr>\n",
       "    <tr>\n",
       "      <th>426747258</th>\n",
       "      <td>150323149734994726</td>\n",
       "    </tr>\n",
       "    <tr>\n",
       "      <th>426747259</th>\n",
       "      <td>(426747258 rows)</td>\n",
       "    </tr>\n",
       "  </tbody>\n",
       "</table>\n",
       "<p>426747260 rows × 1 columns</p>\n",
       "</div>"
      ],
      "text/plain": [
       "                  strid        \n",
       "0          --------------------\n",
       "1            150323150029637157\n",
       "2            150323149999958026\n",
       "3            150333150081438172\n",
       "4            150333149908634462\n",
       "...                         ...\n",
       "426747255    150323149671086112\n",
       "426747256    150303149735711559\n",
       "426747257    150293149927455486\n",
       "426747258    150323149734994726\n",
       "426747259      (426747258 rows)\n",
       "\n",
       "[426747260 rows x 1 columns]"
      ]
     },
     "execution_count": 6,
     "metadata": {},
     "output_type": "execute_result"
    }
   ],
   "source": [
    "unclassified_stars 426747258 426746434"
   ]
  },
  {
   "cell_type": "code",
   "execution_count": 46,
   "metadata": {},
   "outputs": [],
   "source": [
    "split_table = []\n",
    "unclassified_stars_len = len(unclassified_stars)\n",
    "ranges = np.linspace(1, unclassified_stars_len-1, 40)\n",
    "for i in range(len(ranges)-1):\n",
    "    split_table.append(unclassified_stars.iloc[int(ranges[i]):int(ranges[i+1])])"
   ]
  },
  {
   "cell_type": "code",
   "execution_count": 47,
   "metadata": {},
   "outputs": [],
   "source": [
    "for i in range(len(split_table)):\n",
    "    split_table[i].to_csv(table_dir + \"/stars_20180814_\" + str(i) + \".csv\", index = False)"
   ]
  },
  {
   "cell_type": "code",
   "execution_count": 5,
   "metadata": {},
   "outputs": [
    {
     "name": "stderr",
     "output_type": "stream",
     "text": [
      "WARNING: OverflowError converting to IntType in column strid, reverting to String. [astropy.io.ascii.fastbasic]\n"
     ]
    },
    {
     "data": {
      "text/html": [
       "<i>Table length=10942237</i>\n",
       "<table id=\"table2564082132872\" class=\"table-striped table-bordered table-condensed\">\n",
       "<thead><tr><th>strid</th></tr></thead>\n",
       "<thead><tr><th>str18</th></tr></thead>\n",
       "<tr><td>150323150029637157</td></tr>\n",
       "<tr><td>150323149999958026</td></tr>\n",
       "<tr><td>150333150081438172</td></tr>\n",
       "<tr><td>150333149908634462</td></tr>\n",
       "<tr><td>150333149759523988</td></tr>\n",
       "<tr><td>150333149886119412</td></tr>\n",
       "<tr><td>150333150035078057</td></tr>\n",
       "<tr><td>150343150089180587</td></tr>\n",
       "<tr><td>150333149933909153</td></tr>\n",
       "<tr><td>150343149988352339</td></tr>\n",
       "<tr><td>...</td></tr>\n",
       "<tr><td>176453462589268157</td></tr>\n",
       "<tr><td>176463462304451809</td></tr>\n",
       "<tr><td>176453462902475764</td></tr>\n",
       "<tr><td>176463462910502998</td></tr>\n",
       "<tr><td>176453463163957555</td></tr>\n",
       "<tr><td>176463463090194267</td></tr>\n",
       "<tr><td>176463462730575368</td></tr>\n",
       "<tr><td>176463462891294636</td></tr>\n",
       "<tr><td>176463462857178420</td></tr>\n",
       "<tr><td>176473462699192293</td></tr>\n",
       "</table>"
      ],
      "text/plain": [
       "<Table length=10942237>\n",
       "      strid       \n",
       "      str18       \n",
       "------------------\n",
       "150323150029637157\n",
       "150323149999958026\n",
       "150333150081438172\n",
       "150333149908634462\n",
       "150333149759523988\n",
       "150333149886119412\n",
       "150333150035078057\n",
       "150343150089180587\n",
       "150333149933909153\n",
       "150343149988352339\n",
       "               ...\n",
       "176453462589268157\n",
       "176463462304451809\n",
       "176453462902475764\n",
       "176463462910502998\n",
       "176453463163957555\n",
       "176463463090194267\n",
       "176463462730575368\n",
       "176463462891294636\n",
       "176463462857178420\n",
       "176473462699192293"
      ]
     },
     "execution_count": 5,
     "metadata": {},
     "output_type": "execute_result"
    }
   ],
   "source": [
    "Table.read(table_dir + \"stars_20180814_0.csv\")"
   ]
  },
  {
   "cell_type": "code",
   "execution_count": null,
   "metadata": {},
   "outputs": [],
   "source": []
  }
 ],
 "metadata": {
  "kernelspec": {
   "display_name": "Python 3",
   "language": "python",
   "name": "python3"
  },
  "language_info": {
   "codemirror_mode": {
    "name": "ipython",
    "version": 3
   },
   "file_extension": ".py",
   "mimetype": "text/x-python",
   "name": "python",
   "nbconvert_exporter": "python",
   "pygments_lexer": "ipython3",
   "version": "3.7.6"
  }
 },
 "nbformat": 4,
 "nbformat_minor": 4
}
