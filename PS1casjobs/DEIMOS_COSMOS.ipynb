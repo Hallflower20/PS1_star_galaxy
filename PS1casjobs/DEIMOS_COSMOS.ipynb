{
 "cells": [
  {
   "cell_type": "markdown",
   "metadata": {},
   "source": [
    "# Accuracy vs Mag DEIMOS Spec Test Set\n",
    "\n",
    "In this notebook we examine the accuracy as a function of magnitude for sources with spectroscopic classifications from DEIMOS COSMOS survey. The DEIMOS set contains $\\sim$ 10K sources, and $\\sim$ 2.7K sources are crossmatched with PS1 catalog. \n",
    "\n",
    "The overall accuracy for the classification by the ML model we developed is $\\sim$ 95%, but the FoM @FPR=0.05 is lower than 0.4, which is worse than the FoM obtained with HSTxPS1 catalog.  Although the uncertainty of the accuracy and the FoM should be larger than that with the HSTxPS1 catalog because the number of sources contained in the DEIMOSxPS1 is much smaller, we have to investigate the reason for it. "
   ]
  },
  {
   "cell_type": "code",
   "execution_count": 1,
   "metadata": {
    "collapsed": false
   },
   "outputs": [],
   "source": [
    "import numpy as np\n",
    "import pandas as pd\n",
    "from matplotlib import pyplot as plt\n",
    "%matplotlib inline"
   ]
  },
  {
   "cell_type": "code",
   "execution_count": 2,
   "metadata": {
    "collapsed": false
   },
   "outputs": [],
   "source": [
    "_df = pd.read_table('DEIMOS/deimos_10K_March2018/deimos.tbl', header=None)"
   ]
  },
  {
   "cell_type": "code",
   "execution_count": 3,
   "metadata": {
    "collapsed": false
   },
   "outputs": [],
   "source": [
    "arr = np.empty((len(_df), len(_df.iloc[0][0].split())), dtype='<U50')\n",
    "\n",
    "for i in range(len(_df)):\n",
    "    i_row = [k for k in _df.iloc[i][0].split('  ') if (k != '')and(k != ' ')]\n",
    "    for j in range(len(_df.iloc[0][0].split())):\n",
    "        arr[i][j] = i_row[j]"
   ]
  },
  {
   "cell_type": "code",
   "execution_count": 4,
   "metadata": {
    "collapsed": true
   },
   "outputs": [],
   "source": [
    "df = pd.DataFrame(arr)"
   ]
  },
  {
   "cell_type": "code",
   "execution_count": 5,
   "metadata": {
    "collapsed": false
   },
   "outputs": [],
   "source": [
    "ra = np.array(df[1], dtype=float)\n",
    "dec = np.array(df[2], dtype=float)\n",
    "sel = np.array(df[3], dtype=int)\n",
    "imag = np.array(df[4].replace('null', '-999').replace(' null', '-999'), dtype=float)\n",
    "kmag = np.array(df[5].replace('null', '-999').replace(' null', '-999'), dtype=float)\n",
    "zspec = np.array(df[6].replace('null', '-999').replace(' null', '-999'), dtype=float)\n",
    "Qflag = np.array(df[7].replace('null', '-999').replace(' null', '-999'), dtype=int)\n",
    "Q  = np.array(df[8].replace('null', '-999').replace(' null', '-999'), dtype=float)"
   ]
  },
  {
   "cell_type": "code",
   "execution_count": 6,
   "metadata": {
    "collapsed": false
   },
   "outputs": [
    {
     "data": {
      "text/plain": [
       "array([' H+K?', ' [OII],[OIII]', ' [OIII]d', ' M star', ' [OII],H+K?',\n",
       "       ' star', ' Hg,[OIII]?', ' star', ' [OII],[OIII]d', ' [OII],Hb',\n",
       "       ' star', ' Lya,CIV(br),CIII]', ' [OII],K,Hb,MgI', ' [OII]d,K',\n",
       "       ' [OII]d,H+H,Hb,[OIII]d', ' [OII]d,H+K', ' [OII],Hb,[OIII]d',\n",
       "       ' [OII],K,Hb', ' Hb(abs),Ha?', ' [OII]d'], dtype=object)"
      ]
     },
     "execution_count": 6,
     "metadata": {},
     "output_type": "execute_result"
    }
   ],
   "source": [
    "np.array(df[9][0:20])"
   ]
  },
  {
   "cell_type": "code",
   "execution_count": 7,
   "metadata": {
    "collapsed": true
   },
   "outputs": [],
   "source": [
    "sgFlag = np.empty(len(df), dtype=int)\n",
    "\n",
    "for i in range(len(df[9])):\n",
    "    if 'star' in df[9][i]:\n",
    "        sgFlag[i] = 1 # star\n",
    "    elif 'null' in df[9][i]:\n",
    "        sgFlag[i] = -999 # null\n",
    "    else:\n",
    "        sgFlag[i] = 0 # galaxy"
   ]
  },
  {
   "cell_type": "markdown",
   "metadata": {},
   "source": [
    "if \"Remarks\" contains \"star\", the source is classifyed star. "
   ]
  },
  {
   "cell_type": "code",
   "execution_count": 41,
   "metadata": {
    "collapsed": false
   },
   "outputs": [
    {
     "data": {
      "image/png": "[encoded data removed]",
      "text/plain": [
       "<Figure size 432x288 with 1 Axes>"
      ]
     },
     "metadata": {},
     "output_type": "display_data"
    }
   ],
   "source": [
    "plt.hist(imag[sgFlag!=-999], bins=np.arange(15, 28, 0.2), color='0.8', label='All')\n",
    "plt.hist(imag[sgFlag==0], bins=np.arange(15, 28, 0.2), alpha=0.5, label='GALAXY')\n",
    "plt.hist(imag[sgFlag==1], bins=np.arange(15, 28, 0.2), alpha=0.5, label='STAR')\n",
    "plt.yscale('log')\n",
    "plt.xlabel('i mag'); plt.ylabel('#')\n",
    "plt.legend(loc='best')\n",
    "plt.show()"
   ]
  },
  {
   "cell_type": "markdown",
   "metadata": {},
   "source": [
    "The distribution of galaxies looks similar to that of the HST COSMOS catalog, but that of stars has a peak at i-mag$\\sim$22, which is not shown in that of the HSTxPS1 catalog.   "
   ]
  },
  {
   "cell_type": "code",
   "execution_count": 9,
   "metadata": {
    "collapsed": true
   },
   "outputs": [],
   "source": [
    "df = pd.DataFrame()\n",
    "df['ra'] = ra; df['dec'] = dec\n",
    "df['sel'] = sel \n",
    "df['imag'] = imag; df['kmag'] = kmag\n",
    "df['zspec'] = zspec\n",
    "df['Qflag'] = Qflag; df['Q'] = Q\n",
    "df['class'] = sgFlag"
   ]
  },
  {
   "cell_type": "code",
   "execution_count": 42,
   "metadata": {
    "collapsed": false
   },
   "outputs": [
    {
     "data": {
      "text/html": [
       "<div>\n",
       "<style>\n",
       "    .dataframe thead tr:only-child th {\n",
       "        text-align: right;\n",
       "    }\n",
       "\n",
       "    .dataframe thead th {\n",
       "        text-align: left;\n",
       "    }\n",
       "\n",
       "    .dataframe tbody tr th {\n",
       "        vertical-align: top;\n",
       "    }\n",
       "</style>\n",
       "<table border=\"1\" class=\"dataframe\">\n",
       "  <thead>\n",
       "    <tr style=\"text-align: right;\">\n",
       "      <th></th>\n",
       "      <th>ra</th>\n",
       "      <th>dec</th>\n",
       "      <th>sel</th>\n",
       "      <th>imag</th>\n",
       "      <th>kmag</th>\n",
       "      <th>zspec</th>\n",
       "      <th>Qflag</th>\n",
       "      <th>Q</th>\n",
       "      <th>class</th>\n",
       "    </tr>\n",
       "  </thead>\n",
       "  <tbody>\n",
       "    <tr>\n",
       "      <th>0</th>\n",
       "      <td>149.358553</td>\n",
       "      <td>2.750301</td>\n",
       "      <td>512</td>\n",
       "      <td>20.11</td>\n",
       "      <td>20.19</td>\n",
       "      <td>0.5655</td>\n",
       "      <td>2</td>\n",
       "      <td>1.5</td>\n",
       "      <td>0</td>\n",
       "    </tr>\n",
       "    <tr>\n",
       "      <th>1</th>\n",
       "      <td>149.366394</td>\n",
       "      <td>2.376694</td>\n",
       "      <td>128</td>\n",
       "      <td>22.89</td>\n",
       "      <td>21.73</td>\n",
       "      <td>0.7080</td>\n",
       "      <td>3</td>\n",
       "      <td>2.0</td>\n",
       "      <td>0</td>\n",
       "    </tr>\n",
       "    <tr>\n",
       "      <th>2</th>\n",
       "      <td>149.369095</td>\n",
       "      <td>2.344088</td>\n",
       "      <td>128</td>\n",
       "      <td>21.73</td>\n",
       "      <td>19.99</td>\n",
       "      <td>0.7080</td>\n",
       "      <td>3</td>\n",
       "      <td>2.0</td>\n",
       "      <td>0</td>\n",
       "    </tr>\n",
       "    <tr>\n",
       "      <th>3</th>\n",
       "      <td>149.373750</td>\n",
       "      <td>2.776508</td>\n",
       "      <td>2</td>\n",
       "      <td>18.17</td>\n",
       "      <td>17.13</td>\n",
       "      <td>0.0000</td>\n",
       "      <td>4</td>\n",
       "      <td>2.0</td>\n",
       "      <td>1</td>\n",
       "    </tr>\n",
       "    <tr>\n",
       "      <th>4</th>\n",
       "      <td>149.374100</td>\n",
       "      <td>2.736905</td>\n",
       "      <td>2</td>\n",
       "      <td>21.37</td>\n",
       "      <td>19.37</td>\n",
       "      <td>0.5490</td>\n",
       "      <td>2</td>\n",
       "      <td>1.5</td>\n",
       "      <td>0</td>\n",
       "    </tr>\n",
       "    <tr>\n",
       "      <th>5</th>\n",
       "      <td>149.374496</td>\n",
       "      <td>2.415250</td>\n",
       "      <td>2</td>\n",
       "      <td>15.41</td>\n",
       "      <td>15.14</td>\n",
       "      <td>0.0000</td>\n",
       "      <td>4</td>\n",
       "      <td>2.0</td>\n",
       "      <td>1</td>\n",
       "    </tr>\n",
       "    <tr>\n",
       "      <th>6</th>\n",
       "      <td>149.375504</td>\n",
       "      <td>2.423475</td>\n",
       "      <td>128</td>\n",
       "      <td>24.28</td>\n",
       "      <td>21.87</td>\n",
       "      <td>1.0790</td>\n",
       "      <td>1</td>\n",
       "      <td>1.5</td>\n",
       "      <td>0</td>\n",
       "    </tr>\n",
       "    <tr>\n",
       "      <th>7</th>\n",
       "      <td>149.377594</td>\n",
       "      <td>2.363211</td>\n",
       "      <td>2</td>\n",
       "      <td>18.49</td>\n",
       "      <td>18.14</td>\n",
       "      <td>0.0000</td>\n",
       "      <td>4</td>\n",
       "      <td>2.0</td>\n",
       "      <td>1</td>\n",
       "    </tr>\n",
       "    <tr>\n",
       "      <th>8</th>\n",
       "      <td>149.381103</td>\n",
       "      <td>2.361963</td>\n",
       "      <td>512</td>\n",
       "      <td>21.84</td>\n",
       "      <td>20.43</td>\n",
       "      <td>0.7720</td>\n",
       "      <td>4</td>\n",
       "      <td>2.0</td>\n",
       "      <td>0</td>\n",
       "    </tr>\n",
       "    <tr>\n",
       "      <th>9</th>\n",
       "      <td>149.382095</td>\n",
       "      <td>2.409508</td>\n",
       "      <td>128</td>\n",
       "      <td>22.50</td>\n",
       "      <td>20.64</td>\n",
       "      <td>0.9300</td>\n",
       "      <td>3</td>\n",
       "      <td>2.0</td>\n",
       "      <td>0</td>\n",
       "    </tr>\n",
       "  </tbody>\n",
       "</table>\n",
       "</div>"
      ],
      "text/plain": [
       "           ra       dec  sel   imag   kmag   zspec  Qflag    Q  class\n",
       "0  149.358553  2.750301  512  20.11  20.19  0.5655      2  1.5      0\n",
       "1  149.366394  2.376694  128  22.89  21.73  0.7080      3  2.0      0\n",
       "2  149.369095  2.344088  128  21.73  19.99  0.7080      3  2.0      0\n",
       "3  149.373750  2.776508    2  18.17  17.13  0.0000      4  2.0      1\n",
       "4  149.374100  2.736905    2  21.37  19.37  0.5490      2  1.5      0\n",
       "5  149.374496  2.415250    2  15.41  15.14  0.0000      4  2.0      1\n",
       "6  149.375504  2.423475  128  24.28  21.87  1.0790      1  1.5      0\n",
       "7  149.377594  2.363211    2  18.49  18.14  0.0000      4  2.0      1\n",
       "8  149.381103  2.361963  512  21.84  20.43  0.7720      4  2.0      0\n",
       "9  149.382095  2.409508  128  22.50  20.64  0.9300      3  2.0      0"
      ]
     },
     "execution_count": 42,
     "metadata": {},
     "output_type": "execute_result"
    }
   ],
   "source": [
    "df[0:10]"
   ]
  },
  {
   "cell_type": "code",
   "execution_count": 11,
   "metadata": {
    "collapsed": false
   },
   "outputs": [],
   "source": [
    "df.to_csv('./DEIMOS/DEIMOS.csv', index=None)"
   ]
  },
  {
   "cell_type": "code",
   "execution_count": 12,
   "metadata": {
    "collapsed": false
   },
   "outputs": [],
   "source": [
    "import star_galaxy_models\n",
    "rf_obj = star_galaxy_models.RandomForestModel()\n",
    "rf_obj.read_rf_from_pickle()"
   ]
  },
  {
   "cell_type": "code",
   "execution_count": 13,
   "metadata": {
    "collapsed": true
   },
   "outputs": [],
   "source": [
    "features = ['wwpsfChiSq', 'wwExtNSigma', 'wwpsfLikelihood',\n",
    "            'wwPSFKronRatio', 'wwPSFKronDist',  'wwPSFApRatio',\n",
    "            'wwmomentRH', 'wwmomentXX', 'wwmomentXY', 'wwmomentYY', \n",
    "            'wwKronRad']"
   ]
  },
  {
   "cell_type": "code",
   "execution_count": 14,
   "metadata": {
    "collapsed": true
   },
   "outputs": [],
   "source": [
    "from sklearn.metrics import roc_curve, accuracy_score, auc, make_scorer"
   ]
  },
  {
   "cell_type": "markdown",
   "metadata": {},
   "source": [
    "### ROC curve and Accuracy "
   ]
  },
  {
   "cell_type": "code",
   "execution_count": 15,
   "metadata": {
    "collapsed": false
   },
   "outputs": [
    {
     "name": "stdout",
     "output_type": "stream",
     "text": [
      "PS1xDEIMOS catalog constains 4481 sources.\n"
     ]
    }
   ],
   "source": [
    "ps1_dei = pd.read_csv('./DEIMOS/PS1_DEIMOS_features.csv').drop_duplicates(subset='objid')\n",
    "print(\"PS1xDEIMOS catalog constains %i sources.\"%len(ps1_dei))"
   ]
  },
  {
   "cell_type": "code",
   "execution_count": 16,
   "metadata": {
    "collapsed": false
   },
   "outputs": [
    {
     "name": "stdout",
     "output_type": "stream",
     "text": [
      "2709 sources are classified by both of DEIMOS and ML model.\n"
     ]
    }
   ],
   "source": [
    "ps1_dei_det_mask = np.logical_and(ps1_dei['class'] != -999, (ps1_dei.nDetections>0)&(ps1_dei.wwKronFlux>0))\n",
    "ps1_dei = ps1_dei[ps1_dei_det_mask]\n",
    "print(\"%i sources are classified by both of DEIMOS and ML model.\"%len(ps1_dei))"
   ]
  },
  {
   "cell_type": "code",
   "execution_count": 17,
   "metadata": {
    "collapsed": true
   },
   "outputs": [],
   "source": [
    "ps1_df = pd.read_csv('./DEIMOS/HST_COSMOS_features.csv')"
   ]
  },
  {
   "cell_type": "code",
   "execution_count": 18,
   "metadata": {
    "collapsed": false
   },
   "outputs": [
    {
     "name": "stdout",
     "output_type": "stream",
     "text": [
      "2674 sources are not contained in PS1xHST catalog.\n"
     ]
    }
   ],
   "source": [
    "dupl_mask = np.empty(len(ps1_dei), dtype=bool)\n",
    "for i in range(len(dupl_mask)):\n",
    "    dupl_mask[i] = ps1_dei.objid.iloc[i] in np.array(ps1_df.objid)\n",
    "    \n",
    "ps1_dei = ps1_dei[~dupl_mask]\n",
    "print(\"%i sources are not contained in PS1xHST catalog.\"%len(ps1_dei))"
   ]
  },
  {
   "cell_type": "code",
   "execution_count": 19,
   "metadata": {
    "collapsed": false
   },
   "outputs": [],
   "source": [
    "kron_mag = -2.5*np.log10(ps1_dei.wwKronFlux/3631)\n",
    "ps1_dei_features = ps1_dei[features]\n",
    "ps1_dei_class = ps1_dei['class']"
   ]
  },
  {
   "cell_type": "code",
   "execution_count": 20,
   "metadata": {
    "collapsed": true
   },
   "outputs": [],
   "source": [
    "ps1_dei_score = rf_obj.rf_clf_.predict_proba(ps1_dei_features)\n",
    "ps1_dei_pred = rf_obj.rf_clf_.predict(ps1_dei_features)"
   ]
  },
  {
   "cell_type": "code",
   "execution_count": 21,
   "metadata": {
    "collapsed": false
   },
   "outputs": [
    {
     "name": "stdout",
     "output_type": "stream",
     "text": [
      "Overall accuracy of the classification by the ML model is 0.949140\n"
     ]
    }
   ],
   "source": [
    "print(\"Overall accuracy of the classification by the ML model is %f\"%accuracy_score(ps1_dei_class, ps1_dei_pred))"
   ]
  },
  {
   "cell_type": "code",
   "execution_count": 22,
   "metadata": {
    "collapsed": false
   },
   "outputs": [
    {
     "data": {
      "image/png": "[encoded data removed]",
      "text/plain": [
       "<Figure size 432x288 with 1 Axes>"
      ]
     },
     "metadata": {},
     "output_type": "display_data"
    }
   ],
   "source": [
    "fpr, tpr, thre = roc_curve(ps1_dei_class, ps1_dei_score[:,1])\n",
    "plt.grid(linestyle='dotted')\n",
    "plt.plot(fpr, tpr, 'k-')\n",
    "#plt.xscale('log'); plt.yscale('log')\n",
    "plt.xlim(1e-3, 1e-1); plt.ylim(0.1, 1.01)\n",
    "plt.xlabel('FPR'); plt.ylabel('TPR')\n",
    "plt.show()"
   ]
  },
  {
   "cell_type": "code",
   "execution_count": 23,
   "metadata": {
    "collapsed": false
   },
   "outputs": [],
   "source": [
    "ps1_dei_class = np.array(ps1_dei_class)\n",
    "ps1_dei_score = np.array(ps1_dei_score)\n",
    "kron_mag = np.array(kron_mag)\n",
    "\n",
    "binwidth = 1.5\n",
    "Nboot = 100\n",
    "mag_array = np.arange(14 , 23+binwidth, binwidth)\n",
    "kron_mag = np.array(-2.5*np.log10(ps1_dei['wwKronFlux']/3631))\n",
    "\n",
    "ml_acc_arr = np.zeros_like(mag_array, dtype=float)\n",
    "ml_boot_scatt = np.vstack((np.zeros_like(mag_array, dtype=float), np.zeros_like(mag_array, dtype=float)))\n",
    "\n",
    "for bin_num, binedge in enumerate(mag_array):\n",
    "    bin_sources = np.where((kron_mag >= binedge) & (kron_mag < binedge + binwidth))\n",
    "    ml_acc_arr[bin_num] = accuracy_score(ps1_dei_class[bin_sources], \n",
    "                                         ps1_dei_pred[bin_sources])\n",
    "    ml_boot_acc = np.empty(Nboot)\n",
    "    for i in range(Nboot):\n",
    "        boot_sources = np.random.choice(bin_sources[0], len(bin_sources[0]), \n",
    "                                        replace=True)\n",
    "        ml_boot_acc[i] = accuracy_score(ps1_dei_class[boot_sources], \n",
    "                                         ps1_dei_pred[boot_sources])\n",
    "\n",
    "    ml_boot_scatt[:,bin_num] = np.percentile(ml_boot_acc, [16, 84])"
   ]
  },
  {
   "cell_type": "code",
   "execution_count": 24,
   "metadata": {
    "collapsed": false
   },
   "outputs": [],
   "source": [
    "from sklearn.neighbors import KernelDensity\n",
    "kde_grid = np.linspace(10,26,200)\n",
    "deimos_stars = np.where(ps1_dei_class == 1)\n",
    "deimos_gal = np.where(ps1_dei_class == 0)\n",
    "deimos_kde_gal_norm = len(deimos_gal[0])/len(ps1_dei_class)\n",
    "deimos_kde_star_norm = 1 - deimos_kde_gal_norm\n",
    "\n",
    "kde_deimos = KernelDensity(bandwidth=1.059*np.std(kron_mag, ddof=1)*len(kron_mag)**(-0.2),\n",
    "                         rtol=1E-4)\n",
    "kde_deimos.fit(kron_mag[:, np.newaxis])\n",
    "\n",
    "kde_deimos_stars = KernelDensity(bandwidth=1.059*np.std(kron_mag[deimos_stars], ddof=1)*len(kron_mag[deimos_stars])**(-0.2),\n",
    "                               rtol=1E-4)\n",
    "kde_deimos_stars.fit(kron_mag[deimos_stars[0], np.newaxis])\n",
    "\n",
    "kde_deimos_gal = KernelDensity(bandwidth=1.059*np.std(kron_mag[deimos_gal], ddof=1)*len(kron_mag[deimos_gal])**(-0.2),\n",
    "                             rtol=1E-4)\n",
    "kde_deimos_gal.fit(kron_mag[deimos_gal[0], np.newaxis])\n",
    "\n",
    "pdf_deimos = np.exp(kde_deimos.score_samples(kde_grid[:, np.newaxis]))\n",
    "pdf_deimos_stars = np.exp(kde_deimos_stars.score_samples(kde_grid[:, np.newaxis]))\n",
    "pdf_deimos_gal = np.exp(kde_deimos_gal.score_samples(kde_grid[:, np.newaxis]))"
   ]
  },
  {
   "cell_type": "code",
   "execution_count": 35,
   "metadata": {
    "collapsed": false
   },
   "outputs": [
    {
     "name": "stderr",
     "output_type": "stream",
     "text": [
      "/Users/tachibana/.pyenv/versions/anaconda2-4.0.0/envs/py36/lib/python3.6/site-packages/matplotlib/cbook/__init__.py:2446: UserWarning: Saw kwargs ['lw', 'linewidth'] which are all aliases for 'linewidth'.  Kept value from 'linewidth'\n",
      "  seen=seen, canon=canonical, used=seen[-1]))\n"
     ]
    },
    {
     "data": {
      "image/png": "[encoded data removed]",
      "text/plain": [
       "<Figure size 576x360 with 1 Axes>"
      ]
     },
     "metadata": {},
     "output_type": "display_data"
    }
   ],
   "source": [
    "from matplotlib.ticker import MultipleLocator\n",
    "#import seaborn as sns\n",
    "color_dict = {'ml': \"black\"}\n",
    "\n",
    "mag_bin_centers = mag_array + binwidth/2\n",
    "#cmap_star = sns.cubehelix_palette(rot=0.5, light=0.7,dark=0.3,as_cmap=True)\n",
    "#cmap_gal = sns.cubehelix_palette(start=0.3,rot=-0.5,light=0.7,dark=0.3,as_cmap=True)\n",
    "\n",
    "fig, ax = plt.subplots(figsize=(8, 5))\n",
    "\n",
    "ax.grid(linestyle='dotted', zorder=1)\n",
    "ax.errorbar(mag_bin_centers, ml_acc_arr, \n",
    "            yerr=np.abs(ml_boot_scatt - ml_acc_arr), \n",
    "            ls='-', lw=.75, fmt='o',\n",
    "            color=color_dict['ml'], label=\"ML model\", \n",
    "           linewidth=1.5, markersize=7.5, zorder=5)\n",
    "\n",
    "# add KDE plots\n",
    "ax.fill(kde_grid, pdf_deimos + 0.5, alpha=0.4, color=\"0.7\", zorder=2)\n",
    "ax.fill(kde_grid, pdf_deimos_gal*deimos_kde_gal_norm + 0.5, alpha=0.7, zorder=3)#, color=cmap_gal(0.25))\n",
    "ax.fill(kde_grid, pdf_deimos_stars*deimos_kde_star_norm + 0.5, alpha=0.7, zorder=4)#, color=cmap_star(0.25))\n",
    "\n",
    "ax.set_ylim(0.5,1.01)\n",
    "ax.set_xlim(14, 24)\n",
    "ax.tick_params(which=\"both\", top=True, right=True, labelsize=15)\n",
    "ax.set_xlabel('whiteKronMag', fontsize=15)\n",
    "ax.set_ylabel('Accuracy', fontsize=15)\n",
    "\n",
    "ax.yaxis.set_minor_locator(MultipleLocator(0.025))\n",
    "ax.xaxis.set_major_locator(MultipleLocator(2))\n",
    "ax.xaxis.set_minor_locator(MultipleLocator(0.5))\n",
    "\n",
    "#ax.legend(bbox_to_anchor=(0.01, 0.3, 1., 0.102), loc=3, fontsize=13)\n",
    "\n",
    "fig.subplots_adjust(top=0.98,right=0.98,left=0.1,bottom=0.12)"
   ]
  },
  {
   "cell_type": "code",
   "execution_count": null,
   "metadata": {
    "collapsed": true
   },
   "outputs": [],
   "source": []
  }
 ],
 "metadata": {
  "kernelspec": {
   "display_name": "Python 3",
   "language": "python",
   "name": "py36"
  },
  "language_info": {
   "codemirror_mode": {
    "name": "ipython",
    "version": 3
   },
   "file_extension": ".py",
   "mimetype": "text/x-python",
   "name": "python",
   "nbconvert_exporter": "python",
   "pygments_lexer": "ipython3",
   "version": "3.6.1"
  }
 },
 "nbformat": 4,
 "nbformat_minor": 0
}
