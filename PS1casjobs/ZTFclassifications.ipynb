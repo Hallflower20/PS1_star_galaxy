{
 "cells": [
  {
   "cell_type": "code",
   "execution_count": 2,
   "metadata": {
    "collapsed": true
   },
   "outputs": [],
   "source": [
    "import matplotlib.pyplot as plt\n",
    "import numpy as np\n",
    "import pandas as pd\n",
    "from matplotlib import pyplot as plt\n",
    "from matplotlib.ticker import MultipleLocator\n",
    "from matplotlib import rcParams\n",
    "from matplotlib.legend import Legend\n",
    "import seaborn as sns\n",
    "rcParams[\"font.family\"] = \"sans-serif\"\n",
    "rcParams['font.sans-serif'] = ['DejaVu Sans']\n",
    "\n",
    "from astropy.coordinates import SkyCoord\n",
    "from astropy import units as u\n",
    "\n",
    "import glob\n",
    "\n",
    "%matplotlib notebook"
   ]
  },
  {
   "cell_type": "markdown",
   "metadata": {},
   "source": [
    "## Test a couple files first"
   ]
  },
  {
   "cell_type": "code",
   "execution_count": 3,
   "metadata": {
    "collapsed": true
   },
   "outputs": [],
   "source": [
    "def get_hist_counts(df):\n",
    "\n",
    "    rf_arr = np.array(df.rf_score)\n",
    "\n",
    "    coords = SkyCoord(np.array(df.raStack)*u.deg, np.array(df.decStack)*u.deg)\n",
    "\n",
    "    all_cnts, _ = np.histogram(rf_arr, range=(0,1), bins=100)\n",
    "    low_lat = np.where(np.abs(coords.galactic.b) < 15*u.deg)\n",
    "    high_lat = np.where(np.abs(coords.galactic.b) > 50*u.deg)\n",
    "\n",
    "    low_cnts, _ = np.histogram(rf_arr[low_lat], range=(0,1), bins=100)\n",
    "    high_cnts, _ = np.histogram(rf_arr[high_lat], range=(0,1), bins=100)\n",
    "    \n",
    "    return all_cnts, low_cnts, high_cnts"
   ]
  },
  {
   "cell_type": "code",
   "execution_count": 4,
   "metadata": {
    "collapsed": true
   },
   "outputs": [],
   "source": [
    "file_list = glob.glob(\"/Users/adamamiller/Desktop/PS1_fits/hdf5/*h5\")"
   ]
  },
  {
   "cell_type": "code",
   "execution_count": 6,
   "metadata": {},
   "outputs": [],
   "source": [
    "all_cnts = np.zeros(100, dtype=np.int64)\n",
    "low_cnts = np.zeros_like(all_cnts)\n",
    "high_cnts = np.zeros_like(all_cnts)\n",
    "\n",
    "for file in file_list:\n",
    "    df = pd.read_hdf(file)\n",
    "    all_tmp, low_tmp, high_tmp = get_hist_counts(df)\n",
    "    all_cnts += all_tmp\n",
    "    low_cnts += low_tmp\n",
    "    high_cnts += high_tmp"
   ]
  },
  {
   "cell_type": "code",
   "execution_count": null,
   "metadata": {},
   "outputs": [],
   "source": [
    "col_dict = {'mustard': \"#E29930\",\n",
    "            'blue': \"#217CA3\",\n",
    "            'asphalt': \"#32384D\"\n",
    "           }\n",
    "\n",
    "x_grid = np.repeat(np.linspace(0.0, 1, 101), 2)\n",
    "\n",
    "fig, ax = plt.subplots()\n",
    "ax.plot(x_grid, np.concatenate(([0], np.repeat(all_cnts, 2), [0])),\n",
    "        color=col_dict['blue'])\n",
    "ax.fill(x_grid, np.concatenate(([0], np.repeat(all_cnts, 2), [0])),\n",
    "        alpha=0.4, color=col_dict['blue'])\n",
    "ax.plot(x_grid, np.concatenate(([0], np.repeat(low_cnts, 2), [0])), \n",
    "        color=col_dict['asphalt'])\n",
    "ax.fill(x_grid, np.concatenate(([0], np.repeat(low_cnts, 2), [0])),\n",
    "        alpha=0.4, color=col_dict['asphalt'])\n",
    "ax.plot(x_grid, np.concatenate(([0], np.repeat(high_cnts, 2), [0])), \n",
    "        color=col_dict['mustard'])\n",
    "ax.fill(x_grid, np.concatenate(([0], np.repeat(high_cnts, 2), [0])),\n",
    "        alpha=0.4, color=col_dict['mustard'])\n",
    "\n",
    "# ax.bar(np.linspace(0.005, .995, 100), low_cnts, width=0.01, lw=2, facecolor=\"None\")\n",
    "# ax.bar(np.linspace(0.005, .995, 100), high_cnts, width=0.01)\n",
    "ax.set_yscale(\"log\")\n",
    "ax.set_xlim(-0.01, 1.01)\n",
    "ax.tick_params(which=\"both\", top=True, right=True, labelsize=11)\n",
    "ax.yaxis.set_minor_locator(MultipleLocator(0.05))\n",
    "ax.set_xlabel(\"RF score\")\n",
    "ax.set_ylabel(\"N\")\n",
    "\n",
    "fig.subplots_adjust(left=0.1,right=0.99,top=0.98,bottom=0.1)"
   ]
  },
  {
   "cell_type": "code",
   "execution_count": null,
   "metadata": {
    "collapsed": true
   },
   "outputs": [],
   "source": []
  }
 ],
 "metadata": {
  "kernelspec": {
   "display_name": "Python 3",
   "language": "python",
   "name": "python3"
  },
  "language_info": {
   "codemirror_mode": {
    "name": "ipython",
    "version": 3
   },
   "file_extension": ".py",
   "mimetype": "text/x-python",
   "name": "python",
   "nbconvert_exporter": "python",
   "pygments_lexer": "ipython3",
   "version": "3.6.0"
  }
 },
 "nbformat": 4,
 "nbformat_minor": 2
}
