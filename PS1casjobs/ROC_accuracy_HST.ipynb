{
 "cells": [
  {
   "cell_type": "markdown",
   "metadata": {},
   "source": [
    "# ROC curves and accuracy curves (HST training set)\n",
    "\n",
    "In this notebook we show ROC curves and accuracy curves of several star/galaxy separation models: the machine leaarning model, the simple model (based on wwpsfKronDist), and PS1 model (based on $m_{\\mathrm{iPSF}} - m_{\\mathrm{iKron}}$). \n",
    "\n",
    "Simple model outperforms PS1 model, and the machine learning model shows the best performance in all range of brightness."
   ]
  },
  {
   "cell_type": "code",
   "execution_count": 40,
   "metadata": {},
   "outputs": [],
   "source": [
    "import sys,os,math\n",
    "import numpy as np\n",
    "import pandas as pd\n",
    "from matplotlib import pyplot as plt\n",
    "from matplotlib import rcParams\n",
    "rcParams[\"font.family\"] = \"sans-serif\"\n",
    "rcParams['font.sans-serif'] = ['DejaVu Sans']\n",
    "from matplotlib import gridspec as grs\n",
    "from matplotlib import cm\n",
    "from matplotlib.legend import Legend\n",
    "from mpl_toolkits.axes_grid1.inset_locator import inset_axes\n",
    "\n",
    "\n",
    "from astropy.table import Table\n",
    "import seaborn as sns\n",
    "import statsmodels.nonparametric.api as smnp\n",
    "from statsmodels.nonparametric.kernel_density import KDEMultivariate\n",
    "from scipy import stats\n",
    "from sklearn.ensemble import RandomForestClassifier\n",
    "from sklearn.metrics import roc_curve, accuracy_score, auc, roc_auc_score\n",
    "from sklearn.model_selection import StratifiedKFold, train_test_split\n",
    "from numpy import interp\n",
    "\n",
    "%matplotlib inline"
   ]
  },
  {
   "cell_type": "markdown",
   "metadata": {},
   "source": [
    "Functions to plot ROC curves and accuracy curves.  "
   ]
  },
  {
   "cell_type": "code",
   "execution_count": 41,
   "metadata": {},
   "outputs": [],
   "source": [
    "def calc_CV_ROC(features, GT, score, n_splits, ML=False, classifier=None):\n",
    "    cv = StratifiedKFold(n_splits=n_splits)\n",
    "    tprs = []\n",
    "    mean_fpr = np.linspace(0, 1, 5000)\n",
    "\n",
    "    i = 0\n",
    "    print('\\n CV: ', end=' ')\n",
    "    for train, test in cv.split(features, GT):\n",
    "        print('%d/%d, '%(i+1, n_splits), end='')\n",
    "        X_train, X_test, y_train, y_test = features[train], features[test], GT[train], GT[test]\n",
    "        if ML: \n",
    "            score = np.array(classifier.fit(X_train, y_train).predict_proba(X_test))\n",
    "            score = score[:, 1]            \n",
    "            fpr, tpr, thresholds = roc_curve(y_test, score)\n",
    "        else:\n",
    "            fpr, tpr, thresholds = roc_curve(y_test, np.array(score)[test])\n",
    "        tprs.append(interp(mean_fpr, fpr, tpr))\n",
    "        tprs[-1][0] = 0.0\n",
    "        i += 1\n",
    "\n",
    "    mean_tpr = np.mean(tprs, axis=0)\n",
    "    mean_tpr[-1] = 1.0\n",
    "\n",
    "    std_tpr = np.std(tprs, axis=0)/np.sqrt(n_splits)\n",
    "    tprs_upper = np.minimum(mean_tpr + std_tpr, 1)\n",
    "    tprs_lower = np.maximum(mean_tpr - std_tpr, 0)\n",
    "    \n",
    "    return(mean_fpr, mean_tpr, tprs_lower, tprs_upper)\n",
    "\n",
    "def plot_ROC_curves(catalog, features, GT, n_splits, classifier, \n",
    "                    figname, savefig, \n",
    "                    extent =  [0, 1, 0, 1], extent_ins = [3e-3, 0.98e-2, 0.5, 0.7]):\n",
    "    \n",
    "    ML_mean_fpr, ML_mean_tpr, ML_tprs_lower, ML_tprs_upper =\\\n",
    "        calc_CV_ROC(np.array(features), GT, None, n_splits, ML=True, classifier=classifier)    \n",
    "    dist_mean_fpr, dist_mean_tpr, dist_tprs_lower, dist_tprs_upper =\\\n",
    "        calc_CV_ROC(np.array(features), GT, catalog.wwFPSFApDist, n_splits)\n",
    "    i_mean_fpr, i_mean_tpr, i_tprs_lower, i_tprs_upper =\\\n",
    "        calc_CV_ROC(np.array(features), GT, -catalog.iFPSFminusFKron, n_splits)\n",
    "    \n",
    "    col_ML = 'black'\n",
    "    col_dist = \"C0\"\n",
    "    col_iminus = \"C1\"\n",
    "    col_star = 'red'\n",
    "\n",
    "    fig, ax = plt.subplots(figsize=(8, 5))\n",
    "    axins = inset_axes(ax, width=\"58.5%\",  \n",
    "                       height=\"67.5%\", loc=5)\n",
    "\n",
    "    ax.grid(alpha=0.5, lw=0.5, c='grey', linestyle=':') \n",
    "    ax.tick_params(which=\"both\", top=True, right=True)\n",
    "    ax.minorticks_on()\n",
    "    \n",
    "    ax.fill_between(ML_mean_fpr, ML_tprs_lower, ML_tprs_upper, color=col_ML, alpha=.5)\n",
    "    ax.fill_between(dist_mean_fpr, dist_tprs_lower, dist_tprs_upper, color=col_dist, alpha=.5)\n",
    "    ax.fill_between(i_mean_fpr, i_tprs_lower, i_tprs_upper, color=col_iminus, alpha=.5)\n",
    "    ax.plot(ML_mean_fpr, ML_mean_tpr, color=col_ML, lw=1, label='ML model')\n",
    "    ax.plot(dist_mean_fpr, dist_mean_tpr, color=col_dist, lw=1, label='Simple model')\n",
    "    ax.plot(i_mean_fpr, i_mean_tpr, color=col_iminus, lw=1, label='PS1 model')# label=r'm$_{\\rm iPSF}-$m$_{\\rm iKron}$')\n",
    "    #ax.plot(i_mean_fpr[np.argmin(np.abs(i_thre--0.05))], \n",
    "    #    i_tpr[np.argmin(np.abs(i_thre--0.05))], '*', color=col_star_dist)\n",
    "\n",
    "    ax.set_xlim(extent[0:2]); ax.set_ylim(extent[2:4])\n",
    "    ax.tick_params(labelsize = 15)\n",
    "    ax.set_xlabel('False Positive Ratio', fontsize=15)\n",
    "    ax.set_ylabel('True Positive Ratio', fontsize=15)\n",
    "\n",
    "    ax.legend( bbox_to_anchor=(0.01, 0.01, 1., 0.102), \n",
    "              loc=3, borderaxespad=0, fontsize=13)\n",
    "    \n",
    "    origin = 'lower'\n",
    "    axins.tick_params(which=\"both\", top=True)\n",
    "    axins.minorticks_on()\n",
    "    axins.fill_between(ML_mean_fpr, ML_tprs_lower, ML_tprs_upper, color=col_ML, alpha=.5)\n",
    "    axins.fill_between(dist_mean_fpr, dist_tprs_lower, dist_tprs_upper, color=col_dist, alpha=.5)\n",
    "    axins.fill_between(i_mean_fpr, i_tprs_lower, i_tprs_upper, color=col_iminus, alpha=.5)\n",
    "    axins.plot(ML_mean_fpr, ML_mean_tpr, color=col_ML, lw=1.5)\n",
    "    axins.plot(dist_mean_fpr, dist_mean_tpr, color=col_dist, lw=1.5)\n",
    "    axins.plot(i_mean_fpr, i_mean_tpr, color=col_iminus, lw=1.5)\n",
    "    axins.vlines([5e-3], 1e-3, 1, color='grey', lw=0.5)\n",
    "    axins.set_xlim(extent_ins[0:2]); axins.set_ylim(extent_ins[2:4])\n",
    "    axins.tick_params(labelsize = 15)\n",
    "    plt.tight_layout()\n",
    "    \n",
    "    if savefig: \n",
    "        plt.savefig(figname)\n",
    "    \n",
    "    plt.show()\n",
    "    \n",
    "    return(None)\n",
    "\n",
    "def calc_separtion_thre(thre, tpr, fpr, method):\n",
    "    if method == 'info':\n",
    "        return(thre[(tpr-fpr)==np.max(tpr-fpr)]-1e-10)\n",
    "    if method == 'fom':\n",
    "        return(thre[np.argmin(np.abs(fpr-0.005))])\n",
    "\n",
    "def make_separation_label(thre, proba):\n",
    "    return((np.sign(proba - thre).astype(int) + 1)/2)\n",
    "\n",
    "def calc_accuracy_error(GT, labels, Xval, Xmin, Xmax, binwidth = 0.5, Nboot = 1):\n",
    "    X_array = np.arange(Xmin , Xmax+binwidth, binwidth)\n",
    "    acc_arr = np.zeros_like(X_array)\n",
    "    boot_scatt = np.vstack((np.zeros_like(X_array), np.zeros_like(X_array)))\n",
    "\n",
    "    for bin_num, binedge in enumerate(X_array):\n",
    "        bin_sources = np.where((Xval >= binedge) & (Xval < binedge + binwidth))\n",
    "        acc_arr[bin_num] = accuracy_score(GT[bin_sources], \n",
    "                                               labels[bin_sources])\n",
    "        boot_acc = np.empty(Nboot)\n",
    "        for i in range(Nboot):\n",
    "            boot_sources = np.random.choice(bin_sources[0], len(bin_sources[0]))\n",
    "            boot_acc[i] = accuracy_score(GT[boot_sources], \n",
    "                                                   labels[boot_sources])\n",
    "\n",
    "        boot_scatt[:,bin_num] = np.percentile(boot_acc, [16, 84])\n",
    "    return(X_array+binwidth/2, acc_arr, boot_scatt)\n",
    "\n",
    "def calc_CV_accuracy(features, catalog, GT, labels, Xval, Xmin, Xmax, binwidth = 0.5, n_splits=10, ML=False, classifier=None):\n",
    "    cv = StratifiedKFold(n_splits=n_splits)\n",
    "    X_array = np.arange(Xmin , Xmax+binwidth, binwidth)\n",
    "    acc_arr = np.zeros_like(X_array)\n",
    "    cv_tab = np.zeros((len(X_array), n_splits))\n",
    "    \n",
    "    i=0\n",
    "    for train, test in cv.split(features, GT):\n",
    "        print(i, end='')\n",
    "        if ML: \n",
    "            X_train, X_test, y_train, y_test = \\\n",
    "                np.array(features)[train], np.array(features)[test], np.array(GT)[train], np.array(GT)[test]\n",
    "            labels = classifier.fit(X_train, y_train).predict(X_test)\n",
    "        boot_acc = np.empty(len(X_array))\n",
    "        for bin_num, binedge in enumerate(X_array):\n",
    "            bin_sources = np.where((np.array(Xval)[test] >= binedge) & (np.array(Xval)[test] < binedge + binwidth))\n",
    "            if ML: \n",
    "                boot_acc[bin_num] = accuracy_score(y_test[bin_sources], labels[bin_sources])\n",
    "            else: \n",
    "                boot_acc[bin_num] = accuracy_score(np.array(GT)[test][bin_sources], np.array(labels)[test][bin_sources])\n",
    "        cv_tab[:, i] = boot_acc\n",
    "        i += 1\n",
    "    cv_mean = np.mean(cv_tab, axis=1)\n",
    "    cv_std = np.std(cv_tab, axis=1)/np.sqrt(n_splits)\n",
    "    return(X_array+binwidth/2, cv_mean, cv_std)\n",
    "\n",
    "def plot_ACU_curves(features, catalog, GT, figname, savefig, thre_method='info'):\n",
    "    \n",
    "    wwKronMag =  -2.5*np.log10(catalog.wwFKronFlux/3631)\n",
    "    wwApMag =  -2.5*np.log10(catalog.wwFApFlux/3631)\n",
    "    \n",
    "    #dist_fpr, dist_tpr, dist_thre = roc_curve(GT, catalog.wwPSFKronDist)\n",
    "    #dist_thre_info  = 9.2e-07 #calc_separtion_thre(dist_thre, dist_tpr, dist_fpr, method=thre_method)\n",
    "\n",
    "    dist_labels = make_separation_label(9.2e-07, catalog.wwFPSFApDist.values)\n",
    "    iminus_labels = make_separation_label(-0.05, -catalog.iFPSFminusFKron.values)\n",
    "    \n",
    "    print('Calculating the error of the accuracy: ', end='')\n",
    "    mag_array, ML_acc_arr, ML_boot_scatt = \\\n",
    "        calc_CV_accuracy(features, catalog, GT, None, wwApMag, 14.75, 23.25, ML=True, classifier=classifier)\n",
    "    mag_array, dist_acc_arr, dist_boot_scatt = \\\n",
    "        calc_CV_accuracy(features, catalog, GT, dist_labels, wwApMag, 14.75, 23.25)\n",
    "    mag_array, iminus_acc_arr, iminus_boot_scatt = \\\n",
    "        calc_CV_accuracy(features, catalog, GT, iminus_labels, wwApMag, 14.75, 23.25)\n",
    "    print('Done.')\n",
    "    \n",
    "    print('Calculating PDFs : ', end='')\n",
    "    star_norm = np.sum(GT==1)/len(GT)\n",
    "    gal_norm = np.sum(GT==0)/len(GT)\n",
    "    \n",
    "    All_kde = stats.gaussian_kde(wwApMag)\n",
    "    Star_kde = stats.gaussian_kde(wwApMag[GT==1])\n",
    "    Gal_kde = stats.gaussian_kde(wwApMag[GT==0])\n",
    "    n = (np.arange(12,25,0.1))\n",
    "    All_kde_pdf = All_kde(n)\n",
    "    Star_kde_pdf = Star_kde(n)*star_norm\n",
    "    Gal_kde_pdf = Gal_kde(n)*gal_norm\n",
    "    print('Done.\\n')\n",
    "    \n",
    "    bias = 0.5\n",
    "\n",
    "    cmap_star = sns.cubehelix_palette(rot=0.5, light=0.7,dark=0.3,as_cmap=True)\n",
    "    cmap_gal = sns.cubehelix_palette(start=0.3,rot=-0.5,light=0.7,dark=0.3,as_cmap=True)\n",
    "\n",
    "    col_ML = 'black'\n",
    "    col_dist = \"C0\"\n",
    "    col_iminus = \"C1\"\n",
    "\n",
    "    plt.figure(figsize=(8,5))\n",
    "    \n",
    "    plt.fill(n, All_kde_pdf + bias, alpha=0.5, color=\"0.7\", zorder=0)\n",
    "    plt.fill(n, Gal_kde_pdf + bias, alpha=0.8, color=cmap_gal(0.25), zorder=1)\n",
    "    plt.fill(n, Star_kde_pdf + bias, alpha=0.8, color=cmap_star(0.25), zorder=2)\n",
    "\n",
    "    plt.vlines(mag_array, iminus_acc_arr - iminus_boot_scatt,  iminus_acc_arr + iminus_boot_scatt, \n",
    "               color=col_iminus, alpha=0.5, linewidth=1, zorder=3)\n",
    "    plt.vlines(mag_array, dist_acc_arr - dist_boot_scatt, dist_acc_arr + dist_boot_scatt, \n",
    "               color=col_dist, alpha=0.5, linewidth=1, zorder=4)\n",
    "    plt.vlines(mag_array, ML_acc_arr - ML_boot_scatt, ML_acc_arr + ML_boot_scatt, \n",
    "               color=col_ML, alpha=0.5, linewidth=1, zorder=5)\n",
    "    plt.plot(mag_array, dist_acc_arr, color=col_dist, alpha=0.5, linewidth=0.5, zorder=6)\n",
    "    plt.plot(mag_array, ML_acc_arr, color=col_ML, alpha=0.5, linewidth=0.5, zorder=7)\n",
    "    plt.plot(mag_array, iminus_acc_arr, color=col_iminus, alpha=0.5, linewidth=0.5, zorder=8)\n",
    "    plt.scatter(mag_array, ML_acc_arr, color=col_ML, label='ML model', zorder=11)\n",
    "    plt.scatter(mag_array, dist_acc_arr, color=col_dist, label='Simple model', zorder=10)\n",
    "    plt.scatter(mag_array, iminus_acc_arr, color=col_iminus, label='PS1 model', zorder=9)#, label = r'm$_{\\rm iPSF}-$m$_{\\rm iKron}$')\n",
    "\n",
    "    plt.ylim(bias,1.01)\n",
    "    plt.xlim(14.5, 24.0)\n",
    "    plt.legend(bbox_to_anchor=(0.01, 0.3, 1., 0.102), loc=3, fontsize=13)\n",
    "    plt.tick_params(labelsize = 15, which=\"both\", top=True,  right=True)\n",
    "    plt.minorticks_on()\n",
    "    plt.xlabel('whiteKronMag', fontsize=15)\n",
    "    plt.ylabel('Accuracy', fontsize=15)\n",
    "    plt.tight_layout()\n",
    "    \n",
    "    if savefig:\n",
    "        plt.savefig(figname)\n",
    "        \n",
    "    plt.show()\n",
    "    return(None)\n",
    "\n",
    "def check_ROC_Accuracy(TrainingCatalog, TestingCatalog, FeatureNames, TrainingGT, TestingGT, \n",
    "                      n_estimators = 250, min_samples_leaf = 1, max_features = 5, \n",
    "                      TrainMask=None, TestMask=None,  clean=True, \n",
    "                      saveROCfig=True, saveAccuraccyfig=True, FigName='Auto'):\n",
    "    import warnings\n",
    "    warnings.filterwarnings('ignore')\n",
    "    \n",
    "    print(\"\"\"Running the model with\n",
    "    %s\n",
    "    Using clean dataset = %s \n",
    "    Parameters for the random forest classifier: \n",
    "    n_estimators = %d \n",
    "    min_samples_leaf = %d\n",
    "    max_features = %d \\n\"\"\" \n",
    "          %(FeatureNames, clean, n_estimators, min_samples_leaf, max_features))\n",
    "    \n",
    "    if len(TrainMask) == len(TrainingCatalog):\n",
    "        TrainingCatalog = TrainingCatalog[TrainMask]\n",
    "        TrainingGT = TrainingGT[TrainMask]\n",
    "    if len(TestMask) == len(TestingCatalog):\n",
    "        TestingCatalog = TestingCatalog[TestMask]\n",
    "        TestingGT = TestingGT[TestMask]\n",
    "    \n",
    "    tr_tab = TrainingCatalog.loc[:,FeatureNames]\n",
    "    te_tab = TestingCatalog.loc[:,FeatureNames]\n",
    "    \n",
    "    print(\"\"\"Length of the datasets:\n",
    "    Training: %d \n",
    "    Testing: %d \\n\"\"\" %(len(tr_tab), len(te_tab)))\n",
    "    \n",
    "    tr_X = tr_tab.values\n",
    "    tr_Y = np.squeeze(TrainingGT)\n",
    "    te_X = te_tab.values\n",
    "    te_Y = np.squeeze(TestingGT)\n",
    "        \n",
    "    print('Training the classifier: ', end='')\n",
    "    Classifier = RandomForestClassifier(n_estimators = n_estimators, \n",
    "                                                        min_samples_leaf = min_samples_leaf, \n",
    "                                                        max_features= max_features, n_jobs=-1).fit(tr_X, tr_Y)\n",
    "    print('Done.\\n')\n",
    "    \n",
    "    if  FigName=='Auto':\n",
    "        figname = str(n_estimators) + '_' + str(min_samples_leaf) + '_' + str(max_features)\n",
    "        if clean:\n",
    "            figname = figname + '_clean'\n",
    "        ROC_figname = 'ROC_' + figname + '.pdf'\n",
    "        ACU_figname = 'ACU_' + figname + '.pdf'\n",
    "                                        \n",
    "    ML_predict = Classifier.predict_proba(te_X)\n",
    "    print('Plotting ROC curves: ')\n",
    "    plot_ROC_curves(TestingCatalog, te_Y, ML_predict[:,1], ROC_figname, saveROCfig)\n",
    "    print('Plotting accuracy curves: ')\n",
    "    plot_ACU_curves(TestingCatalog, te_Y, ML_predict[:,1], ACU_figname, saveAccuraccyfig)\n",
    "    \n",
    "    return(None)"
   ]
  },
  {
   "cell_type": "code",
   "execution_count": 42,
   "metadata": {},
   "outputs": [],
   "source": [
    "hst_tab = Table.read(\"/home/xhall/Documents/PS1CrossMatch/PS1_star_galaxy_0.adamamiller_0.HST_COSMOS_Forcefeatures_xhall_0.fit\").to_pandas()"
   ]
  },
  {
   "cell_type": "code",
   "execution_count": 43,
   "metadata": {},
   "outputs": [],
   "source": [
    "hst_tab[\"wwFApKronRatio\"] = hst_tab[\"wwFApFlux\"] / hst_tab[\"wwFKronFlux\"] "
   ]
  },
  {
   "cell_type": "code",
   "execution_count": 44,
   "metadata": {},
   "outputs": [],
   "source": [
    "a = 0.7459999999999999\n",
    "hst_tab[\"wwFApKronDist\"] = (hst_tab[\"wwFApFlux\"] - a * hst_tab[\"wwFKronFlux\"])/(np.sqrt(1+a**2))"
   ]
  },
  {
   "cell_type": "code",
   "execution_count": 45,
   "metadata": {},
   "outputs": [
    {
     "data": {
      "text/html": [
       "<div>\n",
       "<style scoped>\n",
       "    .dataframe tbody tr th:only-of-type {\n",
       "        vertical-align: middle;\n",
       "    }\n",
       "\n",
       "    .dataframe tbody tr th {\n",
       "        vertical-align: top;\n",
       "    }\n",
       "\n",
       "    .dataframe thead th {\n",
       "        text-align: right;\n",
       "    }\n",
       "</style>\n",
       "<table border=\"1\" class=\"dataframe\">\n",
       "  <thead>\n",
       "    <tr style=\"text-align: right;\">\n",
       "      <th></th>\n",
       "      <th>CLASS_STAR</th>\n",
       "      <th>MU_CLASS</th>\n",
       "      <th>objid</th>\n",
       "      <th>raStack</th>\n",
       "      <th>decStack</th>\n",
       "      <th>nDetections</th>\n",
       "      <th>qualityFlag</th>\n",
       "      <th>iFPSFminusFKron</th>\n",
       "      <th>wwFPSFFlux</th>\n",
       "      <th>wwFKronFlux</th>\n",
       "      <th>...</th>\n",
       "      <th>wwE2</th>\n",
       "      <th>wwFPSFKronDist</th>\n",
       "      <th>wwFPSFApDist</th>\n",
       "      <th>wwFPSFApRatio</th>\n",
       "      <th>wwFPSFKronRatio</th>\n",
       "      <th>wwFPSFflxR5Ratio</th>\n",
       "      <th>wwFPSFflxR6Ratio</th>\n",
       "      <th>wwFPSFflxR7Ratio</th>\n",
       "      <th>wwFApKronRatio</th>\n",
       "      <th>wwFApKronDist</th>\n",
       "    </tr>\n",
       "  </thead>\n",
       "  <tbody>\n",
       "    <tr>\n",
       "      <th>0</th>\n",
       "      <td>0.000462</td>\n",
       "      <td>1</td>\n",
       "      <td>110871497088318514</td>\n",
       "      <td>149.708825</td>\n",
       "      <td>2.398398</td>\n",
       "      <td>0</td>\n",
       "      <td>48</td>\n",
       "      <td>-0.065404</td>\n",
       "      <td>0.000004</td>\n",
       "      <td>0.000005</td>\n",
       "      <td>...</td>\n",
       "      <td>0.015440</td>\n",
       "      <td>-1.163475e-07</td>\n",
       "      <td>-6.004763e-07</td>\n",
       "      <td>0.640077</td>\n",
       "      <td>0.721388</td>\n",
       "      <td>0.643918</td>\n",
       "      <td>0.586436</td>\n",
       "      <td>1.123178</td>\n",
       "      <td>1.127033</td>\n",
       "      <td>1.490768e-06</td>\n",
       "    </tr>\n",
       "    <tr>\n",
       "      <th>1</th>\n",
       "      <td>0.218015</td>\n",
       "      <td>1</td>\n",
       "      <td>110871497104437385</td>\n",
       "      <td>149.710333</td>\n",
       "      <td>2.397397</td>\n",
       "      <td>1</td>\n",
       "      <td>52</td>\n",
       "      <td>-0.275643</td>\n",
       "      <td>0.000004</td>\n",
       "      <td>0.000004</td>\n",
       "      <td>...</td>\n",
       "      <td>-1.330465</td>\n",
       "      <td>1.019696e-06</td>\n",
       "      <td>1.140512e-06</td>\n",
       "      <td>1.201416</td>\n",
       "      <td>1.089794</td>\n",
       "      <td>1.940570</td>\n",
       "      <td>3.513087</td>\n",
       "      <td>-0.632060</td>\n",
       "      <td>0.907092</td>\n",
       "      <td>4.863483e-07</td>\n",
       "    </tr>\n",
       "    <tr>\n",
       "      <th>2</th>\n",
       "      <td>0.023310</td>\n",
       "      <td>1</td>\n",
       "      <td>110871497129613779</td>\n",
       "      <td>149.713008</td>\n",
       "      <td>2.394552</td>\n",
       "      <td>1</td>\n",
       "      <td>165</td>\n",
       "      <td>-0.239731</td>\n",
       "      <td>0.000003</td>\n",
       "      <td>0.000011</td>\n",
       "      <td>...</td>\n",
       "      <td>-0.022966</td>\n",
       "      <td>-4.269568e-06</td>\n",
       "      <td>-1.594144e-06</td>\n",
       "      <td>0.476268</td>\n",
       "      <td>0.280625</td>\n",
       "      <td>0.737970</td>\n",
       "      <td>0.361996</td>\n",
       "      <td>0.178132</td>\n",
       "      <td>0.589217</td>\n",
       "      <td>-1.426061e-06</td>\n",
       "    </tr>\n",
       "    <tr>\n",
       "      <th>3</th>\n",
       "      <td>0.028586</td>\n",
       "      <td>1</td>\n",
       "      <td>110871497219828579</td>\n",
       "      <td>149.721869</td>\n",
       "      <td>2.398430</td>\n",
       "      <td>3</td>\n",
       "      <td>52</td>\n",
       "      <td>-0.227333</td>\n",
       "      <td>0.000002</td>\n",
       "      <td>0.000007</td>\n",
       "      <td>...</td>\n",
       "      <td>-0.098363</td>\n",
       "      <td>-2.243692e-06</td>\n",
       "      <td>-1.435647e-06</td>\n",
       "      <td>0.439008</td>\n",
       "      <td>0.342628</td>\n",
       "      <td>0.297958</td>\n",
       "      <td>0.252219</td>\n",
       "      <td>0.117878</td>\n",
       "      <td>0.780459</td>\n",
       "      <td>1.897080e-07</td>\n",
       "    </tr>\n",
       "    <tr>\n",
       "      <th>4</th>\n",
       "      <td>0.000599</td>\n",
       "      <td>1</td>\n",
       "      <td>110871497271790831</td>\n",
       "      <td>149.727181</td>\n",
       "      <td>2.392008</td>\n",
       "      <td>0</td>\n",
       "      <td>160</td>\n",
       "      <td>0.374732</td>\n",
       "      <td>0.000002</td>\n",
       "      <td>0.000004</td>\n",
       "      <td>...</td>\n",
       "      <td>0.067410</td>\n",
       "      <td>-4.115860e-07</td>\n",
       "      <td>-7.301604e-07</td>\n",
       "      <td>0.561564</td>\n",
       "      <td>0.618363</td>\n",
       "      <td>0.383816</td>\n",
       "      <td>0.229035</td>\n",
       "      <td>0.098984</td>\n",
       "      <td>1.101145</td>\n",
       "      <td>1.103137e-06</td>\n",
       "    </tr>\n",
       "  </tbody>\n",
       "</table>\n",
       "<p>5 rows × 25 columns</p>\n",
       "</div>"
      ],
      "text/plain": [
       "   CLASS_STAR  MU_CLASS               objid     raStack  decStack  \\\n",
       "0    0.000462         1  110871497088318514  149.708825  2.398398   \n",
       "1    0.218015         1  110871497104437385  149.710333  2.397397   \n",
       "2    0.023310         1  110871497129613779  149.713008  2.394552   \n",
       "3    0.028586         1  110871497219828579  149.721869  2.398430   \n",
       "4    0.000599         1  110871497271790831  149.727181  2.392008   \n",
       "\n",
       "   nDetections  qualityFlag  iFPSFminusFKron  wwFPSFFlux  wwFKronFlux  ...  \\\n",
       "0            0           48        -0.065404    0.000004     0.000005  ...   \n",
       "1            1           52        -0.275643    0.000004     0.000004  ...   \n",
       "2            1          165        -0.239731    0.000003     0.000011  ...   \n",
       "3            3           52        -0.227333    0.000002     0.000007  ...   \n",
       "4            0          160         0.374732    0.000002     0.000004  ...   \n",
       "\n",
       "       wwE2  wwFPSFKronDist  wwFPSFApDist  wwFPSFApRatio  wwFPSFKronRatio  \\\n",
       "0  0.015440   -1.163475e-07 -6.004763e-07       0.640077         0.721388   \n",
       "1 -1.330465    1.019696e-06  1.140512e-06       1.201416         1.089794   \n",
       "2 -0.022966   -4.269568e-06 -1.594144e-06       0.476268         0.280625   \n",
       "3 -0.098363   -2.243692e-06 -1.435647e-06       0.439008         0.342628   \n",
       "4  0.067410   -4.115860e-07 -7.301604e-07       0.561564         0.618363   \n",
       "\n",
       "   wwFPSFflxR5Ratio  wwFPSFflxR6Ratio  wwFPSFflxR7Ratio  wwFApKronRatio  \\\n",
       "0          0.643918          0.586436          1.123178        1.127033   \n",
       "1          1.940570          3.513087         -0.632060        0.907092   \n",
       "2          0.737970          0.361996          0.178132        0.589217   \n",
       "3          0.297958          0.252219          0.117878        0.780459   \n",
       "4          0.383816          0.229035          0.098984        1.101145   \n",
       "\n",
       "   wwFApKronDist  \n",
       "0   1.490768e-06  \n",
       "1   4.863483e-07  \n",
       "2  -1.426061e-06  \n",
       "3   1.897080e-07  \n",
       "4   1.103137e-06  \n",
       "\n",
       "[5 rows x 25 columns]"
      ]
     },
     "execution_count": 45,
     "metadata": {},
     "output_type": "execute_result"
    }
   ],
   "source": [
    "hst_tab.iloc[0:5]"
   ]
  },
  {
   "cell_type": "code",
   "execution_count": 46,
   "metadata": {},
   "outputs": [],
   "source": [
    "hst_GT = np.array(hst_tab.MU_CLASS - 1, dtype=int)"
   ]
  },
  {
   "cell_type": "markdown",
   "metadata": {},
   "source": [
    "For a fair comparison between the 3 models we must generate a subset of sources that has a classification from each model. "
   ]
  },
  {
   "cell_type": "code",
   "execution_count": 47,
   "metadata": {},
   "outputs": [],
   "source": [
    "hst_det_mask = (hst_tab.nDetections > 0)&(~np.isnan(hst_tab.iFPSFminusFKron))"
   ]
  },
  {
   "cell_type": "code",
   "execution_count": 48,
   "metadata": {
    "collapsed": false,
    "jupyter": {
     "outputs_hidden": false
    }
   },
   "outputs": [
    {
     "name": "stdout",
     "output_type": "stream",
     "text": [
      "There are 46401 sources in the PS1 subset from HST\n"
     ]
    }
   ],
   "source": [
    "print(\"There are {:d} sources in the PS1 subset from HST\".format(sum(hst_det_mask)))"
   ]
  },
  {
   "cell_type": "markdown",
   "metadata": {},
   "source": [
    "## Without flux information (All dataset)"
   ]
  },
  {
   "cell_type": "code",
   "execution_count": 50,
   "metadata": {},
   "outputs": [],
   "source": [
    "fnames = ['E1', 'E2', 'FPSFKronDist',\n",
    "          'FPSFApDist', 'FPSFApRatio',  'FPSFKronRatio',\n",
    "          'FPSFflxR5Ratio', 'FPSFflxR6Ratio', 'FPSFflxR7Ratio']\n",
    "fil = 'ww'\n",
    "features = [fil  + feat for feat in fnames]"
   ]
  },
  {
   "cell_type": "code",
   "execution_count": 51,
   "metadata": {
    "collapsed": false,
    "jupyter": {
     "outputs_hidden": false
    }
   },
   "outputs": [],
   "source": [
    "classifier = RandomForestClassifier(n_estimators = 900, \n",
    "                                                    min_samples_leaf = 2, \n",
    "                                                    max_features= 3, n_jobs=-1, random_state =  20)"
   ]
  },
  {
   "cell_type": "code",
   "execution_count": 52,
   "metadata": {},
   "outputs": [
    {
     "name": "stdout",
     "output_type": "stream",
     "text": [
      "\n",
      " CV:  1/10, 2/10, 3/10, 4/10, 5/10, 6/10, 7/10, 8/10, 9/10, 10/10, \n",
      " CV:  1/10, 2/10, 3/10, 4/10, 5/10, 6/10, 7/10, 8/10, 9/10, 10/10, \n",
      " CV:  1/10, 2/10, 3/10, 4/10, 5/10, 6/10, 7/10, 8/10, 9/10, 10/10, "
     ]
    },
    {
     "name": "stderr",
     "output_type": "stream",
     "text": [
      "/home/xhall/anaconda3/lib/python3.7/site-packages/ipykernel_launcher.py:83: UserWarning: This figure includes Axes that are not compatible with tight_layout, so results might be incorrect.\n"
     ]
    },
    {
     "data": {
      "image/png": "[encoded data removed]",
      "text/plain": [
       "<Figure size 576x360 with 2 Axes>"
      ]
     },
     "metadata": {
      "needs_background": "light"
     },
     "output_type": "display_data"
    }
   ],
   "source": [
    "plot_ROC_curves(hst_tab[hst_det_mask], hst_tab[hst_det_mask][features], hst_GT[np.array(hst_det_mask)], \n",
    "                n_splits=10, classifier=classifier, figname='CV_ROC_HST.pdf', savefig = False)"
   ]
  },
  {
   "cell_type": "markdown",
   "metadata": {},
   "source": [
    "The FoM (FPR = 0.005) of the ML model and the simple model is $\\sim 0.66$ and $\\sim 0.59$, while that of the PS1 model is almost 0. "
   ]
  },
  {
   "cell_type": "markdown",
   "metadata": {},
   "source": [
    "### Summary of statistics of CV for the HST training set"
   ]
  },
  {
   "cell_type": "code",
   "execution_count": null,
   "metadata": {},
   "outputs": [],
   "source": [
    "def get_CV_MLpreds(hst_tab, hst_det_mask, feats, n_splits=10, rs=23):\n",
    "    X_hst = np.array(hst_tab[feats].loc[hst_det_mask])\n",
    "    y_hst = np.array(hst_tab[\"MU_CLASS\"].loc[hst_det_mask] - 1, dtype=int)\n",
    "    rf_preds = np.empty_like(y_hst, dtype=float)\n",
    "    cv = StratifiedKFold(n_splits=n_splits, random_state=rs)\n",
    "    for train, test in cv.split(X_hst, y_hst):\n",
    "        rf_preds[test] = classifier.fit(X_hst[train], \n",
    "                                        y_hst[train]).predict_proba(X_hst[test])[:,1]\n",
    "        print(rf_preds[test])\n",
    "    return y_hst,  rf_preds\n",
    "\n",
    "def calc_fom(fpr, tpr, thresh, fpr_at=0.005):\n",
    "    return interp(fpr_at, fpr, thresh), interp(fpr_at, fpr, tpr)"
   ]
  },
  {
   "cell_type": "code",
   "execution_count": 54,
   "metadata": {},
   "outputs": [],
   "source": [
    "hst_det_mask = (hst_tab.nDetections >= 0)&(~np.isnan(hst_tab.iFPSFminusFKron))\n",
    "#hst_det_mask = hst_tab.nDetections > 2"
   ]
  },
  {
   "cell_type": "markdown",
   "metadata": {},
   "source": [
    "hst_det_mask = (hst_tab.nDetections >= 1)&(~np.isnan(hst_tab.iFPSFminusFKron))&(~np.isnan(hst_tab.wwFPSFApDist))\n",
    "\n",
    "classifier = RandomForestClassifier(n_estimators=1000, \n",
    "                                    max_features=10,\n",
    "                                    min_samples_leaf=2,\n",
    "                                    n_jobs=-1, \n",
    "                                    random_state =  25)"
   ]
  },
  {
   "cell_type": "code",
   "execution_count": 55,
   "metadata": {
    "collapsed": false,
    "jupyter": {
     "outputs_hidden": false
    }
   },
   "outputs": [
    {
     "name": "stderr",
     "output_type": "stream",
     "text": [
      "/home/xhall/anaconda3/lib/python3.7/site-packages/sklearn/model_selection/_split.py:296: FutureWarning: Setting a random_state has no effect since shuffle is False. This will raise an error in 0.24. You should leave random_state to its default (None), or set shuffle=True.\n",
      "  FutureWarning\n"
     ]
    },
    {
     "name": "stdout",
     "output_type": "stream",
     "text": [
      "[3.70370370e-04 2.21101852e-01 3.76851852e-02 ... 1.00000000e+00\n",
      " 1.68148148e-02 1.06026455e-01]\n",
      "[0.02564815 0.0477963  0.00883069 ... 1.         0.99685185 0.48715608]\n",
      "[0.07971032 0.02381349 0.05333333 ... 0.26090476 1.         1.        ]\n",
      "[0.23157804 0.03585979 0.0535     ... 0.3999537  0.98881481 1.        ]\n",
      "[0.09853704 0.01085185 0.02681085 ... 0.7997037  0.9987037  0.04683333]\n",
      "[0.10783289 0.03841667 0.01811111 ... 0.15044709 0.96972222 0.97956878]\n",
      "[0.04238624 0.04558995 0.11917328 ... 0.99805556 0.9521164  0.11806349]\n",
      "[0.09655159 0.05220723 0.1688933  ... 0.06702646 0.00492593 0.04823545]\n",
      "[0.20857672 0.99888889 0.97992593 ... 0.02587037 0.05986728 0.05770899]\n",
      "[0.18220194 0.0794418  0.17143298 ... 0.00261111 0.14873148 0.04336111]\n"
     ]
    }
   ],
   "source": [
    "y_hst, rf_preds = get_CV_MLpreds(hst_tab, hst_det_mask, features, n_splits=10, rs=23)"
   ]
  },
  {
   "cell_type": "code",
   "execution_count": 56,
   "metadata": {},
   "outputs": [],
   "source": [
    "rf_fpr, rf_tpr, rf_thresh = roc_curve(y_hst, rf_preds)"
   ]
  },
  {
   "cell_type": "code",
   "execution_count": 57,
   "metadata": {},
   "outputs": [],
   "source": [
    "kron_mag = np.array(-2.5*np.log10(hst_tab['wwFKronFlux'].loc[hst_det_mask]/3631))\n",
    "ap_mag = np.array(-2.5*np.log10(hst_tab['wwFApFlux'].loc[hst_det_mask]/3631))"
   ]
  },
  {
   "cell_type": "code",
   "execution_count": 58,
   "metadata": {},
   "outputs": [],
   "source": [
    "def summary_stats_bootstrap(gt, preds, ct=0.5, fom_at=[0.005, 0.01, 0.02, 0.05, 0.1], Nboot=100, mag_max = 30):\n",
    "    mag_mask = np.where(ap_mag  < mag_max)\n",
    "    acc = accuracy_score(gt[mag_mask], preds[mag_mask] >= ct)\n",
    "    auc = roc_auc_score(gt[mag_mask], preds[mag_mask])\n",
    "    fpr, tpr, thresh = roc_curve(gt[mag_mask], preds[mag_mask])\n",
    "    fom_thresh = np.array([calc_fom(fpr, tpr, thresh, f) for f in fom_at])\n",
    "    thresh = fom_thresh[:,0]\n",
    "    fom = fom_thresh[:,1]\n",
    "    acc_std_arr = np.empty(Nboot)\n",
    "    auc_std_arr = np.empty_like(acc_std_arr)\n",
    "    fom_std_arr = np.empty((Nboot, len(fom_at)))\n",
    "    thresh_std_arr = np.empty_like(fom_std_arr)\n",
    "    for i in range(Nboot):\n",
    "        boot_sources = np.random.choice(mag_mask[0], len(mag_mask[0]), replace=True)\n",
    "        auc_std_arr[i] = roc_auc_score(gt[boot_sources], preds[boot_sources])\n",
    "        acc_std_arr[i] = accuracy_score(gt[boot_sources], preds[boot_sources] >= ct)\n",
    "        _fpr, _tpr, _thresh = roc_curve(gt[boot_sources], preds[boot_sources])\n",
    "        _fom_thresh = np.array([calc_fom(_fpr, _tpr, _thresh, f) for f in fom_at])\n",
    "        thresh_std_arr[i,:] = _fom_thresh[:,0]\n",
    "        fom_std_arr[i,:] = _fom_thresh[:,1]\n",
    "    #acc = np.percentile(acc_std_arr, [50] ,axis=0)[0]\n",
    "    #auc = np.percentile(auc_std_arr, [50] ,axis=0)[0]\n",
    "    #fom = np.percentile(fom_std_arr, [50] ,axis=0)[0]\n",
    "    #thresh = np.percentile(thresh_std_arr, [50] ,axis=0)[0]\n",
    "    #acc = np.average(acc_std_arr,axis=0)\n",
    "    #auc = np.average(auc_std_arr, axis=0)\n",
    "    #fom = np.average(fom_std_arr, axis=0)\n",
    "    #thresh = np.average(thresh_std_arr,axis=0)\n",
    "    acc_std = np.percentile(acc_std_arr, [5, 95] ,axis=0) #np.std(acc_std_arr)\n",
    "    auc_std = np.percentile(auc_std_arr, [5, 95] ,axis=0) #np.std(auc_std_arr)\n",
    "    fom_std = np.percentile(fom_std_arr, [5, 95] ,axis=0) #np.std(fom_std_arr, axis=0)\n",
    "    thresh_std = np.percentile(thresh_std_arr, [16, 95] ,axis=0) #np.std(thresh_std_arr, axis=0)\n",
    "    return {'Num': len(ap_mag[mag_mask]), \n",
    "                'Acc': acc*100, \n",
    "                'AUC': auc, \n",
    "                'FoM': fom, \n",
    "                'Thresh': thresh, \n",
    "                'AccSTD': acc_std*100, \n",
    "                'AUCSTD': auc_std, \n",
    "                'FoMSTD': fom_std, \n",
    "                'ThreshSTD': thresh_std}"
   ]
  },
  {
   "cell_type": "code",
   "execution_count": 59,
   "metadata": {
    "collapsed": false,
    "jupyter": {
     "outputs_hidden": false
    }
   },
   "outputs": [],
   "source": [
    "stat_all = summary_stats_bootstrap(y_hst, rf_preds, Nboot=100)\n",
    "stat_21 = summary_stats_bootstrap(y_hst, rf_preds, Nboot=100, mag_max=21)\n",
    "stat_20 = summary_stats_bootstrap(y_hst, rf_preds, Nboot=100, mag_max=20)"
   ]
  },
  {
   "cell_type": "code",
   "execution_count": 60,
   "metadata": {
    "collapsed": false,
    "jupyter": {
     "outputs_hidden": false
    }
   },
   "outputs": [
    {
     "data": {
      "text/plain": [
       "{'Num': 74759,\n",
       " 'Acc': 92.31530651827875,\n",
       " 'AUC': 0.9060297350956561,\n",
       " 'FoM': array([0.59474142, 0.62834999, 0.66507316, 0.71592061, 0.76575402]),\n",
       " 'Thresh': array([0.63461512, 0.50816264, 0.38572247, 0.26672665, 0.19296601]),\n",
       " 'AccSTD': array([92.1585361 , 92.48144036]),\n",
       " 'AUCSTD': array([0.90316617, 0.90893313]),\n",
       " 'FoMSTD': array([[0.58706815, 0.62037747, 0.65671256, 0.70897639, 0.76097436],\n",
       "        [0.60423778, 0.6360672 , 0.67191708, 0.72281897, 0.7729102 ]]),\n",
       " 'ThreshSTD': array([[0.62326054, 0.50024927, 0.38122742, 0.26480242, 0.19156626],\n",
       "        [0.65782788, 0.52160776, 0.39193664, 0.27021465, 0.19430528]])}"
      ]
     },
     "execution_count": 60,
     "metadata": {},
     "output_type": "execute_result"
    }
   ],
   "source": [
    "stat_all"
   ]
  },
  {
   "cell_type": "code",
   "execution_count": 61,
   "metadata": {
    "collapsed": false,
    "jupyter": {
     "outputs_hidden": false
    }
   },
   "outputs": [
    {
     "name": "stdout",
     "output_type": "stream",
     "text": [
      "TPR\n",
      " $0.595^{+0.009}_{-0.008}$ & $0.628^{+0.008}_{-0.008}$ & $0.665^{+0.007}_{-0.008}$ & $0.716^{+0.007}_{-0.007}$ & $0.766^{+0.007}_{-0.005}$ \n",
      "\n",
      "Threshold\n",
      " $0.635^{+0.023}_{-0.011}$ & $0.508^{+0.013}_{-0.008}$ & $0.386^{+0.006}_{-0.004}$ & $0.267^{+0.003}_{-0.002}$ & $0.193^{+0.001}_{-0.001}$ \n",
      "\n"
     ]
    }
   ],
   "source": [
    "print('TPR')\n",
    "print(\"\"\" $%1.3f^{+%1.3f}_{%1.3f}$ & $%1.3f^{+%1.3f}_{%1.3f}$ & \\\n",
    "$%1.3f^{+%1.3f}_{%1.3f}$ & $%1.3f^{+%1.3f}_{%1.3f}$ & $%1.3f^{+%1.3f}_{%1.3f}$ \n",
    "\"\"\"%(stat_all['FoM'][0], stat_all['FoMSTD'][1][0]-stat_all['FoM'][0], stat_all['FoMSTD'][0][0]-stat_all['FoM'][0], \\\n",
    "            stat_all['FoM'][1], stat_all['FoMSTD'][1][1]-stat_all['FoM'][1], stat_all['FoMSTD'][0][1]-stat_all['FoM'][1], \\\n",
    "            stat_all['FoM'][2], stat_all['FoMSTD'][1][2]-stat_all['FoM'][2], stat_all['FoMSTD'][0][2]-stat_all['FoM'][2], \\\n",
    "            stat_all['FoM'][3], stat_all['FoMSTD'][1][3]-stat_all['FoM'][3], stat_all['FoMSTD'][0][3]-stat_all['FoM'][3], \\\n",
    "            stat_all['FoM'][4], stat_all['FoMSTD'][1][4]-stat_all['FoM'][4], stat_all['FoMSTD'][0][4]-stat_all['FoM'][4]))\n",
    "\n",
    "print('Threshold')\n",
    "print(\"\"\" $%1.3f^{+%1.3f}_{%1.3f}$ & $%1.3f^{+%1.3f}_{%1.3f}$ & \\\n",
    "$%1.3f^{+%1.3f}_{%1.3f}$ & $%1.3f^{+%1.3f}_{%1.3f}$ & $%1.3f^{+%1.3f}_{%1.3f}$ \n",
    "\"\"\"%(stat_all['Thresh'][0], stat_all['ThreshSTD'][1][0]-stat_all['Thresh'][0], stat_all['ThreshSTD'][0][0]-stat_all['Thresh'][0], \\\n",
    "            stat_all['Thresh'][1], stat_all['ThreshSTD'][1][1]-stat_all['Thresh'][1], stat_all['ThreshSTD'][0][1]-stat_all['Thresh'][1], \\\n",
    "            stat_all['Thresh'][2], stat_all['ThreshSTD'][1][2]-stat_all['Thresh'][2], stat_all['ThreshSTD'][0][2]-stat_all['Thresh'][2], \\\n",
    "            stat_all['Thresh'][3], stat_all['ThreshSTD'][1][3]-stat_all['Thresh'][3], stat_all['ThreshSTD'][0][3]-stat_all['Thresh'][3], \\\n",
    "            stat_all['Thresh'][4], stat_all['ThreshSTD'][1][4]-stat_all['Thresh'][4], stat_all['ThreshSTD'][0][4]-stat_all['Thresh'][4]))"
   ]
  },
  {
   "cell_type": "code",
   "execution_count": 62,
   "metadata": {
    "collapsed": false,
    "jupyter": {
     "outputs_hidden": false
    }
   },
   "outputs": [
    {
     "data": {
      "text/plain": [
       "{'Num': 14582,\n",
       " 'Acc': 97.23631874914278,\n",
       " 'AUC': 0.9934436378057071,\n",
       " 'FoM': array([0.85990546, 0.94413408, 0.96347228, 0.97622117, 0.98710786]),\n",
       " 'Thresh': array([0.93918437, 0.72483952, 0.44507716, 0.20174607, 0.11501108]),\n",
       " 'AccSTD': array([97.04361542, 97.43519407]),\n",
       " 'AUCSTD': array([0.99265468, 0.99423867]),\n",
       " 'FoMSTD': array([[0.82182453, 0.93651146, 0.96008269, 0.97343387, 0.98500754],\n",
       "        [0.90137059, 0.94964999, 0.96867418, 0.97882488, 0.98905685]]),\n",
       " 'ThreshSTD': array([[0.90038703, 0.68613001, 0.39812365, 0.19626481, 0.11203635],\n",
       "        [0.9584491 , 0.77431798, 0.49270338, 0.21265946, 0.11816341]])}"
      ]
     },
     "execution_count": 62,
     "metadata": {},
     "output_type": "execute_result"
    }
   ],
   "source": [
    "stat_21"
   ]
  },
  {
   "cell_type": "code",
   "execution_count": 63,
   "metadata": {
    "collapsed": false,
    "jupyter": {
     "outputs_hidden": false
    }
   },
   "outputs": [
    {
     "name": "stdout",
     "output_type": "stream",
     "text": [
      "TPR\n",
      " $0.860^{+0.041}_{-0.038}$ & $0.944^{+0.006}_{-0.008}$ & $0.963^{+0.005}_{-0.003}$ & $0.976^{+0.003}_{-0.003}$ & $0.987^{+0.002}_{-0.002}$ \n",
      "\n",
      "Threshold\n",
      " $0.939^{+0.019}_{-0.039}$ & $0.725^{+0.049}_{-0.039}$ & $0.445^{+0.048}_{-0.047}$ & $0.202^{+0.011}_{-0.005}$ & $0.115^{+0.003}_{-0.003}$ \n",
      "\n"
     ]
    }
   ],
   "source": [
    "print('TPR')\n",
    "print(\"\"\" $%1.3f^{+%1.3f}_{%1.3f}$ & $%1.3f^{+%1.3f}_{%1.3f}$ & \\\n",
    "$%1.3f^{+%1.3f}_{%1.3f}$ & $%1.3f^{+%1.3f}_{%1.3f}$ & $%1.3f^{+%1.3f}_{%1.3f}$ \n",
    "\"\"\"%(stat_21['FoM'][0], stat_21['FoMSTD'][1][0]-stat_21['FoM'][0], stat_21['FoMSTD'][0][0]-stat_21['FoM'][0], \\\n",
    "            stat_21['FoM'][1], stat_21['FoMSTD'][1][1]-stat_21['FoM'][1], stat_21['FoMSTD'][0][1]-stat_21['FoM'][1], \\\n",
    "            stat_21['FoM'][2], stat_21['FoMSTD'][1][2]-stat_21['FoM'][2], stat_21['FoMSTD'][0][2]-stat_21['FoM'][2], \\\n",
    "            stat_21['FoM'][3], stat_21['FoMSTD'][1][3]-stat_21['FoM'][3], stat_21['FoMSTD'][0][3]-stat_21['FoM'][3], \\\n",
    "            stat_21['FoM'][4], stat_21['FoMSTD'][1][4]-stat_21['FoM'][4], stat_21['FoMSTD'][0][4]-stat_21['FoM'][4]))\n",
    "\n",
    "print('Threshold')\n",
    "print(\"\"\" $%1.3f^{+%1.3f}_{%1.3f}$ & $%1.3f^{+%1.3f}_{%1.3f}$ & \\\n",
    "$%1.3f^{+%1.3f}_{%1.3f}$ & $%1.3f^{+%1.3f}_{%1.3f}$ & $%1.3f^{+%1.3f}_{%1.3f}$ \n",
    "\"\"\"%(stat_21['Thresh'][0], stat_21['ThreshSTD'][1][0]-stat_21['Thresh'][0], stat_21['ThreshSTD'][0][0]-stat_21['Thresh'][0], \\\n",
    "            stat_21['Thresh'][1], stat_21['ThreshSTD'][1][1]-stat_21['Thresh'][1], stat_21['ThreshSTD'][0][1]-stat_21['Thresh'][1], \\\n",
    "            stat_21['Thresh'][2], stat_21['ThreshSTD'][1][2]-stat_21['Thresh'][2], stat_21['ThreshSTD'][0][2]-stat_21['Thresh'][2], \\\n",
    "            stat_21['Thresh'][3], stat_21['ThreshSTD'][1][3]-stat_21['Thresh'][3], stat_21['ThreshSTD'][0][3]-stat_21['Thresh'][3], \\\n",
    "            stat_21['Thresh'][4], stat_21['ThreshSTD'][1][4]-stat_21['Thresh'][4], stat_21['ThreshSTD'][0][4]-stat_21['Thresh'][4]))"
   ]
  },
  {
   "cell_type": "code",
   "execution_count": 64,
   "metadata": {
    "collapsed": false,
    "jupyter": {
     "outputs_hidden": false
    }
   },
   "outputs": [
    {
     "data": {
      "text/plain": [
       "{'Num': 6966,\n",
       " 'Acc': 98.92334194659776,\n",
       " 'AUC': 0.997169793030594,\n",
       " 'FoM': array([0.87592475, 0.94800254, 0.99260199, 0.99661805, 0.99873177]),\n",
       " 'Thresh': array([0.98112202, 0.94242044, 0.34598439, 0.15509251, 0.06595062]),\n",
       " 'AccSTD': array([98.73600345, 99.153029  ]),\n",
       " 'AUCSTD': array([0.99599911, 0.99838242]),\n",
       " 'FoMSTD': array([[0.7594698 , 0.91391203, 0.99010002, 0.99467426, 0.99784686],\n",
       "        [0.94185533, 0.9917045 , 0.99542584, 0.99788295, 0.99938145]]),\n",
       " 'ThreshSTD': array([[0.9606859 , 0.66418035, 0.29743491, 0.14346216, 0.06094126],\n",
       "        [0.9933023 , 0.96794446, 0.49454752, 0.18708543, 0.07831343]])}"
      ]
     },
     "execution_count": 64,
     "metadata": {},
     "output_type": "execute_result"
    }
   ],
   "source": [
    "stat_20"
   ]
  },
  {
   "cell_type": "code",
   "execution_count": 65,
   "metadata": {
    "collapsed": false,
    "jupyter": {
     "outputs_hidden": false
    }
   },
   "outputs": [
    {
     "name": "stdout",
     "output_type": "stream",
     "text": [
      "TPR\n",
      " $0.876^{+0.066}_{-0.116}$ & $0.948^{+0.044}_{-0.034}$ & $0.993^{+0.003}_{-0.003}$ & $0.997^{+0.001}_{-0.002}$ & $0.999^{+0.001}_{-0.001}$ \n",
      "\n",
      "Threshold\n",
      " $0.981^{+0.012}_{-0.020}$ & $0.942^{+0.026}_{-0.278}$ & $0.346^{+0.149}_{-0.049}$ & $0.155^{+0.032}_{-0.012}$ & $0.066^{+0.012}_{-0.005}$  \n",
      "\n"
     ]
    }
   ],
   "source": [
    "print('TPR')\n",
    "print(\"\"\" $%1.3f^{+%1.3f}_{%1.3f}$ & $%1.3f^{+%1.3f}_{%1.3f}$ & \\\n",
    "$%1.3f^{+%1.3f}_{%1.3f}$ & $%1.3f^{+%1.3f}_{%1.3f}$ & $%1.3f^{+%1.3f}_{%1.3f}$ \n",
    "\"\"\"%(stat_20['FoM'][0], stat_20['FoMSTD'][1][0]-stat_20['FoM'][0], stat_20['FoMSTD'][0][0]-stat_20['FoM'][0], \\\n",
    "            stat_20['FoM'][1], stat_20['FoMSTD'][1][1]-stat_20['FoM'][1], stat_20['FoMSTD'][0][1]-stat_20['FoM'][1], \\\n",
    "            stat_20['FoM'][2], stat_20['FoMSTD'][1][2]-stat_20['FoM'][2], stat_20['FoMSTD'][0][2]-stat_20['FoM'][2], \\\n",
    "            stat_20['FoM'][3], stat_20['FoMSTD'][1][3]-stat_20['FoM'][3], stat_20['FoMSTD'][0][3]-stat_20['FoM'][3], \\\n",
    "            stat_20['FoM'][4], stat_20['FoMSTD'][1][4]-stat_20['FoM'][4], stat_20['FoMSTD'][0][4]-stat_20['FoM'][4]))\n",
    "\n",
    "print('Threshold')\n",
    "print(\"\"\" $%1.3f^{+%1.3f}_{%1.3f}$ & $%1.3f^{+%1.3f}_{%1.3f}$ & \\\n",
    "$%1.3f^{+%1.3f}_{%1.3f}$ & $%1.3f^{+%1.3f}_{%1.3f}$ & $%1.3f^{+%1.3f}_{%1.3f}$  \n",
    "\"\"\"%(stat_20['Thresh'][0], stat_20['ThreshSTD'][1][0]-stat_20['Thresh'][0], stat_20['ThreshSTD'][0][0]-stat_20['Thresh'][0], \\\n",
    "            stat_20['Thresh'][1], stat_20['ThreshSTD'][1][1]-stat_20['Thresh'][1], stat_20['ThreshSTD'][0][1]-stat_20['Thresh'][1], \\\n",
    "            stat_20['Thresh'][2], stat_20['ThreshSTD'][1][2]-stat_20['Thresh'][2], stat_20['ThreshSTD'][0][2]-stat_20['Thresh'][2], \\\n",
    "            stat_20['Thresh'][3], stat_20['ThreshSTD'][1][3]-stat_20['Thresh'][3], stat_20['ThreshSTD'][0][3]-stat_20['Thresh'][3], \\\n",
    "            stat_20['Thresh'][4], stat_20['ThreshSTD'][1][4]-stat_20['Thresh'][4], stat_20['ThreshSTD'][0][4]-stat_20['Thresh'][4]))"
   ]
  },
  {
   "cell_type": "markdown",
   "metadata": {},
   "source": [
    "### Accuracy"
   ]
  },
  {
   "cell_type": "code",
   "execution_count": 66,
   "metadata": {
    "collapsed": false,
    "jupyter": {
     "outputs_hidden": false
    }
   },
   "outputs": [
    {
     "name": "stdout",
     "output_type": "stream",
     "text": [
      "Calculating the error of the accuracy: 012345678901234567890123456789Done.\n",
      "Calculating PDFs : Done.\n",
      "\n"
     ]
    },
    {
     "data": {
      "image/png": "[encoded data removed]",
      "text/plain": [
       "<Figure size 576x360 with 1 Axes>"
      ]
     },
     "metadata": {
      "needs_background": "light"
     },
     "output_type": "display_data"
    }
   ],
   "source": [
    "plot_ACU_curves(hst_tab[hst_det_mask][features], hst_tab[hst_det_mask], hst_GT[hst_det_mask], \n",
    "                figname='CV_Accuracy_HST.pdf', savefig=True, thre_method='info')"
   ]
  },
  {
   "cell_type": "markdown",
   "metadata": {},
   "source": [
    "### Boot strap sampling"
   ]
  },
  {
   "cell_type": "code",
   "execution_count": 67,
   "metadata": {
    "collapsed": false,
    "jupyter": {
     "outputs_hidden": false
    }
   },
   "outputs": [],
   "source": [
    "simple_decision_thresh = 9.2e-07 #  maximize acc on training set\n",
    "ps1_decision_thresh = -0.05\n",
    "hst_det_mask = (hst_tab.nDetections > 0)&(~np.isnan(hst_tab.iFPSFminusFKron))\n",
    "\n",
    "simple_labels = np.logical_not(np.array(hst_tab[\"wwFPSFApDist\"].loc[hst_det_mask]) < simple_decision_thresh).astype(int)\n",
    "ps1_labels = np.logical_not(-1*np.array(hst_tab[\"iFPSFminusFKron\"].loc[hst_det_mask]) < ps1_decision_thresh).astype(int)"
   ]
  },
  {
   "cell_type": "code",
   "execution_count": 68,
   "metadata": {},
   "outputs": [],
   "source": [
    "hst_ml_y = hst_GT[np.array(hst_det_mask)]\n",
    "hst_ml_X = hst_tab[hst_det_mask][features].values"
   ]
  },
  {
   "cell_type": "code",
   "execution_count": 69,
   "metadata": {},
   "outputs": [],
   "source": [
    "rf_clf = RandomForestClassifier(n_estimators=400, \n",
    "                                    max_features=4,\n",
    "                                    min_samples_leaf=2,\n",
    "                                    n_jobs=-1)\n",
    "\n",
    "binwidth = 0.5\n",
    "Nboot = 100\n",
    "n_splits = 10\n",
    "mag_array = np.arange(15 , 23.5+binwidth, binwidth)\n",
    "kron_mag = np.array(-2.5*np.log10(hst_tab['wwFKronFlux'].loc[hst_det_mask]/3631))\n",
    "ap_mag = np.array(-2.5*np.log10(hst_tab['wwFApFlux'].loc[hst_det_mask]/3631))\n",
    "\n",
    "simple_acc_arr = np.zeros((len(mag_array), n_splits))\n",
    "ps1_acc_arr = np.zeros_like(simple_acc_arr)\n",
    "ml_acc_arr = np.zeros_like(simple_acc_arr)\n",
    "\n",
    "simple_scatter_arr = np.zeros((len(mag_array), n_splits*Nboot))\n",
    "ps1_scatter_arr = np.zeros_like(simple_scatter_arr)\n",
    "ml_scatter_arr = np.zeros_like(simple_scatter_arr)\n",
    "\n",
    "cv = StratifiedKFold(n_splits=n_splits)"
   ]
  },
  {
   "cell_type": "code",
   "execution_count": 70,
   "metadata": {
    "collapsed": false,
    "jupyter": {
     "outputs_hidden": false
    }
   },
   "outputs": [
    {
     "name": "stdout",
     "output_type": "stream",
     "text": [
      ".........."
     ]
    }
   ],
   "source": [
    "for cv_num, (train, test) in enumerate(cv.split(hst_ml_X, hst_ml_y)):\n",
    "    print('.', end='')\n",
    "    X_train, X_test, y_train, y_test = hst_ml_X[train], hst_ml_X[test], hst_ml_y[train], hst_ml_y[test]\n",
    "    rf_clf.fit(X_train, y_train)\n",
    "    ml_labels_cv = rf_clf.predict(X_test)\n",
    "    simple_labels_cv = simple_labels[test]\n",
    "    ps1_labels_cv = ps1_labels[test]\n",
    "    \n",
    "    for bin_num, binedge in enumerate(mag_array):\n",
    "        bin_sources = np.where((ap_mag[test] >= binedge) & (ap_mag[test] < binedge + binwidth))\n",
    "        simple_acc_arr[bin_num, cv_num] = accuracy_score(y_test[bin_sources], \n",
    "                                                 simple_labels_cv[bin_sources])\n",
    "        ps1_acc_arr[bin_num, cv_num] = accuracy_score(y_test[bin_sources], \n",
    "                                                 ps1_labels_cv[bin_sources])\n",
    "        ml_acc_arr[bin_num, cv_num] = accuracy_score(y_test[bin_sources], \n",
    "                                                 ml_labels_cv[bin_sources])\n",
    "        simple_boot_acc =  np.empty(Nboot)\n",
    "        ps1_boot_acc = np.empty_like(simple_boot_acc)\n",
    "        ml_boot_acc = np.empty_like(simple_boot_acc)\n",
    "        \n",
    "        for i in range(Nboot):\n",
    "            boot_sources = np.random.choice(bin_sources[0], len(bin_sources[0]), \n",
    "                                            replace=True)\n",
    "            simple_boot_acc[i] = accuracy_score(y_test[boot_sources], \n",
    "                                                 simple_labels_cv[boot_sources])\n",
    "            ps1_boot_acc[i] = accuracy_score(y_test[boot_sources], \n",
    "                                                 ps1_labels_cv[boot_sources])\n",
    "            ml_boot_acc[i] = accuracy_score(y_test[boot_sources], \n",
    "                                                 ml_labels_cv[boot_sources])\n",
    "            \n",
    "        simple_scatter_arr[bin_num, np.arange(cv_num*Nboot, (cv_num+1)*Nboot, 1, dtype=int)] = simple_boot_acc\n",
    "        ps1_scatter_arr[bin_num, np.arange(cv_num*Nboot, (cv_num+1)*Nboot, 1, dtype=int)] = ps1_boot_acc\n",
    "        ml_scatter_arr[bin_num, np.arange(cv_num*Nboot, (cv_num+1)*Nboot, 1, dtype=int)] = ml_boot_acc"
   ]
  },
  {
   "cell_type": "code",
   "execution_count": 71,
   "metadata": {},
   "outputs": [],
   "source": [
    "GT = hst_ml_y\n",
    "wwKronMag = kron_mag\n",
    "wwApMag = ap_mag\n",
    "\n",
    "star_norm = np.sum(GT==1)/len(GT)\n",
    "gal_norm = np.sum(GT==0)/len(GT)\n",
    "\n",
    "All_kde = stats.gaussian_kde(wwKronMag)\n",
    "Star_kde = stats.gaussian_kde(wwKronMag[GT==1])\n",
    "Gal_kde = stats.gaussian_kde(wwKronMag[GT==0])\n",
    "n = (np.arange(12,25,0.01))\n",
    "All_kde_pdf = All_kde(n)\n",
    "Star_kde_pdf = Star_kde(n)*star_norm\n",
    "Gal_kde_pdf = Gal_kde(n)*gal_norm"
   ]
  },
  {
   "cell_type": "code",
   "execution_count": 72,
   "metadata": {},
   "outputs": [],
   "source": [
    "ML_acc_arr = np.mean(ml_acc_arr, axis=1)\n",
    "dist_acc_arr = np.mean(simple_acc_arr, axis=1)\n",
    "iminus_acc_arr = np.mean(ps1_acc_arr, axis=1)\n",
    "ML_boot_scatt = np.percentile(ml_scatter_arr, [16, 84], axis=1)\n",
    "dist_boot_scatt = np.percentile(simple_scatter_arr, [16, 84], axis=1)\n",
    "iminus_boot_scatt = np.percentile(ps1_scatter_arr, [16, 84], axis=1)"
   ]
  },
  {
   "cell_type": "code",
   "execution_count": 73,
   "metadata": {
    "collapsed": false,
    "jupyter": {
     "outputs_hidden": false
    }
   },
   "outputs": [
    {
     "data": {
      "image/png": "[encoded data removed]",
      "text/plain": [
       "<Figure size 504x360 with 1 Axes>"
      ]
     },
     "metadata": {
      "needs_background": "light"
     },
     "output_type": "display_data"
    }
   ],
   "source": [
    "cmap = plt.get_cmap(\"Dark2\")\n",
    "\n",
    "color_dict = {'ml': cmap(0.33), \n",
    "              'sdss': cmap(0.66), \n",
    "              'simple': cmap(0.),\n",
    "              'ps1': cmap(1.)}\n",
    "\n",
    "color_dict = {'ml': cmap(0.33), \n",
    "              'sdss': cmap(0.66), \n",
    "              'simple': cmap(0.),\n",
    "              'ps1': cmap(1.)}\n",
    "\n",
    "# apple colors\n",
    "color_dict = {'ml': \"#0072c6\", #\"#1C1858\",\n",
    "              'sdss': \"#5BC236\", #\"#00C78E\",\n",
    "              'simple': \"#C864AF\", #\"#C70039\",\n",
    "              'ps1': \"#C65400\"}\n",
    "\n",
    "# color blind friendly\n",
    "color_dict = {'ml': '#0072b2', \n",
    "              'sdss': '#d55e00', \n",
    "              'simple': '#cc79a7',\n",
    "              'ps1': '#009e73'}\n",
    "\n",
    "# color brewer\n",
    "color_dict = {'ml': '#7570b3', \n",
    "              'sdss': '#d95f02', \n",
    "              'simple': '#1b9e77',\n",
    "              'ps1': '#34495e'}\n",
    "\n",
    "ls_dict = {'ml': '-', \n",
    "              'sdss': '-.', \n",
    "              'simple': '--',\n",
    "              'ps1': '--'}\n",
    "\n",
    "lw_dict = {'ml': .75, \n",
    "              'sdss': .5, \n",
    "              'simple': .5, \n",
    "              'ps1': .5}\n",
    "\n",
    "bias = 0.5\n",
    "\n",
    "cmap_star = sns.cubehelix_palette(rot=0.5, light=0.7,dark=0.3,as_cmap=True)\n",
    "cmap_gal = sns.cubehelix_palette(start=0.3,rot=-0.5,light=0.7,dark=0.3,as_cmap=True)\n",
    "\n",
    "fig, ax = plt.subplots(figsize=(7,5))\n",
    "\n",
    "ax.vlines(mag_array, iminus_boot_scatt[0], iminus_boot_scatt[1], \n",
    "           color=color_dict['ps1'], alpha=0.5, linewidth=1, zorder=3)\n",
    "ax.vlines(mag_array, dist_boot_scatt[0], dist_boot_scatt[1], \n",
    "           color=color_dict['simple'], alpha=0.5, linewidth=1, zorder=4)\n",
    "ax.vlines(mag_array, ML_boot_scatt[0], ML_boot_scatt[1], \n",
    "           color=color_dict['ml'], alpha=0.5, linewidth=1, zorder=5)\n",
    "ax.errorbar(mag_array, ML_acc_arr, color=color_dict['ml'], yerr=np.zeros_like(mag_array), \n",
    "            fmt='o', ms=10,  zorder=10, mew=0.4, mec=\"0.2\", alpha=0.9, \n",
    "            ls=ls_dict['ml'], lw = lw_dict['ml'], label='RF model')\n",
    "ax.errorbar(mag_array, dist_acc_arr, color=color_dict['simple'], yerr=np.zeros_like(mag_array), \n",
    "            fmt='^',ms=8, zorder=5, mew=0.4, mec=\"0.2\", alpha=0.9, \n",
    "            ls=ls_dict['simple'], lw = lw_dict['simple'],  label='Simple model')\n",
    "ax.errorbar(mag_array, iminus_acc_arr, color=color_dict['ps1'], yerr=np.zeros_like(mag_array),  \n",
    "            fmt='p', ms=7, zorder=25, mew=0.4, mec=\"0.2\", alpha=0.9, \n",
    "            ls=ls_dict['ps1'], lw = lw_dict['ps1'], dashes=(8, 4), label='PS1 model')\n",
    "\n",
    "ax.fill(n, All_kde_pdf + bias, alpha=0.4, color=\"0.7\", zorder=0, label=\"HST training set\")\n",
    "ax.fill(n, Gal_kde_pdf + bias, alpha=0.5, color=cmap_gal(0.25), zorder=1, label=\"HST training galaxies\")\n",
    "ax.fill(n, Star_kde_pdf + bias, alpha=0.5, color=cmap_star(0.25), zorder=2, label=\"HST training stars\")\n",
    "ax.plot(n, All_kde_pdf + bias, lw=2, color=\"0.7\", zorder=3)\n",
    "ax.plot(n, Gal_kde_pdf + bias, lw=2, color=cmap_gal(0.25), zorder=4)\n",
    "ax.plot(n, Star_kde_pdf + bias, lw=2, color=cmap_star(0.25), zorder=5)\n",
    "\n",
    "ax.set_ylim(bias,1.01)\n",
    "ax.set_xlim(14.5, 24.0)\n",
    "\n",
    "handles, labels = ax.get_legend_handles_labels()\n",
    "leg_lines = ax.legend(handles[3:], labels[3:], \n",
    "                        bbox_to_anchor=(0.225, 0.375, 1., 0.102),\n",
    "                        loc=3, fontsize=13, handlelength=3.5)\n",
    "leg_kde = Legend(ax, handles[:3], labels[:3], \n",
    "                  bbox_to_anchor=(0.01, 0.03, 1., 0.102),\n",
    "                  loc=3,fontsize=10,  frameon=False)\n",
    "ax.add_artist(leg_kde)\n",
    "\n",
    "ax.tick_params(labelsize = 15, which=\"both\", top=True,  right=True)\n",
    "ax.minorticks_on()\n",
    "ax.set_xlabel('$\\mathtt{whiteKronMag}$', fontsize=15)\n",
    "ax.set_ylabel('Accuracy', fontsize=15)\n",
    "\n",
    "fig.subplots_adjust(right=0.975,top=0.985,bottom=0.115,left=0.1)\n",
    "fig.savefig(\"../paper/Figures/CV_Accuracy_HST.pdf\")"
   ]
  },
  {
   "cell_type": "markdown",
   "metadata": {},
   "source": [
    "## Adjustments\n",
    "\n",
    "Make a slight alteration to the primary calculation in order to retain information about the individual folds and the statistics computed from each of them."
   ]
  },
  {
   "cell_type": "markdown",
   "metadata": {
    "jupyter": {
     "outputs_hidden": true
    }
   },
   "source": [
    "classifier = RandomForestClassifier(n_estimators=400, \n",
    "                                    max_features=4,\n",
    "                                    min_samples_leaf=2,\n",
    "                                    n_jobs=-1)"
   ]
  },
  {
   "cell_type": "code",
   "execution_count": 74,
   "metadata": {},
   "outputs": [],
   "source": [
    "def get_CV_preds(hst_tab, hst_det_mask, feats, n_splits=10, rs=23):\n",
    "    ps1_preds = np.array(hst_tab[\"iFPSFminusFKron\"].loc[hst_det_mask])\n",
    "    simple_preds = np.array(hst_tab[\"wwFPSFApDist\"].loc[hst_det_mask])\n",
    "    X_hst = np.array(hst_tab[feats].loc[hst_det_mask])\n",
    "    y_hst = np.array(hst_tab[\"MU_CLASS\"].loc[hst_det_mask] - 1, dtype=int)\n",
    "    rf_preds = np.empty_like(simple_preds)\n",
    "    cv = StratifiedKFold(n_splits=n_splits, random_state=rs)\n",
    "    for train, test in cv.split(X_hst, y_hst):\n",
    "        rf_preds[test] = classifier.fit(X_hst[train], \n",
    "                                        y_hst[train]).predict_proba(X_hst[test])[:,1]\n",
    "    return y_hst, ps1_preds, simple_preds, rf_preds"
   ]
  },
  {
   "cell_type": "code",
   "execution_count": 75,
   "metadata": {},
   "outputs": [
    {
     "name": "stderr",
     "output_type": "stream",
     "text": [
      "/home/xhall/anaconda3/lib/python3.7/site-packages/sklearn/model_selection/_split.py:296: FutureWarning: Setting a random_state has no effect since shuffle is False. This will raise an error in 0.24. You should leave random_state to its default (None), or set shuffle=True.\n",
      "  FutureWarning\n"
     ]
    }
   ],
   "source": [
    "y_hst, ps1_preds, simple_preds, rf_preds = get_CV_preds(hst_tab, hst_det_mask, features, n_splits=10, rs=23)"
   ]
  },
  {
   "cell_type": "code",
   "execution_count": 76,
   "metadata": {},
   "outputs": [],
   "source": [
    "def calc_fom(fpr, tpr, thresh):\n",
    "    return interp(0.005, fpr, tpr)"
   ]
  },
  {
   "cell_type": "code",
   "execution_count": 77,
   "metadata": {},
   "outputs": [],
   "source": [
    "def calc_summary_stats(y_hst, ps1_preds, simple_preds, rf_preds, \n",
    "                       ps1_ct = -0.05, \n",
    "                       simple_ct = 9.2e-7,\n",
    "                       rf_ct = 0.5,\n",
    "                       make_plot = False,\n",
    "                       fold_plot = True):\n",
    "    ps1_fpr, ps1_tpr, ps1_thresh = roc_curve(y_hst, -1*ps1_preds)\n",
    "    ps1_fom = calc_fom(ps1_fpr, ps1_tpr, ps1_thresh)\n",
    "    ps1_auc = roc_auc_score(y_hst, -1*ps1_preds)\n",
    "    ps1_acc = accuracy_score(y_hst, ps1_preds <= ps1_ct)\n",
    "    \n",
    "    simple_fpr, simple_tpr, simple_thresh = roc_curve(y_hst, simple_preds)\n",
    "    simple_fom = calc_fom(simple_fpr, simple_tpr, simple_thresh)\n",
    "    simple_auc = roc_auc_score(y_hst, simple_preds)\n",
    "    simple_acc = accuracy_score(y_hst, simple_preds >= simple_ct)\n",
    "    \n",
    "    rf_fpr, rf_tpr, rf_thresh = roc_curve(y_hst, rf_preds)\n",
    "    rf_fom = calc_fom(rf_fpr, rf_tpr, rf_thresh)\n",
    "    rf_auc = roc_auc_score(y_hst, rf_preds)\n",
    "    rf_acc = accuracy_score(y_hst, rf_preds >= rf_ct)\n",
    "    \n",
    "    if make_plot:\n",
    "        lw = 0.5 if fold_plot else 2\n",
    "        alpha = 0.4 if fold_plot else 1\n",
    "        for ax in [main_ax, axins]:\n",
    "            ax.plot(rf_fpr, rf_tpr, lw=lw, color=\"#7570b3\", alpha=alpha)\n",
    "            ax.plot(simple_fpr, simple_tpr, lw=lw, color=\"#1b9e77\", alpha=alpha)\n",
    "            ax.plot(ps1_fpr, ps1_tpr, lw=lw, color=\"#34495e\", alpha=alpha)\n",
    "\n",
    "    \n",
    "    return ps1_auc, ps1_acc, ps1_fom, simple_auc, simple_acc, simple_fom, rf_auc, rf_acc, rf_fom"
   ]
  },
  {
   "cell_type": "code",
   "execution_count": 78,
   "metadata": {
    "collapsed": false,
    "jupyter": {
     "outputs_hidden": false
    }
   },
   "outputs": [
    {
     "name": "stderr",
     "output_type": "stream",
     "text": [
      "/home/xhall/anaconda3/lib/python3.7/site-packages/sklearn/model_selection/_split.py:296: FutureWarning: Setting a random_state has no effect since shuffle is False. This will raise an error in 0.24. You should leave random_state to its default (None), or set shuffle=True.\n",
      "  FutureWarning\n"
     ]
    },
    {
     "data": {
      "image/png": "[encoded data removed]",
      "text/plain": [
       "<Figure size 504x360 with 2 Axes>"
      ]
     },
     "metadata": {
      "needs_background": "light"
     },
     "output_type": "display_data"
    }
   ],
   "source": [
    "fig, main_ax = plt.subplots(figsize=(7,5))\n",
    "\n",
    "axins = inset_axes(main_ax, width=\"58.5%\",  \n",
    "                   height=\"60%\", loc=3,\n",
    "                   bbox_to_anchor=(0.4, 0.28, 1., 1.),\n",
    "                   bbox_transform=main_ax.transAxes)\n",
    "\n",
    "\n",
    "cv = StratifiedKFold(n_splits=10, random_state=23)\n",
    "X_hst = np.array(hst_tab[features].loc[hst_det_mask])\n",
    "\n",
    "cv_summary_stats = calc_summary_stats(y_hst, ps1_preds, simple_preds, rf_preds, \n",
    "                                      make_plot=True, fold_plot=False)\n",
    "\n",
    "for fold_num, (train, test) in enumerate(cv.split(X_hst, y_hst)):\n",
    "    fold_results = calc_summary_stats(y_hst[test], ps1_preds[test], \n",
    "                                      simple_preds[test], rf_preds[test], make_plot=True)\n",
    "    if fold_num == 0:\n",
    "        each_fold_sum_stats = fold_results\n",
    "    else:\n",
    "        each_fold_sum_stats = np.vstack((each_fold_sum_stats, fold_results))\n",
    "\n",
    "\n",
    "\n",
    "main_ax.set_xlim(0,1) \n",
    "main_ax.set_ylim(0,1.02)\n",
    "main_ax.grid(alpha=0.5, lw=0.5, c='grey', linestyle=':') \n",
    "main_ax.tick_params(which=\"both\", top=True, right=True, labelsize = 15)\n",
    "main_ax.minorticks_on()\n",
    "main_ax.set_xlabel('False Positive Rate', fontsize=15)\n",
    "main_ax.set_ylabel('True Positive Rate', fontsize=15)\n",
    "\n",
    "# legend stuff\n",
    "main_ax.plot([1e6,1e6], [1e6,1e6], lw=2, \n",
    "        color=\"#7570b3\", alpha=1,\n",
    "        label='RF model')\n",
    "main_ax.plot([1e6,1e6], [1e6,1e6], lw=2, \n",
    "        color=\"#1b9e77\", alpha=1,\n",
    "        label='simple model')\n",
    "main_ax.plot([1e6,1e6], [1e6,1e6], lw=2, \n",
    "        color=\"#34495e\", alpha=1,\n",
    "        label='PS1 model')\n",
    "main_ax.legend(loc=3, borderaxespad=0, fontsize=13,\n",
    "               bbox_to_anchor=(0.1, 0.01, 1., 0.102), )\n",
    "# SDSS color = #7570b3\n",
    "\n",
    "        \n",
    "# axins.vlines([5e-3], 1e-3, 1, color='grey', lw=0.5)\n",
    "axins.vlines([5e-3], 1e-3, 1, \n",
    "          linestyles=\":\", \n",
    "          color='DarkSlateGrey', lw=2)\n",
    "axins.text(5e-3, 0.55, 'FoM', \n",
    "        color='DarkSlateGrey', \n",
    "        rotation=90, ha=\"right\", fontsize=14)\n",
    "\n",
    "axins.set_xlim(1e-3, 9e-3)\n",
    "axins.set_ylim(0.5, 0.78)\n",
    "axins.tick_params(labelsize = 15)\n",
    "axins.minorticks_on()\n",
    "\n",
    "fig.subplots_adjust(right=0.97,top=0.98,bottom=0.11,left=0.1)\n",
    "#fig.savefig(\"/Users/adamamiller/Desktop/CV_ROC_HST.pdf\")\n",
    "fig.savefig(\"../paper/Figures/CV_ROC_HST.pdf\")"
   ]
  },
  {
   "cell_type": "code",
   "execution_count": 79,
   "metadata": {
    "collapsed": false,
    "jupyter": {
     "outputs_hidden": false
    }
   },
   "outputs": [
    {
     "name": "stdout",
     "output_type": "stream",
     "text": [
      "\n",
      "RF & 0.657 $\\pm$ 0.016 & 0.918 $\\pm$ 0.003 & 0.945 $\\pm$ 0.003 \\\\\n",
      "simple & 0.591 $\\pm$ 0.017 & 0.887 $\\pm$ 0.007 & 0.930 $\\pm$ 0.003 \\\\\n",
      "PS1 & 0.002 $\\pm$ 0.001 & 0.809 $\\pm$ 0.008 & 0.827 $\\pm$ 0.009 \\\\\n",
      "\n"
     ]
    }
   ],
   "source": [
    "print(r\"\"\"\n",
    "RF & {0:.3f} $\\pm$ {9:.3f} & {1:.3f} $\\pm$ {10:.3f} & {2:.3f} $\\pm$ {11:.3f} \\\\\n",
    "simple & {3:.3f} $\\pm$ {12:.3f} & {4:.3f} $\\pm$ {13:.3f} & {5:.3f} $\\pm$ {14:.3f} \\\\\n",
    "PS1 & {6:.3f} $\\pm$ {15:.3f} & {7:.3f} $\\pm$ {16:.3f} & {8:.3f} $\\pm$ {17:.3f} \\\\\n",
    "\"\"\".format(*np.append(cv_summary_stats[::-1], np.std(each_fold_sum_stats, ddof=1, axis=0)[::-1])))"
   ]
  },
  {
   "cell_type": "code",
   "execution_count": null,
   "metadata": {
    "collapsed": true,
    "jupyter": {
     "outputs_hidden": true
    }
   },
   "outputs": [],
   "source": []
  }
 ],
 "metadata": {
  "kernelspec": {
   "display_name": "Python 3",
   "language": "python",
   "name": "python3"
  },
  "language_info": {
   "codemirror_mode": {
    "name": "ipython",
    "version": 3
   },
   "file_extension": ".py",
   "mimetype": "text/x-python",
   "name": "python",
   "nbconvert_exporter": "python",
   "pygments_lexer": "ipython3",
   "version": "3.7.6"
  }
 },
 "nbformat": 4,
 "nbformat_minor": 4
}
