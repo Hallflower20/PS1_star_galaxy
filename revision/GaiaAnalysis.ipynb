{
 "cells": [
  {
   "cell_type": "code",
   "execution_count": 1,
   "metadata": {},
   "outputs": [],
   "source": [
    "import numpy as np\n",
    "import pandas as pd \n",
    "from astropy.io import fits\n",
    "import matplotlib.pyplot as plt\n",
    "from astropy.table import Table\n",
    "import glob\n",
    "\n",
    "%matplotlib notebook"
   ]
  },
  {
   "cell_type": "code",
   "execution_count": 2,
   "metadata": {},
   "outputs": [],
   "source": [
    "directory = \"/home/xhall/Documents/GaiaCross/\""
   ]
  },
  {
   "cell_type": "code",
   "execution_count": 3,
   "metadata": {},
   "outputs": [],
   "source": [
    "files = glob.glob(directory + \"/*.csv\")\n",
    "files = np.sort(files)"
   ]
  },
  {
   "cell_type": "code",
   "execution_count": 4,
   "metadata": {},
   "outputs": [
    {
     "data": {
      "text/plain": [
       "array(['/home/xhall/Documents/GaiaCross/HLSP_PS1_PSC_0_xhall.csv',\n",
       "       '/home/xhall/Documents/GaiaCross/HLSP_PS1_PSC_10_xhall.csv',\n",
       "       '/home/xhall/Documents/GaiaCross/HLSP_PS1_PSC_15_xhall.csv',\n",
       "       '/home/xhall/Documents/GaiaCross/HLSP_PS1_PSC_1_xhall.csv',\n",
       "       '/home/xhall/Documents/GaiaCross/HLSP_PS1_PSC_20_xhall.csv',\n",
       "       '/home/xhall/Documents/GaiaCross/HLSP_PS1_PSC_25_xhall.csv',\n",
       "       '/home/xhall/Documents/GaiaCross/HLSP_PS1_PSC_2_xhall.csv',\n",
       "       '/home/xhall/Documents/GaiaCross/HLSP_PS1_PSC_30_xhall.csv',\n",
       "       '/home/xhall/Documents/GaiaCross/HLSP_PS1_PSC_33_xhall.csv',\n",
       "       '/home/xhall/Documents/GaiaCross/HLSP_PS1_PSC_36_xhall.csv',\n",
       "       '/home/xhall/Documents/GaiaCross/HLSP_PS1_PSC_3_xhall.csv',\n",
       "       '/home/xhall/Documents/GaiaCross/HLSP_PS1_PSC_4_xhall.csv',\n",
       "       '/home/xhall/Documents/GaiaCross/HLSP_PS1_PSC_5_xhall.csv'],\n",
       "      dtype='<U57')"
      ]
     },
     "execution_count": 4,
     "metadata": {},
     "output_type": "execute_result"
    }
   ],
   "source": [
    "files"
   ]
  },
  {
   "cell_type": "code",
   "execution_count": 5,
   "metadata": {},
   "outputs": [],
   "source": [
    "#GaiaCross = pd.read_csv(files[0])\n",
    "GaiaCross = []"
   ]
  },
  {
   "cell_type": "code",
   "execution_count": 6,
   "metadata": {},
   "outputs": [
    {
     "name": "stdout",
     "output_type": "stream",
     "text": [
      "/home/xhall/Documents/GaiaCross/HLSP_PS1_PSC_0_xhall.csv\n",
      "/home/xhall/Documents/GaiaCross/HLSP_PS1_PSC_10_xhall.csv\n",
      "/home/xhall/Documents/GaiaCross/HLSP_PS1_PSC_15_xhall.csv\n",
      "/home/xhall/Documents/GaiaCross/HLSP_PS1_PSC_1_xhall.csv\n",
      "/home/xhall/Documents/GaiaCross/HLSP_PS1_PSC_20_xhall.csv\n",
      "/home/xhall/Documents/GaiaCross/HLSP_PS1_PSC_25_xhall.csv\n",
      "/home/xhall/Documents/GaiaCross/HLSP_PS1_PSC_2_xhall.csv\n",
      "/home/xhall/Documents/GaiaCross/HLSP_PS1_PSC_30_xhall.csv\n",
      "/home/xhall/Documents/GaiaCross/HLSP_PS1_PSC_33_xhall.csv\n",
      "/home/xhall/Documents/GaiaCross/HLSP_PS1_PSC_36_xhall.csv\n",
      "/home/xhall/Documents/GaiaCross/HLSP_PS1_PSC_3_xhall.csv\n",
      "/home/xhall/Documents/GaiaCross/HLSP_PS1_PSC_4_xhall.csv\n",
      "/home/xhall/Documents/GaiaCross/HLSP_PS1_PSC_5_xhall.csv\n"
     ]
    }
   ],
   "source": [
    "for i in files:\n",
    "    print(i)\n",
    "    temp_read = pd.read_csv(i)\n",
    "    GaiaCross.append(temp_read)\n",
    "    #GaiaCross = GaiaCross.append(temp_read)"
   ]
  },
  {
   "cell_type": "code",
   "execution_count": 7,
   "metadata": {},
   "outputs": [
    {
     "data": {
      "text/plain": [
       "13"
      ]
     },
     "execution_count": 7,
     "metadata": {},
     "output_type": "execute_result"
    }
   ],
   "source": [
    "len(GaiaCross)"
   ]
  },
  {
   "cell_type": "code",
   "execution_count": 8,
   "metadata": {},
   "outputs": [],
   "source": [
    "for i in range(13):\n",
    "    GaiaCross[i].to_csv(\"/home/xhall/Documents/GaiaCross/Reprinted/Cross\" + str(i) + \".csv\")"
   ]
  },
  {
   "cell_type": "code",
   "execution_count": 9,
   "metadata": {},
   "outputs": [],
   "source": [
    "length = 0\n",
    "for i in GaiaCross:\n",
    "    length += len(i)"
   ]
  },
  {
   "cell_type": "code",
   "execution_count": 10,
   "metadata": {},
   "outputs": [
    {
     "data": {
      "text/plain": [
       "78921929"
      ]
     },
     "execution_count": 10,
     "metadata": {},
     "output_type": "execute_result"
    }
   ],
   "source": [
    "length"
   ]
  },
  {
   "cell_type": "code",
   "execution_count": null,
   "metadata": {},
   "outputs": [],
   "source": []
  }
 ],
 "metadata": {
  "kernelspec": {
   "display_name": "Python 3",
   "language": "python",
   "name": "python3"
  },
  "language_info": {
   "codemirror_mode": {
    "name": "ipython",
    "version": 3
   },
   "file_extension": ".py",
   "mimetype": "text/x-python",
   "name": "python",
   "nbconvert_exporter": "python",
   "pygments_lexer": "ipython3",
   "version": "3.7.6"
  }
 },
 "nbformat": 4,
 "nbformat_minor": 4
}
