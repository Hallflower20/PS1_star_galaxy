{
 "cells": [
  {
   "cell_type": "code",
   "execution_count": 2,
   "metadata": {},
   "outputs": [],
   "source": [
    "import numpy as np\n",
    "import pandas as pd\n",
    "from astropy.io import fits\n",
    "from astropy.table import Table\n",
    "import glob\n",
    "\n",
    "import matplotlib.pyplot as plt\n",
    "%matplotlib notebook"
   ]
  },
  {
   "cell_type": "code",
   "execution_count": 44,
   "metadata": {},
   "outputs": [],
   "source": [
    "gaia_dir = \"/home/xhall/Documents/GaiaCross/\"\n",
    "gaia_files = glob.glob(\"/home/xhall/Documents/GaiaCross/Reprinted/*.csv\")\n",
    "for file_num, gf in enumerate(gaia_files):\n",
    "    gdat = pd.read_csv(gf)\n",
    "    \n",
    "    pm = np.sqrt(gdat[\"pmra\"]**2 + gdat[\"pmdec\"]**2)\n",
    "    pm_unc = np.sqrt(gdat[\"pmra\"] ** 2 * gdat[\"pmra_error\"] ** 2 /(gdat[\"pmra\"] ** 2 + gdat[\"pmdec\"] ** 2) +\n",
    "            gdat[\"pmdec\"] ** 2 * gdat[\"pmdec_error\"] ** 2 / (gdat[\"pmra\"] ** 2 + gdat[\"pmdec\"] ** 2) +\n",
    "            2 * gdat[\"pmra\"] * gdat[\"pmdec\"]/(gdat[\"pmra\"] + gdat[\"pmdec\"] ** 2) * gdat[\"pmra_pmdec_corr\"]*gdat[\"pmra_error\"]*gdat[\"pmdec_error\"])\n",
    "    gdat[\"pm_unc\"] = pm_unc\n",
    "    gdat[\"pm\"] = pm\n",
    "    \n",
    "    gdat = Table.from_pandas(gdat)\n",
    "    break"
   ]
  },
  {
   "cell_type": "code",
   "execution_count": 45,
   "metadata": {},
   "outputs": [],
   "source": [
    "gdat_cut = gdat[np.where((gdat[\"phot_bp_rp_excess_factor\"] < 1.3+0.06*np.power(gdat[\"phot_bp_mean_mag\"]-gdat[\"phot_rp_mean_mag\"],2)) &\n",
    "        (gdat[\"phot_bp_rp_excess_factor\"] > 1.0+0.015*np.power(gdat[\"phot_bp_mean_mag\"]-gdat[\"phot_rp_mean_mag\"],2)) &\n",
    "        (gdat[\"astrometric_chi2_al\"]/(gdat[\"astrometric_n_good_obs_al\"]-5) < 1.44*np.maximum(1,np.exp(-0.4*(gdat[\"phot_g_mean_mag\"]-19.5))))\n",
    "        )]"
   ]
  },
  {
   "cell_type": "markdown",
   "metadata": {},
   "source": [
    "The following query was used to select **obvious stars** from the Gaia-PS1 crossmatch table: \n",
    "\n",
    "    select ps1.*,\n",
    "    sqrt(power(pmra,2) + power(pmdec,2)) as pm, \n",
    "    sqrt(  power(pmra,2)*power(pmra_error, 2)/(power(pmra,2) + power(pmdec,2)) \n",
    "\t + power(pmdec,2)*power(pmdec_error, 2)/(power(pmra,2) + power(pmdec,2)) \n",
    "\t + 2*pmra*pmdec/(power(pmra,2) + power(pmdec,2))*pmra_pmdec_corr*pmra_error*pmdec_error) as pm_unc, \n",
    "    gaia.parallax_over_error, gaia.phot_g_mean_mag, gaia.b\n",
    "    from gaiadr2.panstarrs1_best_neighbour as ps1 \n",
    "    inner join gaiadr2.gaia_source as gaia\n",
    "    on ps1.source_id = gaia.source_id\n",
    "    where gaia.astrometric_params_solved > 3\n",
    "    and gaia.dec between -10 and -5\n",
    "    and phot_bp_rp_excess_factor < 1.3+0.06*power(phot_bp_mean_mag-phot_rp_mean_mag,2)\n",
    "    AND phot_bp_rp_excess_factor > 1.0+0.015*power(phot_bp_mean_mag-phot_rp_mean_mag,2)\n",
    "    AND astrometric_chi2_al/(astrometric_n_good_obs_al-5) < 1.44*greatest(1,exp(-0.4*(phot_g_mean_mag-19.5)))\n",
    "    order by ps1.original_ext_source_id\n",
    "\n",
    "where the above query produced the file `dec_neg10-result.fits` and the declination range was adjusted to create all the other files."
   ]
  },
  {
   "cell_type": "markdown",
   "metadata": {},
   "source": [
    "## Create the loop to put all the objid into a single file"
   ]
  },
  {
   "cell_type": "code",
   "execution_count": 36,
   "metadata": {},
   "outputs": [
    {
     "name": "stderr",
     "output_type": "stream",
     "text": [
      "/home/xhall/anaconda3/lib/python3.7/site-packages/pandas/core/series.py:679: RuntimeWarning: invalid value encountered in sqrt\n",
      "  result = getattr(ufunc, method)(*inputs, **kwargs)\n",
      "/home/xhall/anaconda3/lib/python3.7/site-packages/astropy/table/column.py:1020: RuntimeWarning: invalid value encountered in less\n",
      "  result = getattr(super(), op)(other)\n",
      "/home/xhall/anaconda3/lib/python3.7/site-packages/astropy/table/column.py:1020: RuntimeWarning: invalid value encountered in greater\n",
      "  result = getattr(super(), op)(other)\n",
      "/home/xhall/anaconda3/lib/python3.7/site-packages/astropy/table/column.py:1020: RuntimeWarning: invalid value encountered in greater_equal\n",
      "  result = getattr(super(), op)(other)\n"
     ]
    },
    {
     "name": "stdout",
     "output_type": "stream",
     "text": [
      "0 Cross4.csv 367 0.000343076904380634\n",
      "1 Cross6.csv 0 0.0\n",
      "2 Cross8.csv 0 0.0\n",
      "3 Cross5.csv 0 0.0\n",
      "4 Cross3.csv 0 0.0\n",
      "5 Cross7.csv 1 3.822995316830737e-06\n",
      "6 Cross12.csv 3174 0.00289448006055245\n",
      "7 Cross2.csv 136 0.0003556438854094481\n",
      "8 Cross10.csv 10 0.0001758860258552458\n",
      "9 Cross9.csv 0 0.0\n",
      "10 Cross11.csv 0 0.0\n",
      "11 Cross1.csv 726 0.0006541253596112729\n",
      "12 Cross0.csv 0 0.0\n"
     ]
    }
   ],
   "source": [
    "gaia_dir = \"/home/xhall/Documents/GaiaCross/\"\n",
    "gaia_files = glob.glob(\"/home/xhall/Documents/GaiaCross/Reprinted/*.csv\")\n",
    "for file_num, gf in enumerate(gaia_files):\n",
    "    gdat = pd.read_csv(gf)\n",
    "    \n",
    "    pm = np.sqrt(gdat[\"pmra\"]**2 + gdat[\"pmdec\"]**2)\n",
    "    pm_unc = np.sqrt(gdat[\"pmra\"] ** 2 * gdat[\"pmra_error\"] ** 2 /(gdat[\"pmra\"] ** 2 + gdat[\"pmdec\"] ** 2) +\n",
    "            gdat[\"pmdec\"] ** 2 * gdat[\"pmdec_error\"] ** 2 / (gdat[\"pmra\"] ** 2 + gdat[\"pmdec\"] ** 2) +\n",
    "            2 * gdat[\"pmra\"] * gdat[\"pmdec\"]/(gdat[\"pmra\"] + gdat[\"pmdec\"] ** 2) * gdat[\"pmra_pmdec_corr\"]*gdat[\"pmra_error\"]*gdat[\"pmdec_error\"])\n",
    "    gdat[\"pm_unc\"] = pm_unc\n",
    "    gdat[\"pm\"] = pm\n",
    "    \n",
    "    gdat = Table.from_pandas(gdat)\n",
    "    \n",
    "    gdat = gdat[np.where((gdat[\"phot_bp_rp_excess_factor\"] < 1.3+0.06*np.power(gdat[\"phot_bp_mean_mag\"]-gdat[\"phot_rp_mean_mag\"],2)) &\n",
    "        (gdat[\"phot_bp_rp_excess_factor\"] > 1.0+0.015*np.power(gdat[\"phot_bp_mean_mag\"]-gdat[\"phot_rp_mean_mag\"],2)) &\n",
    "        (gdat[\"astrometric_chi2_al\"]/(gdat[\"astrometric_n_good_obs_al\"]-5) < 1.44*np.maximum(1,np.exp(-0.4*(gdat[\"phot_g_mean_mag\"]-19.5))))\n",
    "        )]\n",
    "    \n",
    "    parallax_stars = np.where( (gdat['parallax_over_error'] >= 8) & \n",
    "                               (gdat['number_of_neighbours'] == 1) & \n",
    "                               (gdat['number_of_mates'] == 0))\n",
    "    pm_stars = np.where((gdat['pm']/gdat['pm_unc'] >= 7.5) & \n",
    "                         (gdat['number_of_neighbours'] == 1) & \n",
    "                         (gdat['number_of_mates'] == 0))\n",
    "    tmp_df = pd.DataFrame(gdat['original_ext_source_id'][parallax_stars]).rename(columns={\"original_ext_source_id\": \"objid\"})\n",
    "    big_df = tmp_df.copy()\n",
    "    big_df['pm_over_error'] = gdat['pm'][parallax_stars]/gdat['pm_unc'][parallax_stars]\n",
    "    big_df['parallax_over_error'] = gdat['parallax_over_error'][parallax_stars]\n",
    "    big_df['g_mag'] = gdat['phot_g_mean_mag'][parallax_stars]\n",
    "    \n",
    "    print(file_num, gf.split(\"/\")[-1], len(gdat[parallax_stars]), \n",
    "          len(parallax_stars[0])/len(gdat))\n",
    "    if file_num == 0:\n",
    "        master_df = tmp_df.copy()\n",
    "        master_big = big_df.copy()\n",
    "    else:\n",
    "        master_df = master_df.append(tmp_df, ignore_index=True)\n",
    "        master_big = master_big.append(big_df, ignore_index=True)"
   ]
  },
  {
   "cell_type": "code",
   "execution_count": 37,
   "metadata": {},
   "outputs": [
    {
     "data": {
      "text/plain": [
       "4414"
      ]
     },
     "execution_count": 37,
     "metadata": {},
     "output_type": "execute_result"
    }
   ],
   "source": [
    "master_df.to_hdf(gaia_dir + \"parallax_objid_stars.h5\", \"d1\")\n",
    "len(master_df)"
   ]
  },
  {
   "cell_type": "code",
   "execution_count": 38,
   "metadata": {},
   "outputs": [
    {
     "data": {
      "text/plain": [
       "4414"
      ]
     },
     "execution_count": 38,
     "metadata": {},
     "output_type": "execute_result"
    }
   ],
   "source": [
    "master_big.to_hdf(gaia_dir + \"parallax_ps1_gaia_mag_pm_plx.h5\", \"d1\")\n",
    "len(master_big)"
   ]
  },
  {
   "cell_type": "code",
   "execution_count": 39,
   "metadata": {},
   "outputs": [
    {
     "name": "stdout",
     "output_type": "stream",
     "text": [
      "0 Cross4.csv 26463 0.024737994879086424\n",
      "1 Cross6.csv 1107 0.012424521313609733\n",
      "2 Cross8.csv 2562 0.005940111985717763\n",
      "3 Cross5.csv 5079 0.005619233067067909\n",
      "4 Cross3.csv 992 0.012231058504407866\n",
      "5 Cross7.csv 1891 0.007229284144126924\n",
      "6 Cross12.csv 52677 0.048037972952023125\n",
      "7 Cross2.csv 8521 0.022282658438043435\n",
      "8 Cross10.csv 2271 0.03994371647172632\n",
      "9 Cross9.csv 3626 0.009707802117189718\n",
      "10 Cross11.csv 1221 0.022737853591314548\n",
      "11 Cross1.csv 50240 0.045266195684394425\n",
      "12 Cross0.csv 526 0.009644828281717\n"
     ]
    }
   ],
   "source": [
    "for file_num, gf in enumerate(gaia_files):\n",
    "    gdat = pd.read_csv(gf)\n",
    "    \n",
    "    pm = np.sqrt(gdat[\"pmra\"]**2 + gdat[\"pmdec\"]**2)\n",
    "    pm_unc = np.sqrt(gdat[\"pmra\"] ** 2 * gdat[\"pmra_error\"] ** 2 /(gdat[\"pmra\"] ** 2 + gdat[\"pmdec\"] ** 2) +\n",
    "            gdat[\"pmdec\"] ** 2 * gdat[\"pmdec_error\"] ** 2 / (gdat[\"pmra\"] ** 2 + gdat[\"pmdec\"] ** 2) +\n",
    "            2 * gdat[\"pmra\"] * gdat[\"pmdec\"]/(gdat[\"pmra\"] + gdat[\"pmdec\"] ** 2) * gdat[\"pmra_pmdec_corr\"]*gdat[\"pmra_error\"]*gdat[\"pmdec_error\"])\n",
    "    gdat[\"pm_unc\"] = pm_unc\n",
    "    gdat[\"pm\"] = pm\n",
    "    \n",
    "    gdat = Table.from_pandas(gdat)\n",
    "    \n",
    "    gdat = gdat[np.where((gdat[\"phot_bp_rp_excess_factor\"] < 1.3+0.06*np.power(gdat[\"phot_bp_mean_mag\"]-gdat[\"phot_rp_mean_mag\"],2)) &\n",
    "        (gdat[\"phot_bp_rp_excess_factor\"] > 1.0+0.015*np.power(gdat[\"phot_bp_mean_mag\"]-gdat[\"phot_rp_mean_mag\"],2)) &\n",
    "        (gdat[\"astrometric_chi2_al\"]/(gdat[\"astrometric_n_good_obs_al\"]-5) < 1.44*np.maximum(1,np.exp(-0.4*(gdat[\"phot_g_mean_mag\"]-19.5))))\n",
    "        )]\n",
    "    \n",
    "    parallax_stars = np.where( (gdat['parallax_over_error'] >= 8) & \n",
    "                               (gdat['number_of_neighbours'] == 1) & \n",
    "                               (gdat['number_of_mates'] == 0))\n",
    "    pm_stars = np.where((gdat['pm']/gdat['pm_unc'] >= 7.5) &\n",
    "                         (gdat['number_of_neighbours'] == 1) & \n",
    "                         (gdat['number_of_mates'] == 0))\n",
    "    tmp_df = pd.DataFrame(gdat['original_ext_source_id'][pm_stars]).rename(columns={\"original_ext_source_id\": \"objid\"})\n",
    "    big_df = tmp_df.copy()\n",
    "    big_df['pm_over_error'] = gdat['pm'][pm_stars]/gdat['pm_unc'][pm_stars]\n",
    "    big_df['parallax_over_error'] = gdat['parallax_over_error'][pm_stars]\n",
    "    big_df['g_mag'] = gdat['phot_g_mean_mag'][pm_stars]\n",
    "    \n",
    "    print(file_num, gf.split(\"/\")[-1], len(gdat[pm_stars]), \n",
    "          len(pm_stars[0])/len(gdat))\n",
    "    if file_num == 0:\n",
    "        master_df = tmp_df.copy()\n",
    "        master_big = big_df.copy()\n",
    "    else:\n",
    "        master_df = master_df.append(tmp_df, ignore_index=True)\n",
    "        master_big = master_big.append(big_df, ignore_index=True)"
   ]
  },
  {
   "cell_type": "code",
   "execution_count": 40,
   "metadata": {},
   "outputs": [
    {
     "data": {
      "text/plain": [
       "157176"
      ]
     },
     "execution_count": 40,
     "metadata": {},
     "output_type": "execute_result"
    }
   ],
   "source": [
    "master_df.to_hdf(gaia_dir + \"pm_objid_stars.h5\", \"d1\")\n",
    "len(master_df)"
   ]
  },
  {
   "cell_type": "code",
   "execution_count": 41,
   "metadata": {},
   "outputs": [
    {
     "data": {
      "text/plain": [
       "157176"
      ]
     },
     "execution_count": 41,
     "metadata": {},
     "output_type": "execute_result"
    }
   ],
   "source": [
    "master_big.to_hdf(gaia_dir + \"pm_ps1_gaia_mag_pm_plx.h5\", \"d1\")\n",
    "len(master_big)"
   ]
  },
  {
   "cell_type": "code",
   "execution_count": null,
   "metadata": {},
   "outputs": [],
   "source": []
  }
 ],
 "metadata": {
  "kernelspec": {
   "display_name": "Python 3",
   "language": "python",
   "name": "python3"
  },
  "language_info": {
   "codemirror_mode": {
    "name": "ipython",
    "version": 3
   },
   "file_extension": ".py",
   "mimetype": "text/x-python",
   "name": "python",
   "nbconvert_exporter": "python",
   "pygments_lexer": "ipython3",
   "version": "3.7.6"
  }
 },
 "nbformat": 4,
 "nbformat_minor": 4
}
