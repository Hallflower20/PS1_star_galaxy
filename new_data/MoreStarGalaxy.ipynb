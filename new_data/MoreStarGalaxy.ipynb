{
 "cells": [
  {
   "cell_type": "code",
   "execution_count": 1,
   "metadata": {},
   "outputs": [],
   "source": [
    "import numpy as np\n",
    "import pandas as pd \n",
    "from astropy.io import fits\n",
    "import matplotlib.pyplot as plt\n",
    "from astropy.table import Table\n",
    "import glob\n",
    "\n",
    "%matplotlib inline"
   ]
  },
  {
   "cell_type": "code",
   "execution_count": 2,
   "metadata": {},
   "outputs": [],
   "source": [
    "data_loc = \"/home/xhall/Documents/StarGalaxy/\""
   ]
  },
  {
   "cell_type": "code",
   "execution_count": 3,
   "metadata": {},
   "outputs": [],
   "source": [
    "hubble = Table.read(data_loc + \"gz_hubble_main.fits\")\n",
    "#Star = 0\n",
    "#Galaxy = 1"
   ]
  },
  {
   "cell_type": "code",
   "execution_count": 4,
   "metadata": {},
   "outputs": [
    {
     "data": {
      "text/html": [
       "<i>Row index=0 masked=True</i>\n",
       "<table id=\"table140250961345424\">\n",
       "<thead><tr><th>zooniverse_id</th><th>survey_id</th><th>Table</th><th>RA</th><th>DEC</th><th>Z_BEST</th><th>GZ_MU_I</th><th>imaging</th><th>correction_type</th><th>total_count</th><th>total_weight</th><th>t01_smooth_or_features_a01_smooth_fraction</th><th>t01_smooth_or_features_a01_smooth_weighted_fraction</th><th>t01_smooth_or_features_a01_smooth_debiased_fraction</th><th>t01_smooth_or_features_a01_smooth_lower_limit</th><th>t01_smooth_or_features_a01_smooth_upper_limit</th><th>t01_smooth_or_features_a01_smooth_best_fraction</th><th>t01_smooth_or_features_a01_smooth_flag</th><th>t01_smooth_or_features_a02_features_or_disk_fraction</th><th>t01_smooth_or_features_a02_features_or_disk_weighted_fraction</th><th>t01_smooth_or_features_a02_features_or_disk_debiased_fraction</th><th>t01_smooth_or_features_a02_features_or_disk_lower_limit</th><th>t01_smooth_or_features_a02_features_or_disk_upper_limit</th><th>t01_smooth_or_features_a02_features_or_disk_best_fraction</th><th>t01_smooth_or_features_a02_features_or_disk_flag</th><th>t01_smooth_or_features_a03_star_or_artifact_fraction</th><th>t01_smooth_or_features_a03_star_or_artifact_weighted_fraction</th><th>t01_smooth_or_features_a03_star_or_artifact_flag</th><th>t01_smooth_or_features_total_count</th><th>t01_smooth_or_features_total_weight</th><th>t02_edgeon_a01_yes_fraction</th><th>t02_edgeon_a01_yes_weighted_fraction</th><th>t02_edgeon_a02_no_fraction</th><th>t02_edgeon_a02_no_weighted_fraction</th><th>t02_edgeon_total_count</th><th>t02_edgeon_total_weight</th><th>t03_bar_a01_bar_fraction</th><th>t03_bar_a01_bar_weighted_fraction</th><th>t03_bar_a02_no_bar_fraction</th><th>t03_bar_a02_no_bar_weighted_fraction</th><th>t03_bar_total_count</th><th>t03_bar_total_weight</th><th>t04_spiral_a01_spiral_fraction</th><th>t04_spiral_a01_spiral_weighted_fraction</th><th>t04_spiral_a02_no_spiral_fraction</th><th>t04_spiral_a02_no_spiral_weighted_fraction</th><th>t04_spiral_total_count</th><th>t04_spiral_total_weight</th><th>t05_bulge_prominence_a01_no_bulge_fraction</th><th>t05_bulge_prominence_a01_no_bulge_weighted_fraction</th><th>t05_bulge_prominence_a02_just_noticeable_fraction</th><th>t05_bulge_prominence_a02_just_noticeable_weighted_fraction</th><th>t05_bulge_prominence_a03_obvious_fraction</th><th>t05_bulge_prominence_a03_obvious_weighted_fraction</th><th>t05_bulge_prominence_a04_dominant_fraction</th><th>t05_bulge_prominence_a04_dominant_weighted_fraction</th><th>t05_bulge_prominence_total_count</th><th>t05_bulge_prominence_total_weight</th><th>t06_odd_a01_yes_fraction</th><th>t06_odd_a01_yes_weighted_fraction</th><th>t06_odd_a02_no_fraction</th><th>t06_odd_a02_no_weighted_fraction</th><th>t06_odd_total_count</th><th>t06_odd_total_weight</th><th>t07_rounded_a01_completely_round_fraction</th><th>t07_rounded_a01_completely_round_weighted_fraction</th><th>t07_rounded_a02_in_between_fraction</th><th>t07_rounded_a02_in_between_weighted_fraction</th><th>t07_rounded_a03_cigar_shaped_fraction</th><th>t07_rounded_a03_cigar_shaped_weighted_fraction</th><th>t07_rounded_total_count</th><th>t07_rounded_total_weight</th><th>t08_odd_feature_a01_ring_fraction</th><th>t08_odd_feature_a01_ring_weighted_fraction</th><th>t08_odd_feature_a02_lens_or_arc_fraction</th><th>t08_odd_feature_a02_lens_or_arc_weighted_fraction</th><th>t08_odd_feature_a03_disturbed_fraction</th><th>t08_odd_feature_a03_disturbed_weighted_fraction</th><th>t08_odd_feature_a04_irregular_fraction</th><th>t08_odd_feature_a04_irregular_weighted_fraction</th><th>t08_odd_feature_a05_other_fraction</th><th>t08_odd_feature_a05_other_weighted_fraction</th><th>t08_odd_feature_a06_merger_fraction</th><th>t08_odd_feature_a06_merger_weighted_fraction</th><th>t08_odd_feature_a07_dust_lane_fraction</th><th>t08_odd_feature_a07_dust_lane_weighted_fraction</th><th>t08_odd_feature_total_count</th><th>t08_odd_feature_total_weight</th><th>t09_bulge_shape_a01_rounded_fraction</th><th>t09_bulge_shape_a01_rounded_weighted_fraction</th><th>t09_bulge_shape_a02_boxy_fraction</th><th>t09_bulge_shape_a02_boxy_weighted_fraction</th><th>t09_bulge_shape_a03_no_bulge_fraction</th><th>t09_bulge_shape_a03_no_bulge_weighted_fraction</th><th>t09_bulge_shape_total_count</th><th>t09_bulge_shape_total_weight</th><th>t10_arms_winding_a01_tight_fraction</th><th>t10_arms_winding_a01_tight_weighted_fraction</th><th>t10_arms_winding_a02_medium_fraction</th><th>t10_arms_winding_a02_medium_weighted_fraction</th><th>t10_arms_winding_a03_loose_fraction</th><th>t10_arms_winding_a03_loose_weighted_fraction</th><th>t10_arms_winding_total_count</th><th>t10_arms_winding_total_weight</th><th>t11_arms_number_a01_1_fraction</th><th>t11_arms_number_a01_1_weighted_fraction</th><th>t11_arms_number_a02_2_fraction</th><th>t11_arms_number_a02_2_weighted_fraction</th><th>t11_arms_number_a03_3_fraction</th><th>t11_arms_number_a03_3_weighted_fraction</th><th>t11_arms_number_a04_4_fraction</th><th>t11_arms_number_a04_4_weighted_fraction</th><th>t11_arms_number_a05_more_than_4_fraction</th><th>t11_arms_number_a05_more_than_4_weighted_fraction</th><th>t11_arms_number_a06_cant_tell_fraction</th><th>t11_arms_number_a06_cant_tell_weighted_fraction</th><th>t11_arms_number_total_count</th><th>t11_arms_number_total_weight</th><th>t12_clumpy_a01_yes_fraction</th><th>t12_clumpy_a01_yes_weighted_fraction</th><th>t12_clumpy_a02_no_fraction</th><th>t12_clumpy_a02_no_weighted_fraction</th><th>t12_clumpy_total_count</th><th>t12_clumpy_total_weight</th><th>t13_bright_clump_a01_yes_fraction</th><th>t13_bright_clump_a01_yes_weighted_fraction</th><th>t13_bright_clump_a02_no_fraction</th><th>t13_bright_clump_a02_no_weighted_fraction</th><th>t13_bright_clump_total_count</th><th>t13_bright_clump_total_weight</th><th>t14_bright_clump_central_a01_yes_fraction</th><th>t14_bright_clump_central_a01_yes_weighted_fraction</th><th>t14_bright_clump_central_a02_no_fraction</th><th>t14_bright_clump_central_a02_no_weighted_fraction</th><th>t14_bright_clump_central_total_count</th><th>t14_bright_clump_central_total_weight</th><th>t15_clumps_arrangement_a01_line_fraction</th><th>t15_clumps_arrangement_a01_line_weighted_fraction</th><th>t15_clumps_arrangement_a02_chain_fraction</th><th>t15_clumps_arrangement_a02_chain_weighted_fraction</th><th>t15_clumps_arrangement_a03_cluster_fraction</th><th>t15_clumps_arrangement_a03_cluster_weighted_fraction</th><th>t15_clumps_arrangement_a04_spiral_fraction</th><th>t15_clumps_arrangement_a04_spiral_weighted_fraction</th><th>t15_clumps_arrangement_total_count</th><th>t15_clumps_arrangement_total_weight</th><th>t16_clumps_count_a02_2_fraction</th><th>t16_clumps_count_a02_2_weighted_fraction</th><th>t16_clumps_count_a03_3_fraction</th><th>t16_clumps_count_a03_3_weighted_fraction</th><th>t16_clumps_count_a04_4_fraction</th><th>t16_clumps_count_a04_4_weighted_fraction</th><th>t16_clumps_count_a05_more_than_4_fraction</th><th>t16_clumps_count_a05_more_than_4_weighted_fraction</th><th>t16_clumps_count_a06_cant_tell_fraction</th><th>t16_clumps_count_a06_cant_tell_weighted_fraction</th><th>t16_clumps_count_a01_1_fraction</th><th>t16_clumps_count_a01_1_weighted_fraction</th><th>t16_clumps_count_total_count</th><th>t16_clumps_count_total_weight</th><th>t17_clumps_symmetrical_a01_yes_fraction</th><th>t17_clumps_symmetrical_a01_yes_weighted_fraction</th><th>t17_clumps_symmetrical_a02_no_fraction</th><th>t17_clumps_symmetrical_a02_no_weighted_fraction</th><th>t17_clumps_symmetrical_total_count</th><th>t17_clumps_symmetrical_total_weight</th><th>t18_clumps_embedded_a01_yes_fraction</th><th>t18_clumps_embedded_a01_yes_weighted_fraction</th><th>t18_clumps_embedded_a02_no_fraction</th><th>t18_clumps_embedded_a02_no_weighted_fraction</th><th>t18_clumps_embedded_total_count</th><th>t18_clumps_embedded_total_weight</th></tr></thead>\n",
       "<thead><tr><th>bytes10</th><th>bytes19</th><th>bytes13</th><th>float64</th><th>float64</th><th>float64</th><th>float64</th><th>bytes17</th><th>float64</th><th>int16</th><th>float32</th><th>float32</th><th>float32</th><th>float64</th><th>float64</th><th>float64</th><th>float64</th><th>bool</th><th>float32</th><th>float32</th><th>float64</th><th>float64</th><th>float64</th><th>float64</th><th>bool</th><th>float32</th><th>float32</th><th>bool</th><th>int16</th><th>float32</th><th>float32</th><th>float32</th><th>float32</th><th>float32</th><th>int16</th><th>float32</th><th>float32</th><th>float32</th><th>float32</th><th>float32</th><th>int16</th><th>float32</th><th>float32</th><th>float32</th><th>float32</th><th>float32</th><th>int16</th><th>float32</th><th>float32</th><th>float32</th><th>float32</th><th>float32</th><th>float32</th><th>float32</th><th>float32</th><th>float32</th><th>int16</th><th>float32</th><th>float32</th><th>float32</th><th>float32</th><th>float32</th><th>int16</th><th>float32</th><th>float32</th><th>float32</th><th>float32</th><th>float32</th><th>float32</th><th>float32</th><th>int16</th><th>float32</th><th>float32</th><th>float32</th><th>float32</th><th>float32</th><th>float32</th><th>float32</th><th>float32</th><th>float32</th><th>float32</th><th>float32</th><th>float32</th><th>float32</th><th>float32</th><th>float32</th><th>int16</th><th>float32</th><th>float32</th><th>float32</th><th>float32</th><th>float32</th><th>float32</th><th>float32</th><th>int16</th><th>float32</th><th>float32</th><th>float32</th><th>float32</th><th>float32</th><th>float32</th><th>float32</th><th>int16</th><th>float32</th><th>float32</th><th>float32</th><th>float32</th><th>float32</th><th>float32</th><th>float32</th><th>float32</th><th>float32</th><th>float32</th><th>float32</th><th>float32</th><th>float32</th><th>int16</th><th>float32</th><th>float32</th><th>float32</th><th>float32</th><th>float32</th><th>int16</th><th>float32</th><th>float32</th><th>float32</th><th>float32</th><th>float32</th><th>int16</th><th>float32</th><th>float32</th><th>float32</th><th>float32</th><th>float32</th><th>int16</th><th>float32</th><th>float32</th><th>float32</th><th>float32</th><th>float32</th><th>float32</th><th>float32</th><th>float32</th><th>float32</th><th>int16</th><th>float32</th><th>float32</th><th>float32</th><th>float32</th><th>float32</th><th>float32</th><th>float32</th><th>float32</th><th>float32</th><th>float32</th><th>float32</th><th>float32</th><th>float32</th><th>int16</th><th>float32</th><th>float32</th><th>float32</th><th>float32</th><th>float32</th><th>int16</th><th>float32</th><th>float32</th><th>float32</th><th>float32</th><th>float32</th><th>int16</th><th>float32</th></tr></thead>\n",
       "<tr><td>AGZ0007xmh</td><td>1</td><td>hubble</td><td>188.8973182</td><td>62.2003343</td><td>0.09000000357627869</td><td>21.30505567392285</td><td>GOODS-N-FULLDEPTH</td><td>2.0</td><td>40</td><td>40.0</td><td>0.2</td><td>0.2</td><td>0.35732136335336906</td><td>nan</td><td>nan</td><td>0.20000001788139343</td><td>False</td><td>0.525</td><td>0.525</td><td>0.36767863068616646</td><td>nan</td><td>nan</td><td>0.5249999761581421</td><td>False</td><td>0.275</td><td>0.275</td><td>False</td><td>40</td><td>40.0</td><td>0.14285715</td><td>0.14285715</td><td>0.85714287</td><td>0.85714287</td><td>7</td><td>7.0</td><td>0.0</td><td>0.0</td><td>1.0</td><td>1.0</td><td>6</td><td>6.0</td><td>0.16666667</td><td>0.16666667</td><td>0.8333333</td><td>0.8333333</td><td>6</td><td>6.0</td><td>0.5</td><td>0.5</td><td>0.5</td><td>0.5</td><td>0.0</td><td>0.0</td><td>0.0</td><td>0.0</td><td>6</td><td>6.0</td><td>0.4827586</td><td>0.4827586</td><td>0.51724136</td><td>0.51724136</td><td>29</td><td>29.0</td><td>0.0</td><td>0.0</td><td>0.625</td><td>0.625</td><td>0.375</td><td>0.375</td><td>8</td><td>8.0</td><td>0.0</td><td>0.0</td><td>0.0</td><td>0.0</td><td>0.071428575</td><td>0.071428575</td><td>0.2857143</td><td>0.2857143</td><td>0.35714287</td><td>0.35714287</td><td>0.5714286</td><td>0.5714286</td><td>0.0</td><td>0.0</td><td>14</td><td>14.0</td><td>0.0</td><td>0.0</td><td>0.0</td><td>0.0</td><td>1.0</td><td>1.0</td><td>1</td><td>1.0</td><td>0.0</td><td>0.0</td><td>0.0</td><td>0.0</td><td>1.0</td><td>1.0</td><td>1</td><td>1.0</td><td>1.0</td><td>1.0</td><td>0.0</td><td>0.0</td><td>0.0</td><td>0.0</td><td>0.0</td><td>0.0</td><td>0.0</td><td>0.0</td><td>0.0</td><td>0.0</td><td>1</td><td>1.0</td><td>0.6666667</td><td>0.6666667</td><td>0.33333334</td><td>0.33333334</td><td>21</td><td>21.0</td><td>1.0</td><td>1.0</td><td>0.0</td><td>0.0</td><td>13</td><td>13.0</td><td>0.15384616</td><td>0.15384616</td><td>0.84615386</td><td>0.84615386</td><td>13</td><td>13.0</td><td>0.4</td><td>0.4</td><td>0.4</td><td>0.4</td><td>0.0</td><td>0.0</td><td>0.2</td><td>0.2</td><td>5</td><td>5.0</td><td>0.071428575</td><td>0.071428575</td><td>0.5714286</td><td>0.5714286</td><td>0.14285715</td><td>0.14285715</td><td>0.071428575</td><td>0.071428575</td><td>0.14285715</td><td>0.14285715</td><td>0.0</td><td>0.0</td><td>14</td><td>14.0</td><td>0.6666667</td><td>0.6666667</td><td>0.33333334</td><td>0.33333334</td><td>3</td><td>3.0</td><td>0.6666667</td><td>0.6666667</td><td>0.33333334</td><td>0.33333334</td><td>3</td><td>3.0</td></tr>\n",
       "</table>"
      ],
      "text/plain": [
       "<Row index=0 masked=True>\n",
       "zooniverse_id      survey_id          Table          RA        DEC            Z_BEST            GZ_MU_I           imaging      correction_type total_count total_weight t01_smooth_or_features_a01_smooth_fraction t01_smooth_or_features_a01_smooth_weighted_fraction t01_smooth_or_features_a01_smooth_debiased_fraction t01_smooth_or_features_a01_smooth_lower_limit t01_smooth_or_features_a01_smooth_upper_limit t01_smooth_or_features_a01_smooth_best_fraction t01_smooth_or_features_a01_smooth_flag t01_smooth_or_features_a02_features_or_disk_fraction t01_smooth_or_features_a02_features_or_disk_weighted_fraction t01_smooth_or_features_a02_features_or_disk_debiased_fraction t01_smooth_or_features_a02_features_or_disk_lower_limit t01_smooth_or_features_a02_features_or_disk_upper_limit t01_smooth_or_features_a02_features_or_disk_best_fraction t01_smooth_or_features_a02_features_or_disk_flag t01_smooth_or_features_a03_star_or_artifact_fraction t01_smooth_or_features_a03_star_or_artifact_weighted_fraction t01_smooth_or_features_a03_star_or_artifact_flag t01_smooth_or_features_total_count t01_smooth_or_features_total_weight t02_edgeon_a01_yes_fraction t02_edgeon_a01_yes_weighted_fraction t02_edgeon_a02_no_fraction t02_edgeon_a02_no_weighted_fraction t02_edgeon_total_count t02_edgeon_total_weight t03_bar_a01_bar_fraction t03_bar_a01_bar_weighted_fraction t03_bar_a02_no_bar_fraction t03_bar_a02_no_bar_weighted_fraction t03_bar_total_count t03_bar_total_weight t04_spiral_a01_spiral_fraction t04_spiral_a01_spiral_weighted_fraction t04_spiral_a02_no_spiral_fraction t04_spiral_a02_no_spiral_weighted_fraction t04_spiral_total_count t04_spiral_total_weight t05_bulge_prominence_a01_no_bulge_fraction t05_bulge_prominence_a01_no_bulge_weighted_fraction t05_bulge_prominence_a02_just_noticeable_fraction t05_bulge_prominence_a02_just_noticeable_weighted_fraction t05_bulge_prominence_a03_obvious_fraction t05_bulge_prominence_a03_obvious_weighted_fraction t05_bulge_prominence_a04_dominant_fraction t05_bulge_prominence_a04_dominant_weighted_fraction t05_bulge_prominence_total_count t05_bulge_prominence_total_weight t06_odd_a01_yes_fraction t06_odd_a01_yes_weighted_fraction t06_odd_a02_no_fraction t06_odd_a02_no_weighted_fraction t06_odd_total_count t06_odd_total_weight t07_rounded_a01_completely_round_fraction t07_rounded_a01_completely_round_weighted_fraction t07_rounded_a02_in_between_fraction t07_rounded_a02_in_between_weighted_fraction t07_rounded_a03_cigar_shaped_fraction t07_rounded_a03_cigar_shaped_weighted_fraction t07_rounded_total_count t07_rounded_total_weight t08_odd_feature_a01_ring_fraction t08_odd_feature_a01_ring_weighted_fraction t08_odd_feature_a02_lens_or_arc_fraction t08_odd_feature_a02_lens_or_arc_weighted_fraction t08_odd_feature_a03_disturbed_fraction t08_odd_feature_a03_disturbed_weighted_fraction t08_odd_feature_a04_irregular_fraction t08_odd_feature_a04_irregular_weighted_fraction t08_odd_feature_a05_other_fraction t08_odd_feature_a05_other_weighted_fraction t08_odd_feature_a06_merger_fraction t08_odd_feature_a06_merger_weighted_fraction t08_odd_feature_a07_dust_lane_fraction t08_odd_feature_a07_dust_lane_weighted_fraction t08_odd_feature_total_count t08_odd_feature_total_weight t09_bulge_shape_a01_rounded_fraction t09_bulge_shape_a01_rounded_weighted_fraction t09_bulge_shape_a02_boxy_fraction t09_bulge_shape_a02_boxy_weighted_fraction t09_bulge_shape_a03_no_bulge_fraction t09_bulge_shape_a03_no_bulge_weighted_fraction t09_bulge_shape_total_count t09_bulge_shape_total_weight t10_arms_winding_a01_tight_fraction t10_arms_winding_a01_tight_weighted_fraction t10_arms_winding_a02_medium_fraction t10_arms_winding_a02_medium_weighted_fraction t10_arms_winding_a03_loose_fraction t10_arms_winding_a03_loose_weighted_fraction t10_arms_winding_total_count t10_arms_winding_total_weight t11_arms_number_a01_1_fraction t11_arms_number_a01_1_weighted_fraction t11_arms_number_a02_2_fraction t11_arms_number_a02_2_weighted_fraction t11_arms_number_a03_3_fraction t11_arms_number_a03_3_weighted_fraction t11_arms_number_a04_4_fraction t11_arms_number_a04_4_weighted_fraction t11_arms_number_a05_more_than_4_fraction t11_arms_number_a05_more_than_4_weighted_fraction t11_arms_number_a06_cant_tell_fraction t11_arms_number_a06_cant_tell_weighted_fraction t11_arms_number_total_count t11_arms_number_total_weight t12_clumpy_a01_yes_fraction t12_clumpy_a01_yes_weighted_fraction t12_clumpy_a02_no_fraction t12_clumpy_a02_no_weighted_fraction t12_clumpy_total_count t12_clumpy_total_weight t13_bright_clump_a01_yes_fraction t13_bright_clump_a01_yes_weighted_fraction t13_bright_clump_a02_no_fraction t13_bright_clump_a02_no_weighted_fraction t13_bright_clump_total_count t13_bright_clump_total_weight t14_bright_clump_central_a01_yes_fraction t14_bright_clump_central_a01_yes_weighted_fraction t14_bright_clump_central_a02_no_fraction t14_bright_clump_central_a02_no_weighted_fraction t14_bright_clump_central_total_count t14_bright_clump_central_total_weight t15_clumps_arrangement_a01_line_fraction t15_clumps_arrangement_a01_line_weighted_fraction t15_clumps_arrangement_a02_chain_fraction t15_clumps_arrangement_a02_chain_weighted_fraction t15_clumps_arrangement_a03_cluster_fraction t15_clumps_arrangement_a03_cluster_weighted_fraction t15_clumps_arrangement_a04_spiral_fraction t15_clumps_arrangement_a04_spiral_weighted_fraction t15_clumps_arrangement_total_count t15_clumps_arrangement_total_weight t16_clumps_count_a02_2_fraction t16_clumps_count_a02_2_weighted_fraction t16_clumps_count_a03_3_fraction t16_clumps_count_a03_3_weighted_fraction t16_clumps_count_a04_4_fraction t16_clumps_count_a04_4_weighted_fraction t16_clumps_count_a05_more_than_4_fraction t16_clumps_count_a05_more_than_4_weighted_fraction t16_clumps_count_a06_cant_tell_fraction t16_clumps_count_a06_cant_tell_weighted_fraction t16_clumps_count_a01_1_fraction t16_clumps_count_a01_1_weighted_fraction t16_clumps_count_total_count t16_clumps_count_total_weight t17_clumps_symmetrical_a01_yes_fraction t17_clumps_symmetrical_a01_yes_weighted_fraction t17_clumps_symmetrical_a02_no_fraction t17_clumps_symmetrical_a02_no_weighted_fraction t17_clumps_symmetrical_total_count t17_clumps_symmetrical_total_weight t18_clumps_embedded_a01_yes_fraction t18_clumps_embedded_a01_yes_weighted_fraction t18_clumps_embedded_a02_no_fraction t18_clumps_embedded_a02_no_weighted_fraction t18_clumps_embedded_total_count t18_clumps_embedded_total_weight\n",
       "   bytes10          bytes19          bytes13      float64    float64         float64            float64           bytes17          float64        int16      float32                     float32                                         float32                                             float64                                          float64                                       float64                                        float64                                      bool                                        float32                                                   float32                                                       float64                                                    float64                                                 float64                                                  float64                                                bool                                             float32                                                   float32                                                  bool                                     int16                              float32                         float32                         float32                         float32                         float32                       int16                  float32                 float32                       float32                        float32                         float32                       int16              float32                   float32                             float32                              float32                               float32                           int16                  float32                          float32                                         float32                                            float32                                               float32                                            float32                                       float32                                        float32                                         float32                                    int16                            float32                      float32                       float32                      float32                     float32                     int16              float32                         float32                                       float32                                     float32                                 float32                                   float32                                   float32                              int16                  float32                       float32                               float32                                   float32                                       float32                                     float32                                     float32                                    float32                                     float32                                  float32                                 float32                                 float32                                 float32                                   float32                                     float32                                int16                      float32                          float32                                   float32                                 float32                               float32                                  float32                                   float32                                int16                      float32                          float32                                 float32                                  float32                                   float32                                  float32                                 float32                               int16                        float32                       float32                             float32                            float32                             float32                            float32                             float32                            float32                             float32                                 float32                                       float32                                     float32                                     float32                                int16                      float32                      float32                         float32                         float32                         float32                       int16                  float32                      float32                               float32                               float32                               float32                             int16                        float32                             float32                                       float32                                       float32                                       float32                                     int16                                float32                                float32                                       float32                                       float32                                       float32                                         float32                                         float32                                         float32                                         float32                                     int16                              float32                           float32                             float32                              float32                             float32                              float32                             float32                                   float32                                       float32                                       float32                                     float32                                  float32                             float32                             int16                        float32                            float32                                     float32                                     float32                                     float32                                   int16                              float32                             float32                                   float32                                  float32                                 float32                                 int16                          float32             \n",
       "------------- ------------------- ------------- ----------- ---------- ------------------- ----------------- ----------------- --------------- ----------- ------------ ------------------------------------------ --------------------------------------------------- --------------------------------------------------- --------------------------------------------- --------------------------------------------- ----------------------------------------------- -------------------------------------- ---------------------------------------------------- ------------------------------------------------------------- ------------------------------------------------------------- ------------------------------------------------------- ------------------------------------------------------- --------------------------------------------------------- ------------------------------------------------ ---------------------------------------------------- ------------------------------------------------------------- ------------------------------------------------ ---------------------------------- ----------------------------------- --------------------------- ------------------------------------ -------------------------- ----------------------------------- ---------------------- ----------------------- ------------------------ --------------------------------- --------------------------- ------------------------------------ ------------------- -------------------- ------------------------------ --------------------------------------- --------------------------------- ------------------------------------------ ---------------------- ----------------------- ------------------------------------------ --------------------------------------------------- ------------------------------------------------- ---------------------------------------------------------- ----------------------------------------- -------------------------------------------------- ------------------------------------------ --------------------------------------------------- -------------------------------- --------------------------------- ------------------------ --------------------------------- ----------------------- -------------------------------- ------------------- -------------------- ----------------------------------------- -------------------------------------------------- ----------------------------------- -------------------------------------------- ------------------------------------- ---------------------------------------------- ----------------------- ------------------------ --------------------------------- ------------------------------------------ ---------------------------------------- ------------------------------------------------- -------------------------------------- ----------------------------------------------- -------------------------------------- ----------------------------------------------- ---------------------------------- ------------------------------------------- ----------------------------------- -------------------------------------------- -------------------------------------- ----------------------------------------------- --------------------------- ---------------------------- ------------------------------------ --------------------------------------------- --------------------------------- ------------------------------------------ ------------------------------------- ---------------------------------------------- --------------------------- ---------------------------- ----------------------------------- -------------------------------------------- ------------------------------------ --------------------------------------------- ----------------------------------- -------------------------------------------- ---------------------------- ----------------------------- ------------------------------ --------------------------------------- ------------------------------ --------------------------------------- ------------------------------ --------------------------------------- ------------------------------ --------------------------------------- ---------------------------------------- ------------------------------------------------- -------------------------------------- ----------------------------------------------- --------------------------- ---------------------------- --------------------------- ------------------------------------ -------------------------- ----------------------------------- ---------------------- ----------------------- --------------------------------- ------------------------------------------ -------------------------------- ----------------------------------------- ---------------------------- ----------------------------- ----------------------------------------- -------------------------------------------------- ---------------------------------------- ------------------------------------------------- ------------------------------------ ------------------------------------- ---------------------------------------- ------------------------------------------------- ----------------------------------------- -------------------------------------------------- ------------------------------------------- ---------------------------------------------------- ------------------------------------------ --------------------------------------------------- ---------------------------------- ----------------------------------- ------------------------------- ---------------------------------------- ------------------------------- ---------------------------------------- ------------------------------- ---------------------------------------- ----------------------------------------- -------------------------------------------------- --------------------------------------- ------------------------------------------------ ------------------------------- ---------------------------------------- ---------------------------- ----------------------------- --------------------------------------- ------------------------------------------------ -------------------------------------- ----------------------------------------------- ---------------------------------- ----------------------------------- ------------------------------------ --------------------------------------------- ----------------------------------- -------------------------------------------- ------------------------------- --------------------------------\n",
       "   AGZ0007xmh 1                   hubble        188.8973182 62.2003343 0.09000000357627869 21.30505567392285 GOODS-N-FULLDEPTH             2.0          40         40.0                                        0.2                                                 0.2                                 0.35732136335336906                                           nan                                           nan                             0.20000001788139343                                  False                                                0.525                                                         0.525                                           0.36767863068616646                                                     nan                                                     nan                                        0.5249999761581421                                            False                                                0.275                                                         0.275                                            False                                 40                                40.0                  0.14285715                           0.14285715                 0.85714287                          0.85714287                      7                     7.0                      0.0                               0.0                         1.0                                  1.0                   6                  6.0                     0.16666667                              0.16666667                         0.8333333                                  0.8333333                      6                     6.0                                        0.5                                                 0.5                                               0.5                                                        0.5                                       0.0                                                0.0                                        0.0                                                 0.0                                6                               6.0                0.4827586                         0.4827586              0.51724136                       0.51724136                  29                 29.0                                       0.0                                                0.0                               0.625                                        0.625                                 0.375                                          0.375                       8                      8.0                               0.0                                        0.0                                      0.0                                               0.0                            0.071428575                                     0.071428575                              0.2857143                                       0.2857143                         0.35714287                                  0.35714287                           0.5714286                                    0.5714286                                    0.0                                             0.0                          14                         14.0                                  0.0                                           0.0                               0.0                                        0.0                                   1.0                                            1.0                           1                          1.0                                 0.0                                          0.0                                  0.0                                           0.0                                 1.0                                          1.0                            1                           1.0                            1.0                                     1.0                            0.0                                     0.0                            0.0                                     0.0                            0.0                                     0.0                                      0.0                                               0.0                                    0.0                                             0.0                           1                          1.0                   0.6666667                            0.6666667                 0.33333334                          0.33333334                     21                    21.0                               1.0                                        1.0                              0.0                                       0.0                           13                          13.0                                0.15384616                                         0.15384616                               0.84615386                                        0.84615386                                   13                                  13.0                                      0.4                                               0.4                                       0.4                                                0.4                                         0.0                                                  0.0                                        0.2                                                 0.2                                  5                                 5.0                     0.071428575                              0.071428575                       0.5714286                                0.5714286                      0.14285715                               0.14285715                               0.071428575                                        0.071428575                              0.14285715                                       0.14285715                             0.0                                      0.0                           14                          14.0                               0.6666667                                        0.6666667                             0.33333334                                      0.33333334                                  3                                 3.0                            0.6666667                                     0.6666667                          0.33333334                                   0.33333334                               3                              3.0"
      ]
     },
     "execution_count": 4,
     "metadata": {},
     "output_type": "execute_result"
    }
   ],
   "source": [
    "hubble[0]"
   ]
  },
  {
   "cell_type": "code",
   "execution_count": 5,
   "metadata": {},
   "outputs": [],
   "source": [
    "galaxy = [\"t01_smooth_or_features_a01_smooth_fraction\", \"t01_smooth_or_features_a02_features_or_disk_fraction\"]"
   ]
  },
  {
   "cell_type": "code",
   "execution_count": 6,
   "metadata": {},
   "outputs": [],
   "source": [
    "df_out = hubble[\"survey_id\", \"RA\", \"DEC\"].to_pandas()"
   ]
  },
  {
   "cell_type": "code",
   "execution_count": 7,
   "metadata": {},
   "outputs": [],
   "source": [
    "df_out[\"Galaxy\"] = hubble[galaxy[0]] + hubble[galaxy[1]]\n",
    "df_out[\"survey_id\"] = df_out[\"survey_id\"].astype(int)"
   ]
  },
  {
   "cell_type": "code",
   "execution_count": 78,
   "metadata": {},
   "outputs": [],
   "source": [
    "df_out.to_csv(data_loc + \"hubble.csv\", index = False)"
   ]
  },
  {
   "cell_type": "code",
   "execution_count": 102,
   "metadata": {},
   "outputs": [],
   "source": [
    "candels = Table.read(data_loc + \"gz_candels_table_2_main_release.fits\")"
   ]
  },
  {
   "cell_type": "code",
   "execution_count": 103,
   "metadata": {},
   "outputs": [],
   "source": [
    "df_out_2 = candels[\"ID\", \"RA\", \"Dec\"].to_pandas()\n",
    "\n",
    "ids = []\n",
    "for i in df_out_2[\"ID\"]:\n",
    "    ids.append(str(str(i).split(\"'\")[1].split()[0]))\n",
    "    \n",
    "df_out_2[\"ID\"] = ids"
   ]
  },
  {
   "cell_type": "code",
   "execution_count": 106,
   "metadata": {},
   "outputs": [],
   "source": [
    "df_out_2[\"Galaxy\"] = candels[\"t00_smooth_or_featured_a0_smooth_frac\"] + candels[\"t00_smooth_or_featured_a1_features_frac\"]"
   ]
  },
  {
   "cell_type": "code",
   "execution_count": 107,
   "metadata": {},
   "outputs": [],
   "source": [
    "df_out_2.to_csv(data_loc + \"candels.csv\", index = False)"
   ]
  },
  {
   "cell_type": "code",
   "execution_count": 108,
   "metadata": {},
   "outputs": [
    {
     "data": {
      "text/html": [
       "<div>\n",
       "<style scoped>\n",
       "    .dataframe tbody tr th:only-of-type {\n",
       "        vertical-align: middle;\n",
       "    }\n",
       "\n",
       "    .dataframe tbody tr th {\n",
       "        vertical-align: top;\n",
       "    }\n",
       "\n",
       "    .dataframe thead th {\n",
       "        text-align: right;\n",
       "    }\n",
       "</style>\n",
       "<table border=\"1\" class=\"dataframe\">\n",
       "  <thead>\n",
       "    <tr style=\"text-align: right;\">\n",
       "      <th></th>\n",
       "      <th>ID</th>\n",
       "      <th>RA</th>\n",
       "      <th>Dec</th>\n",
       "      <th>Galaxy</th>\n",
       "    </tr>\n",
       "  </thead>\n",
       "  <tbody>\n",
       "    <tr>\n",
       "      <th>0</th>\n",
       "      <td>COS_1</td>\n",
       "      <td>150.056820</td>\n",
       "      <td>2.173421</td>\n",
       "      <td>0.105263</td>\n",
       "    </tr>\n",
       "    <tr>\n",
       "      <th>1</th>\n",
       "      <td>COS_10</td>\n",
       "      <td>150.056860</td>\n",
       "      <td>2.174979</td>\n",
       "      <td>0.153846</td>\n",
       "    </tr>\n",
       "    <tr>\n",
       "      <th>2</th>\n",
       "      <td>COS_1000</td>\n",
       "      <td>150.084970</td>\n",
       "      <td>2.191447</td>\n",
       "      <td>0.894737</td>\n",
       "    </tr>\n",
       "    <tr>\n",
       "      <th>3</th>\n",
       "      <td>COS_10000</td>\n",
       "      <td>150.082170</td>\n",
       "      <td>2.299318</td>\n",
       "      <td>0.564103</td>\n",
       "    </tr>\n",
       "    <tr>\n",
       "      <th>4</th>\n",
       "      <td>COS_10002</td>\n",
       "      <td>150.203340</td>\n",
       "      <td>2.299440</td>\n",
       "      <td>0.527778</td>\n",
       "    </tr>\n",
       "    <tr>\n",
       "      <th>...</th>\n",
       "      <td>...</td>\n",
       "      <td>...</td>\n",
       "      <td>...</td>\n",
       "      <td>...</td>\n",
       "    </tr>\n",
       "    <tr>\n",
       "      <th>49550</th>\n",
       "      <td>UDS_9993</td>\n",
       "      <td>34.385551</td>\n",
       "      <td>-5.220046</td>\n",
       "      <td>0.666667</td>\n",
       "    </tr>\n",
       "    <tr>\n",
       "      <th>49551</th>\n",
       "      <td>UDS_9994</td>\n",
       "      <td>34.399144</td>\n",
       "      <td>-5.220006</td>\n",
       "      <td>0.611111</td>\n",
       "    </tr>\n",
       "    <tr>\n",
       "      <th>49552</th>\n",
       "      <td>UDS_9995</td>\n",
       "      <td>34.297177</td>\n",
       "      <td>-5.219938</td>\n",
       "      <td>0.625000</td>\n",
       "    </tr>\n",
       "    <tr>\n",
       "      <th>49553</th>\n",
       "      <td>UDS_9997</td>\n",
       "      <td>34.319162</td>\n",
       "      <td>-5.219902</td>\n",
       "      <td>0.631579</td>\n",
       "    </tr>\n",
       "    <tr>\n",
       "      <th>49554</th>\n",
       "      <td>UDS_9999</td>\n",
       "      <td>34.405709</td>\n",
       "      <td>-5.220026</td>\n",
       "      <td>0.763158</td>\n",
       "    </tr>\n",
       "  </tbody>\n",
       "</table>\n",
       "<p>49555 rows × 4 columns</p>\n",
       "</div>"
      ],
      "text/plain": [
       "              ID          RA       Dec    Galaxy\n",
       "0          COS_1  150.056820  2.173421  0.105263\n",
       "1         COS_10  150.056860  2.174979  0.153846\n",
       "2       COS_1000  150.084970  2.191447  0.894737\n",
       "3      COS_10000  150.082170  2.299318  0.564103\n",
       "4      COS_10002  150.203340  2.299440  0.527778\n",
       "...          ...         ...       ...       ...\n",
       "49550   UDS_9993   34.385551 -5.220046  0.666667\n",
       "49551   UDS_9994   34.399144 -5.220006  0.611111\n",
       "49552   UDS_9995   34.297177 -5.219938  0.625000\n",
       "49553   UDS_9997   34.319162 -5.219902  0.631579\n",
       "49554   UDS_9999   34.405709 -5.220026  0.763158\n",
       "\n",
       "[49555 rows x 4 columns]"
      ]
     },
     "execution_count": 108,
     "metadata": {},
     "output_type": "execute_result"
    }
   ],
   "source": [
    "df_out_2"
   ]
  },
  {
   "cell_type": "code",
   "execution_count": 68,
   "metadata": {},
   "outputs": [
    {
     "data": {
      "text/html": [
       "<div>\n",
       "<style scoped>\n",
       "    .dataframe tbody tr th:only-of-type {\n",
       "        vertical-align: middle;\n",
       "    }\n",
       "\n",
       "    .dataframe tbody tr th {\n",
       "        vertical-align: top;\n",
       "    }\n",
       "\n",
       "    .dataframe thead th {\n",
       "        text-align: right;\n",
       "    }\n",
       "</style>\n",
       "<table border=\"1\" class=\"dataframe\">\n",
       "  <thead>\n",
       "    <tr style=\"text-align: right;\">\n",
       "      <th></th>\n",
       "      <th>survey_id</th>\n",
       "      <th>RA</th>\n",
       "      <th>DEC</th>\n",
       "      <th>Galaxy</th>\n",
       "    </tr>\n",
       "  </thead>\n",
       "  <tbody>\n",
       "    <tr>\n",
       "      <th>0</th>\n",
       "      <td>1</td>\n",
       "      <td>188.897318</td>\n",
       "      <td>62.200334</td>\n",
       "      <td>0.725000</td>\n",
       "    </tr>\n",
       "    <tr>\n",
       "      <th>1</th>\n",
       "      <td>4</td>\n",
       "      <td>188.901464</td>\n",
       "      <td>62.200705</td>\n",
       "      <td>0.780488</td>\n",
       "    </tr>\n",
       "    <tr>\n",
       "      <th>2</th>\n",
       "      <td>6</td>\n",
       "      <td>188.901567</td>\n",
       "      <td>62.201482</td>\n",
       "      <td>0.825000</td>\n",
       "    </tr>\n",
       "    <tr>\n",
       "      <th>3</th>\n",
       "      <td>13</td>\n",
       "      <td>188.905098</td>\n",
       "      <td>62.199973</td>\n",
       "      <td>0.875000</td>\n",
       "    </tr>\n",
       "    <tr>\n",
       "      <th>4</th>\n",
       "      <td>16</td>\n",
       "      <td>188.906262</td>\n",
       "      <td>62.198074</td>\n",
       "      <td>0.731707</td>\n",
       "    </tr>\n",
       "    <tr>\n",
       "      <th>...</th>\n",
       "      <td>...</td>\n",
       "      <td>...</td>\n",
       "      <td>...</td>\n",
       "      <td>...</td>\n",
       "    </tr>\n",
       "    <tr>\n",
       "      <th>113700</th>\n",
       "      <td>90105528</td>\n",
       "      <td>52.873002</td>\n",
       "      <td>-27.580397</td>\n",
       "      <td>0.710000</td>\n",
       "    </tr>\n",
       "    <tr>\n",
       "      <th>113701</th>\n",
       "      <td>90105532</td>\n",
       "      <td>53.252911</td>\n",
       "      <td>-27.645872</td>\n",
       "      <td>0.606000</td>\n",
       "    </tr>\n",
       "    <tr>\n",
       "      <th>113702</th>\n",
       "      <td>90105589</td>\n",
       "      <td>52.982787</td>\n",
       "      <td>-27.578840</td>\n",
       "      <td>0.677000</td>\n",
       "    </tr>\n",
       "    <tr>\n",
       "      <th>113703</th>\n",
       "      <td>90107105</td>\n",
       "      <td>53.189682</td>\n",
       "      <td>-27.948248</td>\n",
       "      <td>0.174000</td>\n",
       "    </tr>\n",
       "    <tr>\n",
       "      <th>113704</th>\n",
       "      <td>90107114</td>\n",
       "      <td>53.190271</td>\n",
       "      <td>-27.948498</td>\n",
       "      <td>0.000000</td>\n",
       "    </tr>\n",
       "  </tbody>\n",
       "</table>\n",
       "<p>113705 rows × 4 columns</p>\n",
       "</div>"
      ],
      "text/plain": [
       "        survey_id          RA        DEC    Galaxy\n",
       "0               1  188.897318  62.200334  0.725000\n",
       "1               4  188.901464  62.200705  0.780488\n",
       "2               6  188.901567  62.201482  0.825000\n",
       "3              13  188.905098  62.199973  0.875000\n",
       "4              16  188.906262  62.198074  0.731707\n",
       "...           ...         ...        ...       ...\n",
       "113700   90105528   52.873002 -27.580397  0.710000\n",
       "113701   90105532   53.252911 -27.645872  0.606000\n",
       "113702   90105589   52.982787 -27.578840  0.677000\n",
       "113703   90107105   53.189682 -27.948248  0.174000\n",
       "113704   90107114   53.190271 -27.948498  0.000000\n",
       "\n",
       "[113705 rows x 4 columns]"
      ]
     },
     "execution_count": 68,
     "metadata": {},
     "output_type": "execute_result"
    }
   ],
   "source": [
    "df_out"
   ]
  },
  {
   "cell_type": "code",
   "execution_count": 10,
   "metadata": {},
   "outputs": [
    {
     "data": {
      "text/plain": [
       "109745"
      ]
     },
     "execution_count": 10,
     "metadata": {},
     "output_type": "execute_result"
    }
   ],
   "source": [
    "sum(df_out[\"Galaxy\"]>.5)"
   ]
  },
  {
   "cell_type": "code",
   "execution_count": null,
   "metadata": {},
   "outputs": [],
   "source": []
  }
 ],
 "metadata": {
  "kernelspec": {
   "display_name": "Python 3",
   "language": "python",
   "name": "python3"
  },
  "language_info": {
   "codemirror_mode": {
    "name": "ipython",
    "version": 3
   },
   "file_extension": ".py",
   "mimetype": "text/x-python",
   "name": "python",
   "nbconvert_exporter": "python",
   "pygments_lexer": "ipython3",
   "version": "3.7.6"
  }
 },
 "nbformat": 4,
 "nbformat_minor": 4
}
