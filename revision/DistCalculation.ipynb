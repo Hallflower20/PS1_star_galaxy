{
 "cells": [
  {
   "cell_type": "code",
   "execution_count": 1,
   "metadata": {},
   "outputs": [],
   "source": [
    "import numpy as np\n",
    "import pandas as pd \n",
    "from astropy.io import fits\n",
    "from astropy.table import Table\n",
    "import matplotlib.pyplot as plt\n",
    "import glob\n",
    "import gc\n",
    "\n",
    "%matplotlib inline"
   ]
  },
  {
   "cell_type": "code",
   "execution_count": 2,
   "metadata": {},
   "outputs": [],
   "source": [
    "directory = \"/home/xhall/Documents/PS1CrossMatch/\""
   ]
  },
  {
   "cell_type": "code",
   "execution_count": 3,
   "metadata": {},
   "outputs": [],
   "source": [
    "files = glob.glob(directory + \"/*.csv\")\n",
    "files = np.sort(files)"
   ]
  },
  {
   "cell_type": "code",
   "execution_count": 4,
   "metadata": {},
   "outputs": [
    {
     "name": "stdout",
     "output_type": "stream",
     "text": [
      "/home/xhall/Documents/PS1CrossMatch/PS1CrossMatch0_xhall.csv\n",
      "/home/xhall/Documents/PS1CrossMatch/PS1CrossMatch10_0_xhall.csv\n",
      "/home/xhall/Documents/PS1CrossMatch/PS1CrossMatch10_1_xhall.csv\n",
      "/home/xhall/Documents/PS1CrossMatch/PS1CrossMatch15_0_xhall.csv\n",
      "/home/xhall/Documents/PS1CrossMatch/PS1CrossMatch15_1_xhall.csv\n",
      "/home/xhall/Documents/PS1CrossMatch/PS1CrossMatch1_xhall.csv\n",
      "/home/xhall/Documents/PS1CrossMatch/PS1CrossMatch20_0_xhall.csv\n",
      "/home/xhall/Documents/PS1CrossMatch/PS1CrossMatch20_1_xhall.csv\n",
      "/home/xhall/Documents/PS1CrossMatch/PS1CrossMatch25_0_xhall.csv\n",
      "/home/xhall/Documents/PS1CrossMatch/PS1CrossMatch25_1_xhall.csv\n",
      "/home/xhall/Documents/PS1CrossMatch/PS1CrossMatch2_xhall.csv\n",
      "/home/xhall/Documents/PS1CrossMatch/PS1CrossMatch30_xhall.csv\n",
      "/home/xhall/Documents/PS1CrossMatch/PS1CrossMatch33_xhall.csv\n",
      "/home/xhall/Documents/PS1CrossMatch/PS1CrossMatch36_xhall.csv\n",
      "/home/xhall/Documents/PS1CrossMatch/PS1CrossMatch3_xhall.csv\n",
      "/home/xhall/Documents/PS1CrossMatch/PS1CrossMatch4_xhall.csv\n",
      "/home/xhall/Documents/PS1CrossMatch/PS1CrossMatch5_0_xhall.csv\n",
      "/home/xhall/Documents/PS1CrossMatch/PS1CrossMatch5_1_xhall.csv\n"
     ]
    }
   ],
   "source": [
    "PS1_Data_Array = []\n",
    "for i in files:\n",
    "    print(i)\n",
    "    PS1_Data_Array.append(pd.read_csv(i))"
   ]
  },
  {
   "cell_type": "code",
   "execution_count": 7,
   "metadata": {},
   "outputs": [],
   "source": [
    "PS1_Data = pd.concat(PS1_Data_Array, ignore_index = \"True\")"
   ]
  },
  {
   "cell_type": "code",
   "execution_count": 16,
   "metadata": {},
   "outputs": [],
   "source": [
    "PS1_Data_Sorted = PS1_Data.sort_values(\"objID\")"
   ]
  },
  {
   "cell_type": "code",
   "execution_count": 18,
   "metadata": {},
   "outputs": [],
   "source": [
    "PS1_Data_Sorted_nonan = PS1_Data_Sorted.dropna()"
   ]
  },
  {
   "cell_type": "code",
   "execution_count": null,
   "metadata": {},
   "outputs": [],
   "source": [
    "PS1_Data_Sorted.to_csv(\"/home/xhall/Documents/PS1CrossMatch/PS1_Match_Sorted.csv\", index=False)\n",
    "PS1_Data_Sorted_nonan.to_csv(\"/home/xhall/Documents/PS1CrossMatch/PS1_Match_Sorted_nonan.csv\", index=False)"
   ]
  },
  {
   "cell_type": "code",
   "execution_count": null,
   "metadata": {},
   "outputs": [],
   "source": []
  }
 ],
 "metadata": {
  "kernelspec": {
   "display_name": "Python 3",
   "language": "python",
   "name": "python3"
  },
  "language_info": {
   "codemirror_mode": {
    "name": "ipython",
    "version": 3
   },
   "file_extension": ".py",
   "mimetype": "text/x-python",
   "name": "python",
   "nbconvert_exporter": "python",
   "pygments_lexer": "ipython3",
   "version": "3.7.6"
  }
 },
 "nbformat": 4,
 "nbformat_minor": 4
}
