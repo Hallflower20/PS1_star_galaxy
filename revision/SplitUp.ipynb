{
 "cells": [
  {
   "cell_type": "code",
   "execution_count": 4,
   "metadata": {},
   "outputs": [],
   "source": [
    "import numpy as np\n",
    "import pandas as pd \n",
    "from astropy.io import fits\n",
    "import matplotlib.pyplot as plt\n",
    "from astropy.table import Table\n",
    "\n",
    "%matplotlib notebook"
   ]
  },
  {
   "cell_type": "code",
   "execution_count": 2,
   "metadata": {},
   "outputs": [],
   "source": [
    "table_dir = r\"C:/Users/20xha/Documents/Caltech/Research/Marshall/\""
   ]
  },
  {
   "cell_type": "code",
   "execution_count": 3,
   "metadata": {},
   "outputs": [
    {
     "name": "stderr",
     "output_type": "stream",
     "text": [
      "C:\\ProgramData\\Anaconda3\\envs\\Astronomy\\lib\\site-packages\\IPython\\core\\interactiveshell.py:3063: DtypeWarning: Columns (0) have mixed types.Specify dtype option on import or set low_memory=False.\n",
      "  interactivity=interactivity, compiler=compiler, result=result)\n"
     ]
    }
   ],
   "source": [
    "unclassified_stars = pd.read_table(table_dir + \"/stars_20180814_score0.5.txt\")"
   ]
  },
  {
   "cell_type": "code",
   "execution_count": 46,
   "metadata": {},
   "outputs": [],
   "source": [
    "split_table = []\n",
    "unclassified_stars_len = len(unclassified_stars)\n",
    "ranges = np.linspace(1, unclassified_stars_len-1, 40)\n",
    "for i in range(len(ranges)-1):\n",
    "    split_table.append(unclassified_stars.iloc[int(ranges[i]):int(ranges[i+1])])"
   ]
  },
  {
   "cell_type": "code",
   "execution_count": 47,
   "metadata": {},
   "outputs": [],
   "source": [
    "for i in range(len(split_table)):\n",
    "    split_table[i].to_csv(table_dir + \"/stars_20180814_\" + str(i) + \".csv\", index = False)"
   ]
  },
  {
   "cell_type": "code",
   "execution_count": 5,
   "metadata": {},
   "outputs": [
    {
     "name": "stderr",
     "output_type": "stream",
     "text": [
      "WARNING: OverflowError converting to IntType in column strid, reverting to String. [astropy.io.ascii.fastbasic]\n"
     ]
    },
    {
     "data": {
      "text/html": [
       "<i>Table length=10942237</i>\n",
       "<table id=\"table2564082132872\" class=\"table-striped table-bordered table-condensed\">\n",
       "<thead><tr><th>strid</th></tr></thead>\n",
       "<thead><tr><th>str18</th></tr></thead>\n",
       "<tr><td>150323150029637157</td></tr>\n",
       "<tr><td>150323149999958026</td></tr>\n",
       "<tr><td>150333150081438172</td></tr>\n",
       "<tr><td>150333149908634462</td></tr>\n",
       "<tr><td>150333149759523988</td></tr>\n",
       "<tr><td>150333149886119412</td></tr>\n",
       "<tr><td>150333150035078057</td></tr>\n",
       "<tr><td>150343150089180587</td></tr>\n",
       "<tr><td>150333149933909153</td></tr>\n",
       "<tr><td>150343149988352339</td></tr>\n",
       "<tr><td>...</td></tr>\n",
       "<tr><td>176453462589268157</td></tr>\n",
       "<tr><td>176463462304451809</td></tr>\n",
       "<tr><td>176453462902475764</td></tr>\n",
       "<tr><td>176463462910502998</td></tr>\n",
       "<tr><td>176453463163957555</td></tr>\n",
       "<tr><td>176463463090194267</td></tr>\n",
       "<tr><td>176463462730575368</td></tr>\n",
       "<tr><td>176463462891294636</td></tr>\n",
       "<tr><td>176463462857178420</td></tr>\n",
       "<tr><td>176473462699192293</td></tr>\n",
       "</table>"
      ],
      "text/plain": [
       "<Table length=10942237>\n",
       "      strid       \n",
       "      str18       \n",
       "------------------\n",
       "150323150029637157\n",
       "150323149999958026\n",
       "150333150081438172\n",
       "150333149908634462\n",
       "150333149759523988\n",
       "150333149886119412\n",
       "150333150035078057\n",
       "150343150089180587\n",
       "150333149933909153\n",
       "150343149988352339\n",
       "               ...\n",
       "176453462589268157\n",
       "176463462304451809\n",
       "176453462902475764\n",
       "176463462910502998\n",
       "176453463163957555\n",
       "176463463090194267\n",
       "176463462730575368\n",
       "176463462891294636\n",
       "176463462857178420\n",
       "176473462699192293"
      ]
     },
     "execution_count": 5,
     "metadata": {},
     "output_type": "execute_result"
    }
   ],
   "source": [
    "Table.read(table_dir + \"stars_20180814_0.csv\")"
   ]
  },
  {
   "cell_type": "code",
   "execution_count": null,
   "metadata": {},
   "outputs": [],
   "source": []
  }
 ],
 "metadata": {
  "kernelspec": {
   "display_name": "Python 3",
   "language": "python",
   "name": "python3"
  },
  "language_info": {
   "codemirror_mode": {
    "name": "ipython",
    "version": 3
   },
   "file_extension": ".py",
   "mimetype": "text/x-python",
   "name": "python",
   "nbconvert_exporter": "python",
   "pygments_lexer": "ipython3",
   "version": "3.7.6"
  }
 },
 "nbformat": 4,
 "nbformat_minor": 4
}
